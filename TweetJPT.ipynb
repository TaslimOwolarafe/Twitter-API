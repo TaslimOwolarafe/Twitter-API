{
 "cells": [
  {
   "cell_type": "code",
   "execution_count": 81,
   "id": "6e30fe8a",
   "metadata": {},
   "outputs": [],
   "source": [
    "import os, tweepy, dotenv, csv\n",
    "import webbrowser\n",
    "import dotenv\n",
    "import pandas as pd"
   ]
  },
  {
   "cell_type": "code",
   "execution_count": 14,
   "id": "c4126e98",
   "metadata": {},
   "outputs": [
    {
     "data": {
      "text/plain": [
       "True"
      ]
     },
     "execution_count": 14,
     "metadata": {},
     "output_type": "execute_result"
    }
   ],
   "source": [
    "from dotenv import load_dotenv\n",
    "load_dotenv()"
   ]
  },
  {
   "cell_type": "code",
   "execution_count": 15,
   "id": "c00a7417",
   "metadata": {},
   "outputs": [],
   "source": [
    "api_key = os.getenv('api_key')\n",
    "api_key_secret = os.getenv(\"api_key_secret\")\n",
    "access_token = os.getenv('access_token')\n",
    "access_token_secret = os.getenv(\"access_token_secret\")"
   ]
  },
  {
   "cell_type": "code",
   "execution_count": 16,
   "id": "2e49703e",
   "metadata": {},
   "outputs": [],
   "source": [
    "callback_uri = 'oob'\n",
    "auth = tweepy.OAuthHandler(api_key, api_key_secret, callback=callback_uri)"
   ]
  },
  {
   "cell_type": "code",
   "execution_count": 17,
   "id": "df488404",
   "metadata": {},
   "outputs": [],
   "source": [
    "redirect_url = auth.get_authorization_url()"
   ]
  },
  {
   "cell_type": "code",
   "execution_count": 18,
   "id": "9e25110b",
   "metadata": {},
   "outputs": [
    {
     "name": "stdout",
     "output_type": "stream",
     "text": [
      "https://api.twitter.com/oauth/authorize?oauth_token=bUYybgAAAAABgtOVAAABgxGX8xA\n"
     ]
    },
    {
     "data": {
      "text/plain": [
       "True"
      ]
     },
     "execution_count": 18,
     "metadata": {},
     "output_type": "execute_result"
    }
   ],
   "source": [
    "print(redirect_url)\n",
    "webbrowser.open(redirect_url)"
   ]
  },
  {
   "cell_type": "code",
   "execution_count": 19,
   "id": "087250da",
   "metadata": {},
   "outputs": [
    {
     "name": "stdout",
     "output_type": "stream",
     "text": [
      "None None\n",
      "What is the pin? 1540102\n"
     ]
    }
   ],
   "source": [
    "print(auth.access_token, auth.access_token_secret)\n",
    "user_pin = input(\"What is the pin? \")"
   ]
  },
  {
   "cell_type": "code",
   "execution_count": 20,
   "id": "09f657c1",
   "metadata": {},
   "outputs": [
    {
     "name": "stdout",
     "output_type": "stream",
     "text": [
      "1153676762552963072-aTA5t5pd14XMlh7I6YI3hfTytQ0Xho yeZzUQQWinX2qocA0mTwLsIXlLxuGhS6hsTsZLC4Gmdo8\n"
     ]
    }
   ],
   "source": [
    "auth.get_access_token(user_pin)\n",
    "print(auth.access_token, auth.access_token_secret)"
   ]
  },
  {
   "cell_type": "code",
   "execution_count": 142,
   "id": "2db26854",
   "metadata": {},
   "outputs": [],
   "source": [
    "api = tweepy.API(auth)"
   ]
  },
  {
   "cell_type": "code",
   "execution_count": 143,
   "id": "7797c7bf",
   "metadata": {},
   "outputs": [],
   "source": [
    "new_status = api.update_status(\"Hello world!\")"
   ]
  },
  {
   "cell_type": "code",
   "execution_count": 144,
   "id": "65474471",
   "metadata": {},
   "outputs": [
    {
     "name": "stdout",
     "output_type": "stream",
     "text": [
      "Status(_api=<tweepy.api.API object at 0x000002ADB8311B10>, _json={'created_at': 'Tue Sep 06 09:06:57 +0000 2022', 'id': 1567076877117833216, 'id_str': '1567076877117833216', 'text': 'Hello world!', 'truncated': False, 'entities': {'hashtags': [], 'symbols': [], 'user_mentions': [], 'urls': []}, 'source': '<a href=\"https://github.com/TaslimOwolarafe\" rel=\"nofollow\">TweetBotCatcher</a>', 'in_reply_to_status_id': None, 'in_reply_to_status_id_str': None, 'in_reply_to_user_id': None, 'in_reply_to_user_id_str': None, 'in_reply_to_screen_name': None, 'user': {'id': 1153676762552963072, 'id_str': '1153676762552963072', 'name': 'tas-sama', 'screen_name': 'tasleemm_', 'location': '7.5629° N, 4.5200° E', 'description': 'Nothing to see here yet..', 'url': 'https://t.co/sg7UjOGJt4', 'entities': {'url': {'urls': [{'url': 'https://t.co/sg7UjOGJt4', 'expanded_url': 'https://github.com/TaslimOwolarafe', 'display_url': 'github.com/TaslimOwolarafe', 'indices': [0, 23]}]}, 'description': {'urls': []}}, 'protected': True, 'followers_count': 467, 'friends_count': 440, 'listed_count': 0, 'created_at': 'Tue Jul 23 14:42:29 +0000 2019', 'favourites_count': 10498, 'utc_offset': None, 'time_zone': None, 'geo_enabled': True, 'verified': False, 'statuses_count': 2540, 'lang': None, 'contributors_enabled': False, 'is_translator': False, 'is_translation_enabled': False, 'profile_background_color': 'F5F8FA', 'profile_background_image_url': None, 'profile_background_image_url_https': None, 'profile_background_tile': False, 'profile_image_url': 'http://pbs.twimg.com/profile_images/1490304022678491140/sUhnDBxH_normal.jpg', 'profile_image_url_https': 'https://pbs.twimg.com/profile_images/1490304022678491140/sUhnDBxH_normal.jpg', 'profile_banner_url': 'https://pbs.twimg.com/profile_banners/1153676762552963072/1612275236', 'profile_link_color': '1DA1F2', 'profile_sidebar_border_color': 'C0DEED', 'profile_sidebar_fill_color': 'DDEEF6', 'profile_text_color': '333333', 'profile_use_background_image': True, 'has_extended_profile': True, 'default_profile': True, 'default_profile_image': False, 'following': False, 'follow_request_sent': False, 'notifications': False, 'translator_type': 'none', 'withheld_in_countries': []}, 'geo': None, 'coordinates': None, 'place': None, 'contributors': None, 'is_quote_status': False, 'retweet_count': 0, 'favorite_count': 0, 'favorited': False, 'retweeted': False, 'lang': 'en'}, created_at=datetime.datetime(2022, 9, 6, 9, 6, 57, tzinfo=datetime.timezone.utc), id=1567076877117833216, id_str='1567076877117833216', text='Hello world!', truncated=False, entities={'hashtags': [], 'symbols': [], 'user_mentions': [], 'urls': []}, source='TweetBotCatcher', source_url='https://github.com/TaslimOwolarafe', in_reply_to_status_id=None, in_reply_to_status_id_str=None, in_reply_to_user_id=None, in_reply_to_user_id_str=None, in_reply_to_screen_name=None, author=User(_api=<tweepy.api.API object at 0x000002ADB8311B10>, _json={'id': 1153676762552963072, 'id_str': '1153676762552963072', 'name': 'tas-sama', 'screen_name': 'tasleemm_', 'location': '7.5629° N, 4.5200° E', 'description': 'Nothing to see here yet..', 'url': 'https://t.co/sg7UjOGJt4', 'entities': {'url': {'urls': [{'url': 'https://t.co/sg7UjOGJt4', 'expanded_url': 'https://github.com/TaslimOwolarafe', 'display_url': 'github.com/TaslimOwolarafe', 'indices': [0, 23]}]}, 'description': {'urls': []}}, 'protected': True, 'followers_count': 467, 'friends_count': 440, 'listed_count': 0, 'created_at': 'Tue Jul 23 14:42:29 +0000 2019', 'favourites_count': 10498, 'utc_offset': None, 'time_zone': None, 'geo_enabled': True, 'verified': False, 'statuses_count': 2540, 'lang': None, 'contributors_enabled': False, 'is_translator': False, 'is_translation_enabled': False, 'profile_background_color': 'F5F8FA', 'profile_background_image_url': None, 'profile_background_image_url_https': None, 'profile_background_tile': False, 'profile_image_url': 'http://pbs.twimg.com/profile_images/1490304022678491140/sUhnDBxH_normal.jpg', 'profile_image_url_https': 'https://pbs.twimg.com/profile_images/1490304022678491140/sUhnDBxH_normal.jpg', 'profile_banner_url': 'https://pbs.twimg.com/profile_banners/1153676762552963072/1612275236', 'profile_link_color': '1DA1F2', 'profile_sidebar_border_color': 'C0DEED', 'profile_sidebar_fill_color': 'DDEEF6', 'profile_text_color': '333333', 'profile_use_background_image': True, 'has_extended_profile': True, 'default_profile': True, 'default_profile_image': False, 'following': False, 'follow_request_sent': False, 'notifications': False, 'translator_type': 'none', 'withheld_in_countries': []}, id=1153676762552963072, id_str='1153676762552963072', name='tas-sama', screen_name='tasleemm_', location='7.5629° N, 4.5200° E', description='Nothing to see here yet..', url='https://t.co/sg7UjOGJt4', entities={'url': {'urls': [{'url': 'https://t.co/sg7UjOGJt4', 'expanded_url': 'https://github.com/TaslimOwolarafe', 'display_url': 'github.com/TaslimOwolarafe', 'indices': [0, 23]}]}, 'description': {'urls': []}}, protected=True, followers_count=467, friends_count=440, listed_count=0, created_at=datetime.datetime(2019, 7, 23, 14, 42, 29, tzinfo=datetime.timezone.utc), favourites_count=10498, utc_offset=None, time_zone=None, geo_enabled=True, verified=False, statuses_count=2540, lang=None, contributors_enabled=False, is_translator=False, is_translation_enabled=False, profile_background_color='F5F8FA', profile_background_image_url=None, profile_background_image_url_https=None, profile_background_tile=False, profile_image_url='http://pbs.twimg.com/profile_images/1490304022678491140/sUhnDBxH_normal.jpg', profile_image_url_https='https://pbs.twimg.com/profile_images/1490304022678491140/sUhnDBxH_normal.jpg', profile_banner_url='https://pbs.twimg.com/profile_banners/1153676762552963072/1612275236', profile_link_color='1DA1F2', profile_sidebar_border_color='C0DEED', profile_sidebar_fill_color='DDEEF6', profile_text_color='333333', profile_use_background_image=True, has_extended_profile=True, default_profile=True, default_profile_image=False, following=False, follow_request_sent=False, notifications=False, translator_type='none', withheld_in_countries=[]), user=User(_api=<tweepy.api.API object at 0x000002ADB8311B10>, _json={'id': 1153676762552963072, 'id_str': '1153676762552963072', 'name': 'tas-sama', 'screen_name': 'tasleemm_', 'location': '7.5629° N, 4.5200° E', 'description': 'Nothing to see here yet..', 'url': 'https://t.co/sg7UjOGJt4', 'entities': {'url': {'urls': [{'url': 'https://t.co/sg7UjOGJt4', 'expanded_url': 'https://github.com/TaslimOwolarafe', 'display_url': 'github.com/TaslimOwolarafe', 'indices': [0, 23]}]}, 'description': {'urls': []}}, 'protected': True, 'followers_count': 467, 'friends_count': 440, 'listed_count': 0, 'created_at': 'Tue Jul 23 14:42:29 +0000 2019', 'favourites_count': 10498, 'utc_offset': None, 'time_zone': None, 'geo_enabled': True, 'verified': False, 'statuses_count': 2540, 'lang': None, 'contributors_enabled': False, 'is_translator': False, 'is_translation_enabled': False, 'profile_background_color': 'F5F8FA', 'profile_background_image_url': None, 'profile_background_image_url_https': None, 'profile_background_tile': False, 'profile_image_url': 'http://pbs.twimg.com/profile_images/1490304022678491140/sUhnDBxH_normal.jpg', 'profile_image_url_https': 'https://pbs.twimg.com/profile_images/1490304022678491140/sUhnDBxH_normal.jpg', 'profile_banner_url': 'https://pbs.twimg.com/profile_banners/1153676762552963072/1612275236', 'profile_link_color': '1DA1F2', 'profile_sidebar_border_color': 'C0DEED', 'profile_sidebar_fill_color': 'DDEEF6', 'profile_text_color': '333333', 'profile_use_background_image': True, 'has_extended_profile': True, 'default_profile': True, 'default_profile_image': False, 'following': False, 'follow_request_sent': False, 'notifications': False, 'translator_type': 'none', 'withheld_in_countries': []}, id=1153676762552963072, id_str='1153676762552963072', name='tas-sama', screen_name='tasleemm_', location='7.5629° N, 4.5200° E', description='Nothing to see here yet..', url='https://t.co/sg7UjOGJt4', entities={'url': {'urls': [{'url': 'https://t.co/sg7UjOGJt4', 'expanded_url': 'https://github.com/TaslimOwolarafe', 'display_url': 'github.com/TaslimOwolarafe', 'indices': [0, 23]}]}, 'description': {'urls': []}}, protected=True, followers_count=467, friends_count=440, listed_count=0, created_at=datetime.datetime(2019, 7, 23, 14, 42, 29, tzinfo=datetime.timezone.utc), favourites_count=10498, utc_offset=None, time_zone=None, geo_enabled=True, verified=False, statuses_count=2540, lang=None, contributors_enabled=False, is_translator=False, is_translation_enabled=False, profile_background_color='F5F8FA', profile_background_image_url=None, profile_background_image_url_https=None, profile_background_tile=False, profile_image_url='http://pbs.twimg.com/profile_images/1490304022678491140/sUhnDBxH_normal.jpg', profile_image_url_https='https://pbs.twimg.com/profile_images/1490304022678491140/sUhnDBxH_normal.jpg', profile_banner_url='https://pbs.twimg.com/profile_banners/1153676762552963072/1612275236', profile_link_color='1DA1F2', profile_sidebar_border_color='C0DEED', profile_sidebar_fill_color='DDEEF6', profile_text_color='333333', profile_use_background_image=True, has_extended_profile=True, default_profile=True, default_profile_image=False, following=False, follow_request_sent=False, notifications=False, translator_type='none', withheld_in_countries=[]), geo=None, coordinates=None, place=None, contributors=None, is_quote_status=False, retweet_count=0, favorite_count=0, favorited=False, retweeted=False, lang='en')\n"
     ]
    }
   ],
   "source": [
    "print(new_status)"
   ]
  },
  {
   "cell_type": "code",
   "execution_count": 145,
   "id": "d78e01c9",
   "metadata": {},
   "outputs": [
    {
     "data": {
      "text/plain": [
       "Status(_api=<tweepy.api.API object at 0x000002ADB8311B10>, _json={'created_at': 'Tue Sep 06 09:06:57 +0000 2022', 'id': 1567076877117833216, 'id_str': '1567076877117833216', 'text': 'Hello world!', 'truncated': False, 'entities': {'hashtags': [], 'symbols': [], 'user_mentions': [], 'urls': []}, 'source': '<a href=\"https://github.com/TaslimOwolarafe\" rel=\"nofollow\">TweetBotCatcher</a>', 'in_reply_to_status_id': None, 'in_reply_to_status_id_str': None, 'in_reply_to_user_id': None, 'in_reply_to_user_id_str': None, 'in_reply_to_screen_name': None, 'user': {'id': 1153676762552963072, 'id_str': '1153676762552963072', 'name': 'tas-sama', 'screen_name': 'tasleemm_', 'location': '7.5629° N, 4.5200° E', 'description': 'Nothing to see here yet..', 'url': 'https://t.co/sg7UjOGJt4', 'entities': {'url': {'urls': [{'url': 'https://t.co/sg7UjOGJt4', 'expanded_url': 'https://github.com/TaslimOwolarafe', 'display_url': 'github.com/TaslimOwolarafe', 'indices': [0, 23]}]}, 'description': {'urls': []}}, 'protected': True, 'followers_count': 467, 'friends_count': 440, 'listed_count': 0, 'created_at': 'Tue Jul 23 14:42:29 +0000 2019', 'favourites_count': 10498, 'utc_offset': None, 'time_zone': None, 'geo_enabled': True, 'verified': False, 'statuses_count': 2540, 'lang': None, 'contributors_enabled': False, 'is_translator': False, 'is_translation_enabled': False, 'profile_background_color': 'F5F8FA', 'profile_background_image_url': None, 'profile_background_image_url_https': None, 'profile_background_tile': False, 'profile_image_url': 'http://pbs.twimg.com/profile_images/1490304022678491140/sUhnDBxH_normal.jpg', 'profile_image_url_https': 'https://pbs.twimg.com/profile_images/1490304022678491140/sUhnDBxH_normal.jpg', 'profile_banner_url': 'https://pbs.twimg.com/profile_banners/1153676762552963072/1612275236', 'profile_link_color': '1DA1F2', 'profile_sidebar_border_color': 'C0DEED', 'profile_sidebar_fill_color': 'DDEEF6', 'profile_text_color': '333333', 'profile_use_background_image': True, 'has_extended_profile': True, 'default_profile': True, 'default_profile_image': False, 'following': False, 'follow_request_sent': False, 'notifications': False, 'translator_type': 'none', 'withheld_in_countries': []}, 'geo': None, 'coordinates': None, 'place': None, 'contributors': None, 'is_quote_status': False, 'retweet_count': 0, 'favorite_count': 0, 'favorited': False, 'retweeted': False, 'lang': 'en'}, created_at=datetime.datetime(2022, 9, 6, 9, 6, 57, tzinfo=datetime.timezone.utc), id=1567076877117833216, id_str='1567076877117833216', text='Hello world!', truncated=False, entities={'hashtags': [], 'symbols': [], 'user_mentions': [], 'urls': []}, source='TweetBotCatcher', source_url='https://github.com/TaslimOwolarafe', in_reply_to_status_id=None, in_reply_to_status_id_str=None, in_reply_to_user_id=None, in_reply_to_user_id_str=None, in_reply_to_screen_name=None, author=User(_api=<tweepy.api.API object at 0x000002ADB8311B10>, _json={'id': 1153676762552963072, 'id_str': '1153676762552963072', 'name': 'tas-sama', 'screen_name': 'tasleemm_', 'location': '7.5629° N, 4.5200° E', 'description': 'Nothing to see here yet..', 'url': 'https://t.co/sg7UjOGJt4', 'entities': {'url': {'urls': [{'url': 'https://t.co/sg7UjOGJt4', 'expanded_url': 'https://github.com/TaslimOwolarafe', 'display_url': 'github.com/TaslimOwolarafe', 'indices': [0, 23]}]}, 'description': {'urls': []}}, 'protected': True, 'followers_count': 467, 'friends_count': 440, 'listed_count': 0, 'created_at': 'Tue Jul 23 14:42:29 +0000 2019', 'favourites_count': 10498, 'utc_offset': None, 'time_zone': None, 'geo_enabled': True, 'verified': False, 'statuses_count': 2540, 'lang': None, 'contributors_enabled': False, 'is_translator': False, 'is_translation_enabled': False, 'profile_background_color': 'F5F8FA', 'profile_background_image_url': None, 'profile_background_image_url_https': None, 'profile_background_tile': False, 'profile_image_url': 'http://pbs.twimg.com/profile_images/1490304022678491140/sUhnDBxH_normal.jpg', 'profile_image_url_https': 'https://pbs.twimg.com/profile_images/1490304022678491140/sUhnDBxH_normal.jpg', 'profile_banner_url': 'https://pbs.twimg.com/profile_banners/1153676762552963072/1612275236', 'profile_link_color': '1DA1F2', 'profile_sidebar_border_color': 'C0DEED', 'profile_sidebar_fill_color': 'DDEEF6', 'profile_text_color': '333333', 'profile_use_background_image': True, 'has_extended_profile': True, 'default_profile': True, 'default_profile_image': False, 'following': False, 'follow_request_sent': False, 'notifications': False, 'translator_type': 'none', 'withheld_in_countries': []}, id=1153676762552963072, id_str='1153676762552963072', name='tas-sama', screen_name='tasleemm_', location='7.5629° N, 4.5200° E', description='Nothing to see here yet..', url='https://t.co/sg7UjOGJt4', entities={'url': {'urls': [{'url': 'https://t.co/sg7UjOGJt4', 'expanded_url': 'https://github.com/TaslimOwolarafe', 'display_url': 'github.com/TaslimOwolarafe', 'indices': [0, 23]}]}, 'description': {'urls': []}}, protected=True, followers_count=467, friends_count=440, listed_count=0, created_at=datetime.datetime(2019, 7, 23, 14, 42, 29, tzinfo=datetime.timezone.utc), favourites_count=10498, utc_offset=None, time_zone=None, geo_enabled=True, verified=False, statuses_count=2540, lang=None, contributors_enabled=False, is_translator=False, is_translation_enabled=False, profile_background_color='F5F8FA', profile_background_image_url=None, profile_background_image_url_https=None, profile_background_tile=False, profile_image_url='http://pbs.twimg.com/profile_images/1490304022678491140/sUhnDBxH_normal.jpg', profile_image_url_https='https://pbs.twimg.com/profile_images/1490304022678491140/sUhnDBxH_normal.jpg', profile_banner_url='https://pbs.twimg.com/profile_banners/1153676762552963072/1612275236', profile_link_color='1DA1F2', profile_sidebar_border_color='C0DEED', profile_sidebar_fill_color='DDEEF6', profile_text_color='333333', profile_use_background_image=True, has_extended_profile=True, default_profile=True, default_profile_image=False, following=False, follow_request_sent=False, notifications=False, translator_type='none', withheld_in_countries=[]), user=User(_api=<tweepy.api.API object at 0x000002ADB8311B10>, _json={'id': 1153676762552963072, 'id_str': '1153676762552963072', 'name': 'tas-sama', 'screen_name': 'tasleemm_', 'location': '7.5629° N, 4.5200° E', 'description': 'Nothing to see here yet..', 'url': 'https://t.co/sg7UjOGJt4', 'entities': {'url': {'urls': [{'url': 'https://t.co/sg7UjOGJt4', 'expanded_url': 'https://github.com/TaslimOwolarafe', 'display_url': 'github.com/TaslimOwolarafe', 'indices': [0, 23]}]}, 'description': {'urls': []}}, 'protected': True, 'followers_count': 467, 'friends_count': 440, 'listed_count': 0, 'created_at': 'Tue Jul 23 14:42:29 +0000 2019', 'favourites_count': 10498, 'utc_offset': None, 'time_zone': None, 'geo_enabled': True, 'verified': False, 'statuses_count': 2540, 'lang': None, 'contributors_enabled': False, 'is_translator': False, 'is_translation_enabled': False, 'profile_background_color': 'F5F8FA', 'profile_background_image_url': None, 'profile_background_image_url_https': None, 'profile_background_tile': False, 'profile_image_url': 'http://pbs.twimg.com/profile_images/1490304022678491140/sUhnDBxH_normal.jpg', 'profile_image_url_https': 'https://pbs.twimg.com/profile_images/1490304022678491140/sUhnDBxH_normal.jpg', 'profile_banner_url': 'https://pbs.twimg.com/profile_banners/1153676762552963072/1612275236', 'profile_link_color': '1DA1F2', 'profile_sidebar_border_color': 'C0DEED', 'profile_sidebar_fill_color': 'DDEEF6', 'profile_text_color': '333333', 'profile_use_background_image': True, 'has_extended_profile': True, 'default_profile': True, 'default_profile_image': False, 'following': False, 'follow_request_sent': False, 'notifications': False, 'translator_type': 'none', 'withheld_in_countries': []}, id=1153676762552963072, id_str='1153676762552963072', name='tas-sama', screen_name='tasleemm_', location='7.5629° N, 4.5200° E', description='Nothing to see here yet..', url='https://t.co/sg7UjOGJt4', entities={'url': {'urls': [{'url': 'https://t.co/sg7UjOGJt4', 'expanded_url': 'https://github.com/TaslimOwolarafe', 'display_url': 'github.com/TaslimOwolarafe', 'indices': [0, 23]}]}, 'description': {'urls': []}}, protected=True, followers_count=467, friends_count=440, listed_count=0, created_at=datetime.datetime(2019, 7, 23, 14, 42, 29, tzinfo=datetime.timezone.utc), favourites_count=10498, utc_offset=None, time_zone=None, geo_enabled=True, verified=False, statuses_count=2540, lang=None, contributors_enabled=False, is_translator=False, is_translation_enabled=False, profile_background_color='F5F8FA', profile_background_image_url=None, profile_background_image_url_https=None, profile_background_tile=False, profile_image_url='http://pbs.twimg.com/profile_images/1490304022678491140/sUhnDBxH_normal.jpg', profile_image_url_https='https://pbs.twimg.com/profile_images/1490304022678491140/sUhnDBxH_normal.jpg', profile_banner_url='https://pbs.twimg.com/profile_banners/1153676762552963072/1612275236', profile_link_color='1DA1F2', profile_sidebar_border_color='C0DEED', profile_sidebar_fill_color='DDEEF6', profile_text_color='333333', profile_use_background_image=True, has_extended_profile=True, default_profile=True, default_profile_image=False, following=False, follow_request_sent=False, notifications=False, translator_type='none', withheld_in_countries=[]), geo=None, coordinates=None, place=None, contributors=None, is_quote_status=False, retweet_count=0, favorite_count=0, favorited=False, retweeted=False, lang='en')"
      ]
     },
     "execution_count": 145,
     "metadata": {},
     "output_type": "execute_result"
    }
   ],
   "source": [
    "new_status.destroy()"
   ]
  },
  {
   "cell_type": "code",
   "execution_count": 146,
   "id": "fb591283",
   "metadata": {},
   "outputs": [
    {
     "data": {
      "text/plain": [
       "['__class__',\n",
       " '__delattr__',\n",
       " '__dict__',\n",
       " '__dir__',\n",
       " '__doc__',\n",
       " '__eq__',\n",
       " '__format__',\n",
       " '__ge__',\n",
       " '__getattribute__',\n",
       " '__getstate__',\n",
       " '__gt__',\n",
       " '__hash__',\n",
       " '__init__',\n",
       " '__init_subclass__',\n",
       " '__le__',\n",
       " '__lt__',\n",
       " '__module__',\n",
       " '__ne__',\n",
       " '__new__',\n",
       " '__reduce__',\n",
       " '__reduce_ex__',\n",
       " '__repr__',\n",
       " '__setattr__',\n",
       " '__sizeof__',\n",
       " '__slots__',\n",
       " '__str__',\n",
       " '__subclasshook__',\n",
       " '__weakref__',\n",
       " '_api',\n",
       " '_json',\n",
       " 'author',\n",
       " 'contributors',\n",
       " 'coordinates',\n",
       " 'created_at',\n",
       " 'destroy',\n",
       " 'entities',\n",
       " 'favorite',\n",
       " 'favorite_count',\n",
       " 'favorited',\n",
       " 'geo',\n",
       " 'id',\n",
       " 'id_str',\n",
       " 'in_reply_to_screen_name',\n",
       " 'in_reply_to_status_id',\n",
       " 'in_reply_to_status_id_str',\n",
       " 'in_reply_to_user_id',\n",
       " 'in_reply_to_user_id_str',\n",
       " 'is_quote_status',\n",
       " 'lang',\n",
       " 'parse',\n",
       " 'parse_list',\n",
       " 'place',\n",
       " 'retweet',\n",
       " 'retweet_count',\n",
       " 'retweeted',\n",
       " 'retweets',\n",
       " 'source',\n",
       " 'source_url',\n",
       " 'text',\n",
       " 'truncated',\n",
       " 'user']"
      ]
     },
     "execution_count": 146,
     "metadata": {},
     "output_type": "execute_result"
    }
   ],
   "source": [
    "dir(new_status)"
   ]
  },
  {
   "cell_type": "code",
   "execution_count": 147,
   "id": "f7de6ce3",
   "metadata": {},
   "outputs": [
    {
     "data": {
      "text/plain": [
       "['__class__',\n",
       " '__delattr__',\n",
       " '__dict__',\n",
       " '__dir__',\n",
       " '__doc__',\n",
       " '__eq__',\n",
       " '__format__',\n",
       " '__ge__',\n",
       " '__getattribute__',\n",
       " '__gt__',\n",
       " '__hash__',\n",
       " '__init__',\n",
       " '__init_subclass__',\n",
       " '__le__',\n",
       " '__lt__',\n",
       " '__module__',\n",
       " '__ne__',\n",
       " '__new__',\n",
       " '__reduce__',\n",
       " '__reduce_ex__',\n",
       " '__repr__',\n",
       " '__setattr__',\n",
       " '__sizeof__',\n",
       " '__str__',\n",
       " '__subclasshook__',\n",
       " '__weakref__',\n",
       " 'add_list_member',\n",
       " 'add_list_members',\n",
       " 'auth',\n",
       " 'available_trends',\n",
       " 'cache',\n",
       " 'cached_result',\n",
       " 'chunked_upload',\n",
       " 'chunked_upload_append',\n",
       " 'chunked_upload_finalize',\n",
       " 'chunked_upload_init',\n",
       " 'closest_trends',\n",
       " 'create_block',\n",
       " 'create_favorite',\n",
       " 'create_friendship',\n",
       " 'create_list',\n",
       " 'create_media_metadata',\n",
       " 'create_mute',\n",
       " 'create_saved_search',\n",
       " 'delete_direct_message',\n",
       " 'destroy_block',\n",
       " 'destroy_favorite',\n",
       " 'destroy_friendship',\n",
       " 'destroy_list',\n",
       " 'destroy_mute',\n",
       " 'destroy_saved_search',\n",
       " 'destroy_status',\n",
       " 'geo_id',\n",
       " 'get_blocked_ids',\n",
       " 'get_blocks',\n",
       " 'get_direct_message',\n",
       " 'get_direct_messages',\n",
       " 'get_favorites',\n",
       " 'get_follower_ids',\n",
       " 'get_followers',\n",
       " 'get_friend_ids',\n",
       " 'get_friends',\n",
       " 'get_friendship',\n",
       " 'get_list',\n",
       " 'get_list_member',\n",
       " 'get_list_members',\n",
       " 'get_list_memberships',\n",
       " 'get_list_ownerships',\n",
       " 'get_list_subscriber',\n",
       " 'get_list_subscribers',\n",
       " 'get_list_subscriptions',\n",
       " 'get_lists',\n",
       " 'get_media_upload_status',\n",
       " 'get_muted_ids',\n",
       " 'get_mutes',\n",
       " 'get_oembed',\n",
       " 'get_place_trends',\n",
       " 'get_profile_banner',\n",
       " 'get_retweeter_ids',\n",
       " 'get_retweets',\n",
       " 'get_retweets_of_me',\n",
       " 'get_saved_search',\n",
       " 'get_saved_searches',\n",
       " 'get_settings',\n",
       " 'get_status',\n",
       " 'get_user',\n",
       " 'home_timeline',\n",
       " 'host',\n",
       " 'incoming_friendships',\n",
       " 'indicate_direct_message_typing',\n",
       " 'last_response',\n",
       " 'list_timeline',\n",
       " 'lookup_friendships',\n",
       " 'lookup_statuses',\n",
       " 'lookup_users',\n",
       " 'mark_direct_message_read',\n",
       " 'media_upload',\n",
       " 'mentions_timeline',\n",
       " 'no_retweets_friendships',\n",
       " 'outgoing_friendships',\n",
       " 'parser',\n",
       " 'proxy',\n",
       " 'rate_limit_status',\n",
       " 'remove_list_member',\n",
       " 'remove_list_members',\n",
       " 'remove_profile_banner',\n",
       " 'report_spam',\n",
       " 'request',\n",
       " 'retry_count',\n",
       " 'retry_delay',\n",
       " 'retry_errors',\n",
       " 'retweet',\n",
       " 'reverse_geocode',\n",
       " 'search_30_day',\n",
       " 'search_full_archive',\n",
       " 'search_geo',\n",
       " 'search_tweets',\n",
       " 'search_users',\n",
       " 'send_direct_message',\n",
       " 'session',\n",
       " 'set_settings',\n",
       " 'simple_upload',\n",
       " 'subscribe_list',\n",
       " 'supported_languages',\n",
       " 'timeout',\n",
       " 'unretweet',\n",
       " 'unsubscribe_list',\n",
       " 'update_friendship',\n",
       " 'update_list',\n",
       " 'update_profile',\n",
       " 'update_profile_banner',\n",
       " 'update_profile_image',\n",
       " 'update_status',\n",
       " 'update_status_with_media',\n",
       " 'upload_host',\n",
       " 'user_agent',\n",
       " 'user_timeline',\n",
       " 'verify_credentials',\n",
       " 'wait_on_rate_limit']"
      ]
     },
     "execution_count": 147,
     "metadata": {},
     "output_type": "execute_result"
    }
   ],
   "source": [
    "dir(api)"
   ]
  },
  {
   "cell_type": "code",
   "execution_count": 148,
   "id": "3f70ebc3",
   "metadata": {},
   "outputs": [],
   "source": [
    "my_timeline = api.home_timeline()"
   ]
  },
  {
   "cell_type": "code",
   "execution_count": 149,
   "id": "c517c757",
   "metadata": {},
   "outputs": [],
   "source": [
    "columns = set()\n",
    "allowed_types = [int, str]\n",
    "tweets_data = []\n",
    "for status in my_timeline:\n",
    "#     print(dict(vars(status)), \"\\n \\n\")\n",
    "    status_dict = dict(vars(status))\n",
    "#     print(vars(status).keys(), \"\\n \\n\")\n",
    "    keys = status_dict.keys()\n",
    "    single_tweet_data = {}\n",
    "    for k in keys:\n",
    "        if type(status_dict[k]) in allowed_types:\n",
    "            columns.add(k)\n",
    "            \n",
    "for status in my_timeline:\n",
    "    status_dict = dict(vars(status))\n",
    "    single_tweet_data = {} \n",
    "    for h in columns:\n",
    "        try:\n",
    "            single_tweet_data[h] = status_dict[h]\n",
    "        except:\n",
    "            single_tweet_data[h] = \"NaN\"\n",
    "#     print(single_tweet_data)\n",
    "    tweets_data.append(single_tweet_data)\n",
    "\n",
    "tweets_data_list = [[j for j in x.values()] for x in tweets_data]\n",
    "header_cols = list(columns)"
   ]
  },
  {
   "cell_type": "code",
   "execution_count": 150,
   "id": "9d43b320",
   "metadata": {},
   "outputs": [
    {
     "name": "stdout",
     "output_type": "stream",
     "text": [
      "['lang', 'in_reply_to_status_id', 'retweet_count', 'in_reply_to_user_id_str', 'in_reply_to_status_id_str', 'in_reply_to_screen_name', 'quoted_status_id_str', 'id_str', 'in_reply_to_user_id', 'id', 'source', 'quoted_status_id', 'favorite_count', 'source_url', 'text'] \n",
      "\n",
      "[['it', None, 161, None, None, None, 'NaN', '1567076398812078083', None, 1567076398812078083, 'Twitter for Android', 'NaN', 0, 'http://twitter.com/download/android', 'RT @Buddol01: Ronaldo in Uefa Europa League 😂😂 https://t.co/eXvVotjDwD'], ['zxx', None, 0, None, None, None, 'NaN', '1567076238048591872', None, 1567076238048591872, 'Twitter for iPhone', 'NaN', 0, 'http://twitter.com/download/iphone', 'https://t.co/72Ic93yBKP'], ['und', None, 2, None, None, None, '1565668915514155008', '1567076065671102464', None, 1567076065671102464, 'Twitter for Android', 1565668915514155008, 0, 'http://twitter.com/download/android', 'RT @OladejiAdeniji1: LFG🚀🚀🚀'], ['en', None, 39, None, None, None, 'NaN', '1567075723407499264', None, 1567075723407499264, 'Twitter for iPhone', 'NaN', 0, 'http://twitter.com/download/iphone', 'RT @lostworldd__: tw: death, cSA *URGENT* \\n\\nMy dad attempted to hit me with his car yesterday .. I can’t press charged because no evidence…'], ['en', None, 10580, None, None, None, 'NaN', '1567075607195930624', None, 1567075607195930624, 'Twitter for iPhone', 'NaN', 0, 'http://twitter.com/download/iphone', 'RT @tayylaviex: this youtube comment 🤣 https://t.co/IGkNXMVtRM'], ['en', None, 0, None, None, None, '1566896771657306115', '1567075412408242176', None, 1567075412408242176, 'Twitter for Android', 1566896771657306115, 0, 'http://twitter.com/download/android', 'Lol\\nToxicly(if this is a word) long period of time https://t.co/73cOtrfxOw'], ['fr', None, 2, None, None, None, 'NaN', '1567075327381233666', None, 1567075327381233666, 'Twitter for iPhone', 'NaN', 0, 'http://twitter.com/download/iphone', 'RT @SolseekrBot: Top trending NFTs in the last 15 minutes:\\n\\n@gangofdcity (Sales: 11; FP: 0.069)\\n@ordinemquest (Sales: 11; FP: 2.45)\\n@AcidMo…'], ['en', 1567075226994806790, 0, '853835628613689344', '1567075226994806790', 'opemidimeji_xo', 'NaN', '1567075278790311938', 853835628613689344, 1567075278790311938, 'Twitter for Android', 'NaN', 1, 'http://twitter.com/download/android', 'make META just kuku merge all their apps abeg 😂'], ['en', None, 43, None, None, None, 'NaN', '1567075256409489412', None, 1567075256409489412, 'Twitter for iPhone', 'NaN', 0, 'http://twitter.com/download/iphone', 'RT @SkySportsNews: BREAKING NEWS 🚨: Southampton forward Nathan Redmond has been given permission to speak to Turkish clubs Besiktas, Fenerb…'], ['en', None, 0, None, None, None, 'NaN', '1567075226994806790', None, 1567075226994806790, 'Twitter for Android', 'NaN', 1, 'http://twitter.com/download/android', 'so WhatsApp now react to status like IG stories? 🌚'], ['en', None, 8, None, None, None, 'NaN', '1567075218857787394', None, 1567075218857787394, 'Twitter for iPhone', 'NaN', 0, 'http://twitter.com/download/iphone', 'RT @gunnerblog: 🔺Guendouzi still fiery\\n🔺Kolasinac thriving as a left-sided centre-back\\n🔺Tavares wanted permanent option in OM deal\\n🔺Alexis…'], ['en', None, 3, None, None, None, 'NaN', '1567075132488798208', None, 1567075132488798208, 'Twitter for Advertisers', 'NaN', 14, 'https://twitter.com', 'Sevilla, who are yet to win in the league this season, will have it all to do when they take on Man City in one of… https://t.co/BpfCETfagU'], ['en', None, 172, None, None, None, 'NaN', '1567074978289303553', None, 1567074978289303553, 'Twitter for iPhone', 'NaN', 0, 'http://twitter.com/download/iphone', 'RT @itschargiee: Take 4🤍 https://t.co/UsTT8wGmUT'], ['en', None, 771, None, None, None, 'NaN', '1567074939341082626', None, 1567074939341082626, 'Twitter for Android', 'NaN', 0, 'http://twitter.com/download/android', 'RT @Pheelz: One day the stars will align and you’ll be glad you never stopped 🙏🏽'], ['en', None, 482, None, None, None, 'NaN', '1567074933649326080', None, 1567074933649326080, 'TweetDeck', 'NaN', 0, 'https://about.twitter.com/products/tweetdeck', \"RT @rubendias: Ready to rock! The road to Istanbul starts tomorrow and we're ready for this Champions League campaign 💪🏻 Come on, City! 🔵…\"], ['en', None, 2, None, None, None, 'NaN', '1567074871850553347', None, 1567074871850553347, 'Twitter for iPhone', 'NaN', 0, 'http://twitter.com/download/iphone', 'RT @IamFrederickjr: Me: how do I turn you on \\n\\nComputer: seriously??'], ['en', None, 0, None, None, None, 'NaN', '1567074713112805376', None, 1567074713112805376, 'Twitter for iPhone', 'NaN', 1, 'http://twitter.com/download/iphone', 'Jason momoa is cutting his hair'], ['en', None, 220, None, None, None, 'NaN', '1567074565502779392', None, 1567074565502779392, 'Twitter for iPhone', 'NaN', 0, 'http://twitter.com/download/iphone', 'RT @ray_dee_ah: Name one fashion trend that makes you cringe😖'], ['en', None, 30, None, None, None, 'NaN', '1567074521592496128', None, 1567074521592496128, 'Twitter for iPhone', 'NaN', 0, 'http://twitter.com/download/iphone', 'RT @bvBillionVille: A.              or.            B?\\n\\nmaking for 2 person who comments their choice 👇👇 https://t.co/tfEhbyAKjV'], ['en', None, 20, None, None, None, 'NaN', '1567074509508808705', None, 1567074509508808705, 'Twitter for iPhone', 'NaN', 0, 'http://twitter.com/download/iphone', 'RT @TheEqualsDao: 🎉 The Equals DAO x CHEMICAL BOND™ 🎉\\n\\nGENESIS Pass · Collections from the Best Digital Artists\\n\\n1 x WL Spots \\n\\nTo Enter 👇…']]\n"
     ]
    }
   ],
   "source": [
    "print(header_cols, \"\\n\")\n",
    "print(tweets_data_list)\n",
    "# print(tweets_data_list)"
   ]
  },
  {
   "cell_type": "code",
   "execution_count": 151,
   "id": "8b208439",
   "metadata": {},
   "outputs": [],
   "source": [
    "# print(tweets_data)\n",
    "with open('timeline_data.csv', 'w', encoding='UTF8', newline='\\n') as f:\n",
    "    writer = csv.writer(f)\n",
    "    writer.writerow(header_cols)\n",
    "    writer.writerows(tweets_data_list)"
   ]
  },
  {
   "cell_type": "code",
   "execution_count": 152,
   "id": "0cbb2381",
   "metadata": {},
   "outputs": [
    {
     "data": {
      "text/html": [
       "<div>\n",
       "<style scoped>\n",
       "    .dataframe tbody tr th:only-of-type {\n",
       "        vertical-align: middle;\n",
       "    }\n",
       "\n",
       "    .dataframe tbody tr th {\n",
       "        vertical-align: top;\n",
       "    }\n",
       "\n",
       "    .dataframe thead th {\n",
       "        text-align: right;\n",
       "    }\n",
       "</style>\n",
       "<table border=\"1\" class=\"dataframe\">\n",
       "  <thead>\n",
       "    <tr style=\"text-align: right;\">\n",
       "      <th></th>\n",
       "      <th>lang</th>\n",
       "      <th>in_reply_to_status_id</th>\n",
       "      <th>retweet_count</th>\n",
       "      <th>in_reply_to_user_id_str</th>\n",
       "      <th>in_reply_to_status_id_str</th>\n",
       "      <th>in_reply_to_screen_name</th>\n",
       "      <th>quoted_status_id_str</th>\n",
       "      <th>id_str</th>\n",
       "      <th>in_reply_to_user_id</th>\n",
       "      <th>id</th>\n",
       "      <th>source</th>\n",
       "      <th>quoted_status_id</th>\n",
       "      <th>favorite_count</th>\n",
       "      <th>source_url</th>\n",
       "      <th>text</th>\n",
       "    </tr>\n",
       "  </thead>\n",
       "  <tbody>\n",
       "    <tr>\n",
       "      <th>0</th>\n",
       "      <td>it</td>\n",
       "      <td>NaN</td>\n",
       "      <td>161</td>\n",
       "      <td>None</td>\n",
       "      <td>None</td>\n",
       "      <td>None</td>\n",
       "      <td>NaN</td>\n",
       "      <td>1567076398812078083</td>\n",
       "      <td>NaN</td>\n",
       "      <td>1567076398812078083</td>\n",
       "      <td>Twitter for Android</td>\n",
       "      <td>NaN</td>\n",
       "      <td>0</td>\n",
       "      <td>http://twitter.com/download/android</td>\n",
       "      <td>RT @Buddol01: Ronaldo in Uefa Europa League 😂😂...</td>\n",
       "    </tr>\n",
       "    <tr>\n",
       "      <th>1</th>\n",
       "      <td>zxx</td>\n",
       "      <td>NaN</td>\n",
       "      <td>0</td>\n",
       "      <td>None</td>\n",
       "      <td>None</td>\n",
       "      <td>None</td>\n",
       "      <td>NaN</td>\n",
       "      <td>1567076238048591872</td>\n",
       "      <td>NaN</td>\n",
       "      <td>1567076238048591872</td>\n",
       "      <td>Twitter for iPhone</td>\n",
       "      <td>NaN</td>\n",
       "      <td>0</td>\n",
       "      <td>http://twitter.com/download/iphone</td>\n",
       "      <td>https://t.co/72Ic93yBKP</td>\n",
       "    </tr>\n",
       "    <tr>\n",
       "      <th>2</th>\n",
       "      <td>und</td>\n",
       "      <td>NaN</td>\n",
       "      <td>2</td>\n",
       "      <td>None</td>\n",
       "      <td>None</td>\n",
       "      <td>None</td>\n",
       "      <td>1565668915514155008</td>\n",
       "      <td>1567076065671102464</td>\n",
       "      <td>NaN</td>\n",
       "      <td>1567076065671102464</td>\n",
       "      <td>Twitter for Android</td>\n",
       "      <td>1565668915514155008</td>\n",
       "      <td>0</td>\n",
       "      <td>http://twitter.com/download/android</td>\n",
       "      <td>RT @OladejiAdeniji1: LFG🚀🚀🚀</td>\n",
       "    </tr>\n",
       "    <tr>\n",
       "      <th>3</th>\n",
       "      <td>en</td>\n",
       "      <td>NaN</td>\n",
       "      <td>39</td>\n",
       "      <td>None</td>\n",
       "      <td>None</td>\n",
       "      <td>None</td>\n",
       "      <td>NaN</td>\n",
       "      <td>1567075723407499264</td>\n",
       "      <td>NaN</td>\n",
       "      <td>1567075723407499264</td>\n",
       "      <td>Twitter for iPhone</td>\n",
       "      <td>NaN</td>\n",
       "      <td>0</td>\n",
       "      <td>http://twitter.com/download/iphone</td>\n",
       "      <td>RT @lostworldd__: tw: death, cSA *URGENT* \\n\\n...</td>\n",
       "    </tr>\n",
       "    <tr>\n",
       "      <th>4</th>\n",
       "      <td>en</td>\n",
       "      <td>NaN</td>\n",
       "      <td>10580</td>\n",
       "      <td>None</td>\n",
       "      <td>None</td>\n",
       "      <td>None</td>\n",
       "      <td>NaN</td>\n",
       "      <td>1567075607195930624</td>\n",
       "      <td>NaN</td>\n",
       "      <td>1567075607195930624</td>\n",
       "      <td>Twitter for iPhone</td>\n",
       "      <td>NaN</td>\n",
       "      <td>0</td>\n",
       "      <td>http://twitter.com/download/iphone</td>\n",
       "      <td>RT @tayylaviex: this youtube comment 🤣 https:/...</td>\n",
       "    </tr>\n",
       "  </tbody>\n",
       "</table>\n",
       "</div>"
      ],
      "text/plain": [
       "  lang  in_reply_to_status_id  retweet_count in_reply_to_user_id_str  \\\n",
       "0   it                    NaN            161                    None   \n",
       "1  zxx                    NaN              0                    None   \n",
       "2  und                    NaN              2                    None   \n",
       "3   en                    NaN             39                    None   \n",
       "4   en                    NaN          10580                    None   \n",
       "\n",
       "  in_reply_to_status_id_str in_reply_to_screen_name quoted_status_id_str  \\\n",
       "0                      None                    None                  NaN   \n",
       "1                      None                    None                  NaN   \n",
       "2                      None                    None  1565668915514155008   \n",
       "3                      None                    None                  NaN   \n",
       "4                      None                    None                  NaN   \n",
       "\n",
       "                id_str  in_reply_to_user_id                   id  \\\n",
       "0  1567076398812078083                  NaN  1567076398812078083   \n",
       "1  1567076238048591872                  NaN  1567076238048591872   \n",
       "2  1567076065671102464                  NaN  1567076065671102464   \n",
       "3  1567075723407499264                  NaN  1567075723407499264   \n",
       "4  1567075607195930624                  NaN  1567075607195930624   \n",
       "\n",
       "                source     quoted_status_id  favorite_count  \\\n",
       "0  Twitter for Android                  NaN               0   \n",
       "1   Twitter for iPhone                  NaN               0   \n",
       "2  Twitter for Android  1565668915514155008               0   \n",
       "3   Twitter for iPhone                  NaN               0   \n",
       "4   Twitter for iPhone                  NaN               0   \n",
       "\n",
       "                            source_url  \\\n",
       "0  http://twitter.com/download/android   \n",
       "1   http://twitter.com/download/iphone   \n",
       "2  http://twitter.com/download/android   \n",
       "3   http://twitter.com/download/iphone   \n",
       "4   http://twitter.com/download/iphone   \n",
       "\n",
       "                                                text  \n",
       "0  RT @Buddol01: Ronaldo in Uefa Europa League 😂😂...  \n",
       "1                            https://t.co/72Ic93yBKP  \n",
       "2                        RT @OladejiAdeniji1: LFG🚀🚀🚀  \n",
       "3  RT @lostworldd__: tw: death, cSA *URGENT* \\n\\n...  \n",
       "4  RT @tayylaviex: this youtube comment 🤣 https:/...  "
      ]
     },
     "execution_count": 152,
     "metadata": {},
     "output_type": "execute_result"
    }
   ],
   "source": [
    "df = pd.DataFrame(tweets_data, columns=header_cols)\n",
    "df.head()"
   ]
  },
  {
   "cell_type": "code",
   "execution_count": null,
   "id": "e4225e59",
   "metadata": {},
   "outputs": [],
   "source": []
  },
  {
   "cell_type": "code",
   "execution_count": null,
   "id": "8e1346b4",
   "metadata": {},
   "outputs": [],
   "source": []
  }
 ],
 "metadata": {
  "kernelspec": {
   "display_name": "twitterVenv",
   "language": "python",
   "name": "twittervenv"
  },
  "language_info": {
   "codemirror_mode": {
    "name": "ipython",
    "version": 3
   },
   "file_extension": ".py",
   "mimetype": "text/x-python",
   "name": "python",
   "nbconvert_exporter": "python",
   "pygments_lexer": "ipython3",
   "version": "3.10.1"
  }
 },
 "nbformat": 4,
 "nbformat_minor": 5
}
