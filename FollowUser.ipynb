{
 "cells": [
  {
   "cell_type": "code",
   "execution_count": 2,
   "id": "6e30fe8a",
   "metadata": {},
   "outputs": [],
   "source": [
    "import os, tweepy, dotenv, csv\n",
    "import webbrowser\n",
    "import dotenv\n",
    "import pandas as pd"
   ]
  },
  {
   "cell_type": "code",
   "execution_count": 3,
   "id": "c4126e98",
   "metadata": {},
   "outputs": [
    {
     "data": {
      "text/plain": [
       "True"
      ]
     },
     "execution_count": 3,
     "metadata": {},
     "output_type": "execute_result"
    }
   ],
   "source": [
    "from dotenv import load_dotenv\n",
    "load_dotenv()"
   ]
  },
  {
   "cell_type": "code",
   "execution_count": 4,
   "id": "c00a7417",
   "metadata": {},
   "outputs": [],
   "source": [
    "api_key = os.getenv('api_key')\n",
    "api_key_secret = os.getenv(\"api_key_secret\")\n",
    "access_token = os.getenv('access_token')\n",
    "access_token_secret = os.getenv(\"access_token_secret\")"
   ]
  },
  {
   "cell_type": "code",
   "execution_count": 5,
   "id": "2e49703e",
   "metadata": {},
   "outputs": [],
   "source": [
    "callback_uri = 'oob'\n",
    "auth = tweepy.OAuthHandler(api_key, api_key_secret, callback=callback_uri)"
   ]
  },
  {
   "cell_type": "code",
   "execution_count": 6,
   "id": "df488404",
   "metadata": {},
   "outputs": [],
   "source": [
    "redirect_url = auth.get_authorization_url()"
   ]
  },
  {
   "cell_type": "code",
   "execution_count": 7,
   "id": "9e25110b",
   "metadata": {},
   "outputs": [
    {
     "name": "stdout",
     "output_type": "stream",
     "text": [
      "https://api.twitter.com/oauth/authorize?oauth_token=WlyKBAAAAAABgtOVAAABgxdkNpc\n"
     ]
    },
    {
     "data": {
      "text/plain": [
       "True"
      ]
     },
     "execution_count": 7,
     "metadata": {},
     "output_type": "execute_result"
    }
   ],
   "source": [
    "print(redirect_url)\n",
    "webbrowser.open(redirect_url)"
   ]
  },
  {
   "cell_type": "code",
   "execution_count": 18,
   "id": "087250da",
   "metadata": {},
   "outputs": [
    {
     "name": "stdout",
     "output_type": "stream",
     "text": [
      "1153676762552963072-aTA5t5pd14XMlh7I6YI3hfTytQ0Xho yeZzUQQWinX2qocA0mTwLsIXlLxuGhS6hsTsZLC4Gmdo8\n",
      "What is the pin? \n"
     ]
    }
   ],
   "source": [
    "print(auth.access_token, auth.access_token_secret)\n",
    "user_pin = input(\"What is the pin? \")"
   ]
  },
  {
   "cell_type": "code",
   "execution_count": 19,
   "id": "09f657c1",
   "metadata": {},
   "outputs": [
    {
     "ename": "TweepyException",
     "evalue": "No client verifier has been set.",
     "output_type": "error",
     "traceback": [
      "\u001b[1;31m---------------------------------------------------------------------------\u001b[0m",
      "\u001b[1;31mVerifierMissing\u001b[0m                           Traceback (most recent call last)",
      "File \u001b[1;32m~\\Desktop\\Tweeter\\twitterVenv\\lib\\site-packages\\tweepy\\auth.py:95\u001b[0m, in \u001b[0;36mOAuth1UserHandler.get_access_token\u001b[1;34m(self, verifier)\u001b[0m\n\u001b[0;32m     89\u001b[0m \u001b[38;5;28mself\u001b[39m\u001b[38;5;241m.\u001b[39moauth \u001b[38;5;241m=\u001b[39m OAuth1Session(\n\u001b[0;32m     90\u001b[0m     \u001b[38;5;28mself\u001b[39m\u001b[38;5;241m.\u001b[39mconsumer_key, client_secret\u001b[38;5;241m=\u001b[39m\u001b[38;5;28mself\u001b[39m\u001b[38;5;241m.\u001b[39mconsumer_secret,\n\u001b[0;32m     91\u001b[0m     resource_owner_key\u001b[38;5;241m=\u001b[39m\u001b[38;5;28mself\u001b[39m\u001b[38;5;241m.\u001b[39mrequest_token[\u001b[38;5;124m'\u001b[39m\u001b[38;5;124moauth_token\u001b[39m\u001b[38;5;124m'\u001b[39m],\n\u001b[0;32m     92\u001b[0m     resource_owner_secret\u001b[38;5;241m=\u001b[39m\u001b[38;5;28mself\u001b[39m\u001b[38;5;241m.\u001b[39mrequest_token[\u001b[38;5;124m'\u001b[39m\u001b[38;5;124moauth_token_secret\u001b[39m\u001b[38;5;124m'\u001b[39m],\n\u001b[0;32m     93\u001b[0m     verifier\u001b[38;5;241m=\u001b[39mverifier, callback_uri\u001b[38;5;241m=\u001b[39m\u001b[38;5;28mself\u001b[39m\u001b[38;5;241m.\u001b[39mcallback\n\u001b[0;32m     94\u001b[0m )\n\u001b[1;32m---> 95\u001b[0m resp \u001b[38;5;241m=\u001b[39m \u001b[38;5;28;43mself\u001b[39;49m\u001b[38;5;241;43m.\u001b[39;49m\u001b[43moauth\u001b[49m\u001b[38;5;241;43m.\u001b[39;49m\u001b[43mfetch_access_token\u001b[49m\u001b[43m(\u001b[49m\u001b[43murl\u001b[49m\u001b[43m)\u001b[49m\n\u001b[0;32m     96\u001b[0m \u001b[38;5;28mself\u001b[39m\u001b[38;5;241m.\u001b[39maccess_token \u001b[38;5;241m=\u001b[39m resp[\u001b[38;5;124m'\u001b[39m\u001b[38;5;124moauth_token\u001b[39m\u001b[38;5;124m'\u001b[39m]\n",
      "File \u001b[1;32m~\\Desktop\\Tweeter\\twitterVenv\\lib\\site-packages\\requests_oauthlib\\oauth1_session.py:322\u001b[0m, in \u001b[0;36mOAuth1Session.fetch_access_token\u001b[1;34m(self, url, verifier, **request_kwargs)\u001b[0m\n\u001b[0;32m    321\u001b[0m \u001b[38;5;28;01mif\u001b[39;00m \u001b[38;5;129;01mnot\u001b[39;00m \u001b[38;5;28mgetattr\u001b[39m(\u001b[38;5;28mself\u001b[39m\u001b[38;5;241m.\u001b[39m_client\u001b[38;5;241m.\u001b[39mclient, \u001b[38;5;124m\"\u001b[39m\u001b[38;5;124mverifier\u001b[39m\u001b[38;5;124m\"\u001b[39m, \u001b[38;5;28;01mNone\u001b[39;00m):\n\u001b[1;32m--> 322\u001b[0m     \u001b[38;5;28;01mraise\u001b[39;00m VerifierMissing(\u001b[38;5;124m\"\u001b[39m\u001b[38;5;124mNo client verifier has been set.\u001b[39m\u001b[38;5;124m\"\u001b[39m)\n\u001b[0;32m    323\u001b[0m token \u001b[38;5;241m=\u001b[39m \u001b[38;5;28mself\u001b[39m\u001b[38;5;241m.\u001b[39m_fetch_token(url, \u001b[38;5;241m*\u001b[39m\u001b[38;5;241m*\u001b[39mrequest_kwargs)\n",
      "\u001b[1;31mVerifierMissing\u001b[0m: No client verifier has been set.",
      "\nDuring handling of the above exception, another exception occurred:\n",
      "\u001b[1;31mTweepyException\u001b[0m                           Traceback (most recent call last)",
      "Input \u001b[1;32mIn [19]\u001b[0m, in \u001b[0;36m<cell line: 1>\u001b[1;34m()\u001b[0m\n\u001b[1;32m----> 1\u001b[0m \u001b[43mauth\u001b[49m\u001b[38;5;241;43m.\u001b[39;49m\u001b[43mget_access_token\u001b[49m\u001b[43m(\u001b[49m\u001b[43muser_pin\u001b[49m\u001b[43m)\u001b[49m\n\u001b[0;32m      2\u001b[0m \u001b[38;5;28mprint\u001b[39m(auth\u001b[38;5;241m.\u001b[39maccess_token, auth\u001b[38;5;241m.\u001b[39maccess_token_secret)\n",
      "File \u001b[1;32m~\\Desktop\\Tweeter\\twitterVenv\\lib\\site-packages\\tweepy\\auth.py:100\u001b[0m, in \u001b[0;36mOAuth1UserHandler.get_access_token\u001b[1;34m(self, verifier)\u001b[0m\n\u001b[0;32m     98\u001b[0m     \u001b[38;5;28;01mreturn\u001b[39;00m \u001b[38;5;28mself\u001b[39m\u001b[38;5;241m.\u001b[39maccess_token, \u001b[38;5;28mself\u001b[39m\u001b[38;5;241m.\u001b[39maccess_token_secret\n\u001b[0;32m     99\u001b[0m \u001b[38;5;28;01mexcept\u001b[39;00m \u001b[38;5;167;01mException\u001b[39;00m \u001b[38;5;28;01mas\u001b[39;00m e:\n\u001b[1;32m--> 100\u001b[0m     \u001b[38;5;28;01mraise\u001b[39;00m TweepyException(e)\n",
      "\u001b[1;31mTweepyException\u001b[0m: No client verifier has been set."
     ]
    }
   ],
   "source": [
    "auth.get_access_token(user_pin)\n",
    "print(auth.access_token, auth.access_token_secret)"
   ]
  },
  {
   "cell_type": "code",
   "execution_count": 20,
   "id": "2db26854",
   "metadata": {},
   "outputs": [],
   "source": [
    "api = tweepy.API(auth)"
   ]
  },
  {
   "cell_type": "code",
   "execution_count": 21,
   "id": "7797c7bf",
   "metadata": {},
   "outputs": [],
   "source": [
    "new_status = api.update_status(\"Hello world!\")"
   ]
  },
  {
   "cell_type": "code",
   "execution_count": 22,
   "id": "65474471",
   "metadata": {},
   "outputs": [
    {
     "name": "stdout",
     "output_type": "stream",
     "text": [
      "Status(_api=<tweepy.api.API object at 0x000001BE5C780FD0>, _json={'created_at': 'Wed Sep 07 10:00:10 +0000 2022', 'id': 1567452661317877763, 'id_str': '1567452661317877763', 'text': 'Hello world!', 'truncated': False, 'entities': {'hashtags': [], 'symbols': [], 'user_mentions': [], 'urls': []}, 'source': '<a href=\"https://github.com/TaslimOwolarafe\" rel=\"nofollow\">TweetBotCatcher</a>', 'in_reply_to_status_id': None, 'in_reply_to_status_id_str': None, 'in_reply_to_user_id': None, 'in_reply_to_user_id_str': None, 'in_reply_to_screen_name': None, 'user': {'id': 1153676762552963072, 'id_str': '1153676762552963072', 'name': 'tas-sama', 'screen_name': 'tasleemm_', 'location': '7.5629° N, 4.5200° E', 'description': 'Nothing to see here yet..', 'url': 'https://t.co/sg7UjOGJt4', 'entities': {'url': {'urls': [{'url': 'https://t.co/sg7UjOGJt4', 'expanded_url': 'https://github.com/TaslimOwolarafe', 'display_url': 'github.com/TaslimOwolarafe', 'indices': [0, 23]}]}, 'description': {'urls': []}}, 'protected': True, 'followers_count': 467, 'friends_count': 440, 'listed_count': 0, 'created_at': 'Tue Jul 23 14:42:29 +0000 2019', 'favourites_count': 10500, 'utc_offset': None, 'time_zone': None, 'geo_enabled': True, 'verified': False, 'statuses_count': 2546, 'lang': None, 'contributors_enabled': False, 'is_translator': False, 'is_translation_enabled': False, 'profile_background_color': 'F5F8FA', 'profile_background_image_url': None, 'profile_background_image_url_https': None, 'profile_background_tile': False, 'profile_image_url': 'http://pbs.twimg.com/profile_images/1490304022678491140/sUhnDBxH_normal.jpg', 'profile_image_url_https': 'https://pbs.twimg.com/profile_images/1490304022678491140/sUhnDBxH_normal.jpg', 'profile_banner_url': 'https://pbs.twimg.com/profile_banners/1153676762552963072/1612275236', 'profile_link_color': '1DA1F2', 'profile_sidebar_border_color': 'C0DEED', 'profile_sidebar_fill_color': 'DDEEF6', 'profile_text_color': '333333', 'profile_use_background_image': True, 'has_extended_profile': True, 'default_profile': True, 'default_profile_image': False, 'following': False, 'follow_request_sent': False, 'notifications': False, 'translator_type': 'none', 'withheld_in_countries': []}, 'geo': None, 'coordinates': None, 'place': None, 'contributors': None, 'is_quote_status': False, 'retweet_count': 0, 'favorite_count': 0, 'favorited': False, 'retweeted': False, 'lang': 'en'}, created_at=datetime.datetime(2022, 9, 7, 10, 0, 10, tzinfo=datetime.timezone.utc), id=1567452661317877763, id_str='1567452661317877763', text='Hello world!', truncated=False, entities={'hashtags': [], 'symbols': [], 'user_mentions': [], 'urls': []}, source='TweetBotCatcher', source_url='https://github.com/TaslimOwolarafe', in_reply_to_status_id=None, in_reply_to_status_id_str=None, in_reply_to_user_id=None, in_reply_to_user_id_str=None, in_reply_to_screen_name=None, author=User(_api=<tweepy.api.API object at 0x000001BE5C780FD0>, _json={'id': 1153676762552963072, 'id_str': '1153676762552963072', 'name': 'tas-sama', 'screen_name': 'tasleemm_', 'location': '7.5629° N, 4.5200° E', 'description': 'Nothing to see here yet..', 'url': 'https://t.co/sg7UjOGJt4', 'entities': {'url': {'urls': [{'url': 'https://t.co/sg7UjOGJt4', 'expanded_url': 'https://github.com/TaslimOwolarafe', 'display_url': 'github.com/TaslimOwolarafe', 'indices': [0, 23]}]}, 'description': {'urls': []}}, 'protected': True, 'followers_count': 467, 'friends_count': 440, 'listed_count': 0, 'created_at': 'Tue Jul 23 14:42:29 +0000 2019', 'favourites_count': 10500, 'utc_offset': None, 'time_zone': None, 'geo_enabled': True, 'verified': False, 'statuses_count': 2546, 'lang': None, 'contributors_enabled': False, 'is_translator': False, 'is_translation_enabled': False, 'profile_background_color': 'F5F8FA', 'profile_background_image_url': None, 'profile_background_image_url_https': None, 'profile_background_tile': False, 'profile_image_url': 'http://pbs.twimg.com/profile_images/1490304022678491140/sUhnDBxH_normal.jpg', 'profile_image_url_https': 'https://pbs.twimg.com/profile_images/1490304022678491140/sUhnDBxH_normal.jpg', 'profile_banner_url': 'https://pbs.twimg.com/profile_banners/1153676762552963072/1612275236', 'profile_link_color': '1DA1F2', 'profile_sidebar_border_color': 'C0DEED', 'profile_sidebar_fill_color': 'DDEEF6', 'profile_text_color': '333333', 'profile_use_background_image': True, 'has_extended_profile': True, 'default_profile': True, 'default_profile_image': False, 'following': False, 'follow_request_sent': False, 'notifications': False, 'translator_type': 'none', 'withheld_in_countries': []}, id=1153676762552963072, id_str='1153676762552963072', name='tas-sama', screen_name='tasleemm_', location='7.5629° N, 4.5200° E', description='Nothing to see here yet..', url='https://t.co/sg7UjOGJt4', entities={'url': {'urls': [{'url': 'https://t.co/sg7UjOGJt4', 'expanded_url': 'https://github.com/TaslimOwolarafe', 'display_url': 'github.com/TaslimOwolarafe', 'indices': [0, 23]}]}, 'description': {'urls': []}}, protected=True, followers_count=467, friends_count=440, listed_count=0, created_at=datetime.datetime(2019, 7, 23, 14, 42, 29, tzinfo=datetime.timezone.utc), favourites_count=10500, utc_offset=None, time_zone=None, geo_enabled=True, verified=False, statuses_count=2546, lang=None, contributors_enabled=False, is_translator=False, is_translation_enabled=False, profile_background_color='F5F8FA', profile_background_image_url=None, profile_background_image_url_https=None, profile_background_tile=False, profile_image_url='http://pbs.twimg.com/profile_images/1490304022678491140/sUhnDBxH_normal.jpg', profile_image_url_https='https://pbs.twimg.com/profile_images/1490304022678491140/sUhnDBxH_normal.jpg', profile_banner_url='https://pbs.twimg.com/profile_banners/1153676762552963072/1612275236', profile_link_color='1DA1F2', profile_sidebar_border_color='C0DEED', profile_sidebar_fill_color='DDEEF6', profile_text_color='333333', profile_use_background_image=True, has_extended_profile=True, default_profile=True, default_profile_image=False, following=False, follow_request_sent=False, notifications=False, translator_type='none', withheld_in_countries=[]), user=User(_api=<tweepy.api.API object at 0x000001BE5C780FD0>, _json={'id': 1153676762552963072, 'id_str': '1153676762552963072', 'name': 'tas-sama', 'screen_name': 'tasleemm_', 'location': '7.5629° N, 4.5200° E', 'description': 'Nothing to see here yet..', 'url': 'https://t.co/sg7UjOGJt4', 'entities': {'url': {'urls': [{'url': 'https://t.co/sg7UjOGJt4', 'expanded_url': 'https://github.com/TaslimOwolarafe', 'display_url': 'github.com/TaslimOwolarafe', 'indices': [0, 23]}]}, 'description': {'urls': []}}, 'protected': True, 'followers_count': 467, 'friends_count': 440, 'listed_count': 0, 'created_at': 'Tue Jul 23 14:42:29 +0000 2019', 'favourites_count': 10500, 'utc_offset': None, 'time_zone': None, 'geo_enabled': True, 'verified': False, 'statuses_count': 2546, 'lang': None, 'contributors_enabled': False, 'is_translator': False, 'is_translation_enabled': False, 'profile_background_color': 'F5F8FA', 'profile_background_image_url': None, 'profile_background_image_url_https': None, 'profile_background_tile': False, 'profile_image_url': 'http://pbs.twimg.com/profile_images/1490304022678491140/sUhnDBxH_normal.jpg', 'profile_image_url_https': 'https://pbs.twimg.com/profile_images/1490304022678491140/sUhnDBxH_normal.jpg', 'profile_banner_url': 'https://pbs.twimg.com/profile_banners/1153676762552963072/1612275236', 'profile_link_color': '1DA1F2', 'profile_sidebar_border_color': 'C0DEED', 'profile_sidebar_fill_color': 'DDEEF6', 'profile_text_color': '333333', 'profile_use_background_image': True, 'has_extended_profile': True, 'default_profile': True, 'default_profile_image': False, 'following': False, 'follow_request_sent': False, 'notifications': False, 'translator_type': 'none', 'withheld_in_countries': []}, id=1153676762552963072, id_str='1153676762552963072', name='tas-sama', screen_name='tasleemm_', location='7.5629° N, 4.5200° E', description='Nothing to see here yet..', url='https://t.co/sg7UjOGJt4', entities={'url': {'urls': [{'url': 'https://t.co/sg7UjOGJt4', 'expanded_url': 'https://github.com/TaslimOwolarafe', 'display_url': 'github.com/TaslimOwolarafe', 'indices': [0, 23]}]}, 'description': {'urls': []}}, protected=True, followers_count=467, friends_count=440, listed_count=0, created_at=datetime.datetime(2019, 7, 23, 14, 42, 29, tzinfo=datetime.timezone.utc), favourites_count=10500, utc_offset=None, time_zone=None, geo_enabled=True, verified=False, statuses_count=2546, lang=None, contributors_enabled=False, is_translator=False, is_translation_enabled=False, profile_background_color='F5F8FA', profile_background_image_url=None, profile_background_image_url_https=None, profile_background_tile=False, profile_image_url='http://pbs.twimg.com/profile_images/1490304022678491140/sUhnDBxH_normal.jpg', profile_image_url_https='https://pbs.twimg.com/profile_images/1490304022678491140/sUhnDBxH_normal.jpg', profile_banner_url='https://pbs.twimg.com/profile_banners/1153676762552963072/1612275236', profile_link_color='1DA1F2', profile_sidebar_border_color='C0DEED', profile_sidebar_fill_color='DDEEF6', profile_text_color='333333', profile_use_background_image=True, has_extended_profile=True, default_profile=True, default_profile_image=False, following=False, follow_request_sent=False, notifications=False, translator_type='none', withheld_in_countries=[]), geo=None, coordinates=None, place=None, contributors=None, is_quote_status=False, retweet_count=0, favorite_count=0, favorited=False, retweeted=False, lang='en')\n"
     ]
    }
   ],
   "source": [
    "print(new_status)"
   ]
  },
  {
   "cell_type": "code",
   "execution_count": 23,
   "id": "d78e01c9",
   "metadata": {},
   "outputs": [
    {
     "data": {
      "text/plain": [
       "Status(_api=<tweepy.api.API object at 0x000001BE5C780FD0>, _json={'created_at': 'Wed Sep 07 10:00:10 +0000 2022', 'id': 1567452661317877763, 'id_str': '1567452661317877763', 'text': 'Hello world!', 'truncated': False, 'entities': {'hashtags': [], 'symbols': [], 'user_mentions': [], 'urls': []}, 'source': '<a href=\"https://github.com/TaslimOwolarafe\" rel=\"nofollow\">TweetBotCatcher</a>', 'in_reply_to_status_id': None, 'in_reply_to_status_id_str': None, 'in_reply_to_user_id': None, 'in_reply_to_user_id_str': None, 'in_reply_to_screen_name': None, 'user': {'id': 1153676762552963072, 'id_str': '1153676762552963072', 'name': 'tas-sama', 'screen_name': 'tasleemm_', 'location': '7.5629° N, 4.5200° E', 'description': 'Nothing to see here yet..', 'url': 'https://t.co/sg7UjOGJt4', 'entities': {'url': {'urls': [{'url': 'https://t.co/sg7UjOGJt4', 'expanded_url': 'https://github.com/TaslimOwolarafe', 'display_url': 'github.com/TaslimOwolarafe', 'indices': [0, 23]}]}, 'description': {'urls': []}}, 'protected': True, 'followers_count': 467, 'friends_count': 440, 'listed_count': 0, 'created_at': 'Tue Jul 23 14:42:29 +0000 2019', 'favourites_count': 10500, 'utc_offset': None, 'time_zone': None, 'geo_enabled': True, 'verified': False, 'statuses_count': 2546, 'lang': None, 'contributors_enabled': False, 'is_translator': False, 'is_translation_enabled': False, 'profile_background_color': 'F5F8FA', 'profile_background_image_url': None, 'profile_background_image_url_https': None, 'profile_background_tile': False, 'profile_image_url': 'http://pbs.twimg.com/profile_images/1490304022678491140/sUhnDBxH_normal.jpg', 'profile_image_url_https': 'https://pbs.twimg.com/profile_images/1490304022678491140/sUhnDBxH_normal.jpg', 'profile_banner_url': 'https://pbs.twimg.com/profile_banners/1153676762552963072/1612275236', 'profile_link_color': '1DA1F2', 'profile_sidebar_border_color': 'C0DEED', 'profile_sidebar_fill_color': 'DDEEF6', 'profile_text_color': '333333', 'profile_use_background_image': True, 'has_extended_profile': True, 'default_profile': True, 'default_profile_image': False, 'following': False, 'follow_request_sent': False, 'notifications': False, 'translator_type': 'none', 'withheld_in_countries': []}, 'geo': None, 'coordinates': None, 'place': None, 'contributors': None, 'is_quote_status': False, 'retweet_count': 0, 'favorite_count': 0, 'favorited': False, 'retweeted': False, 'lang': 'en'}, created_at=datetime.datetime(2022, 9, 7, 10, 0, 10, tzinfo=datetime.timezone.utc), id=1567452661317877763, id_str='1567452661317877763', text='Hello world!', truncated=False, entities={'hashtags': [], 'symbols': [], 'user_mentions': [], 'urls': []}, source='TweetBotCatcher', source_url='https://github.com/TaslimOwolarafe', in_reply_to_status_id=None, in_reply_to_status_id_str=None, in_reply_to_user_id=None, in_reply_to_user_id_str=None, in_reply_to_screen_name=None, author=User(_api=<tweepy.api.API object at 0x000001BE5C780FD0>, _json={'id': 1153676762552963072, 'id_str': '1153676762552963072', 'name': 'tas-sama', 'screen_name': 'tasleemm_', 'location': '7.5629° N, 4.5200° E', 'description': 'Nothing to see here yet..', 'url': 'https://t.co/sg7UjOGJt4', 'entities': {'url': {'urls': [{'url': 'https://t.co/sg7UjOGJt4', 'expanded_url': 'https://github.com/TaslimOwolarafe', 'display_url': 'github.com/TaslimOwolarafe', 'indices': [0, 23]}]}, 'description': {'urls': []}}, 'protected': True, 'followers_count': 467, 'friends_count': 440, 'listed_count': 0, 'created_at': 'Tue Jul 23 14:42:29 +0000 2019', 'favourites_count': 10500, 'utc_offset': None, 'time_zone': None, 'geo_enabled': True, 'verified': False, 'statuses_count': 2546, 'lang': None, 'contributors_enabled': False, 'is_translator': False, 'is_translation_enabled': False, 'profile_background_color': 'F5F8FA', 'profile_background_image_url': None, 'profile_background_image_url_https': None, 'profile_background_tile': False, 'profile_image_url': 'http://pbs.twimg.com/profile_images/1490304022678491140/sUhnDBxH_normal.jpg', 'profile_image_url_https': 'https://pbs.twimg.com/profile_images/1490304022678491140/sUhnDBxH_normal.jpg', 'profile_banner_url': 'https://pbs.twimg.com/profile_banners/1153676762552963072/1612275236', 'profile_link_color': '1DA1F2', 'profile_sidebar_border_color': 'C0DEED', 'profile_sidebar_fill_color': 'DDEEF6', 'profile_text_color': '333333', 'profile_use_background_image': True, 'has_extended_profile': True, 'default_profile': True, 'default_profile_image': False, 'following': False, 'follow_request_sent': False, 'notifications': False, 'translator_type': 'none', 'withheld_in_countries': []}, id=1153676762552963072, id_str='1153676762552963072', name='tas-sama', screen_name='tasleemm_', location='7.5629° N, 4.5200° E', description='Nothing to see here yet..', url='https://t.co/sg7UjOGJt4', entities={'url': {'urls': [{'url': 'https://t.co/sg7UjOGJt4', 'expanded_url': 'https://github.com/TaslimOwolarafe', 'display_url': 'github.com/TaslimOwolarafe', 'indices': [0, 23]}]}, 'description': {'urls': []}}, protected=True, followers_count=467, friends_count=440, listed_count=0, created_at=datetime.datetime(2019, 7, 23, 14, 42, 29, tzinfo=datetime.timezone.utc), favourites_count=10500, utc_offset=None, time_zone=None, geo_enabled=True, verified=False, statuses_count=2546, lang=None, contributors_enabled=False, is_translator=False, is_translation_enabled=False, profile_background_color='F5F8FA', profile_background_image_url=None, profile_background_image_url_https=None, profile_background_tile=False, profile_image_url='http://pbs.twimg.com/profile_images/1490304022678491140/sUhnDBxH_normal.jpg', profile_image_url_https='https://pbs.twimg.com/profile_images/1490304022678491140/sUhnDBxH_normal.jpg', profile_banner_url='https://pbs.twimg.com/profile_banners/1153676762552963072/1612275236', profile_link_color='1DA1F2', profile_sidebar_border_color='C0DEED', profile_sidebar_fill_color='DDEEF6', profile_text_color='333333', profile_use_background_image=True, has_extended_profile=True, default_profile=True, default_profile_image=False, following=False, follow_request_sent=False, notifications=False, translator_type='none', withheld_in_countries=[]), user=User(_api=<tweepy.api.API object at 0x000001BE5C780FD0>, _json={'id': 1153676762552963072, 'id_str': '1153676762552963072', 'name': 'tas-sama', 'screen_name': 'tasleemm_', 'location': '7.5629° N, 4.5200° E', 'description': 'Nothing to see here yet..', 'url': 'https://t.co/sg7UjOGJt4', 'entities': {'url': {'urls': [{'url': 'https://t.co/sg7UjOGJt4', 'expanded_url': 'https://github.com/TaslimOwolarafe', 'display_url': 'github.com/TaslimOwolarafe', 'indices': [0, 23]}]}, 'description': {'urls': []}}, 'protected': True, 'followers_count': 467, 'friends_count': 440, 'listed_count': 0, 'created_at': 'Tue Jul 23 14:42:29 +0000 2019', 'favourites_count': 10500, 'utc_offset': None, 'time_zone': None, 'geo_enabled': True, 'verified': False, 'statuses_count': 2546, 'lang': None, 'contributors_enabled': False, 'is_translator': False, 'is_translation_enabled': False, 'profile_background_color': 'F5F8FA', 'profile_background_image_url': None, 'profile_background_image_url_https': None, 'profile_background_tile': False, 'profile_image_url': 'http://pbs.twimg.com/profile_images/1490304022678491140/sUhnDBxH_normal.jpg', 'profile_image_url_https': 'https://pbs.twimg.com/profile_images/1490304022678491140/sUhnDBxH_normal.jpg', 'profile_banner_url': 'https://pbs.twimg.com/profile_banners/1153676762552963072/1612275236', 'profile_link_color': '1DA1F2', 'profile_sidebar_border_color': 'C0DEED', 'profile_sidebar_fill_color': 'DDEEF6', 'profile_text_color': '333333', 'profile_use_background_image': True, 'has_extended_profile': True, 'default_profile': True, 'default_profile_image': False, 'following': False, 'follow_request_sent': False, 'notifications': False, 'translator_type': 'none', 'withheld_in_countries': []}, id=1153676762552963072, id_str='1153676762552963072', name='tas-sama', screen_name='tasleemm_', location='7.5629° N, 4.5200° E', description='Nothing to see here yet..', url='https://t.co/sg7UjOGJt4', entities={'url': {'urls': [{'url': 'https://t.co/sg7UjOGJt4', 'expanded_url': 'https://github.com/TaslimOwolarafe', 'display_url': 'github.com/TaslimOwolarafe', 'indices': [0, 23]}]}, 'description': {'urls': []}}, protected=True, followers_count=467, friends_count=440, listed_count=0, created_at=datetime.datetime(2019, 7, 23, 14, 42, 29, tzinfo=datetime.timezone.utc), favourites_count=10500, utc_offset=None, time_zone=None, geo_enabled=True, verified=False, statuses_count=2546, lang=None, contributors_enabled=False, is_translator=False, is_translation_enabled=False, profile_background_color='F5F8FA', profile_background_image_url=None, profile_background_image_url_https=None, profile_background_tile=False, profile_image_url='http://pbs.twimg.com/profile_images/1490304022678491140/sUhnDBxH_normal.jpg', profile_image_url_https='https://pbs.twimg.com/profile_images/1490304022678491140/sUhnDBxH_normal.jpg', profile_banner_url='https://pbs.twimg.com/profile_banners/1153676762552963072/1612275236', profile_link_color='1DA1F2', profile_sidebar_border_color='C0DEED', profile_sidebar_fill_color='DDEEF6', profile_text_color='333333', profile_use_background_image=True, has_extended_profile=True, default_profile=True, default_profile_image=False, following=False, follow_request_sent=False, notifications=False, translator_type='none', withheld_in_countries=[]), geo=None, coordinates=None, place=None, contributors=None, is_quote_status=False, retweet_count=0, favorite_count=0, favorited=False, retweeted=False, lang='en')"
      ]
     },
     "execution_count": 23,
     "metadata": {},
     "output_type": "execute_result"
    }
   ],
   "source": [
    "new_status.destroy()"
   ]
  },
  {
   "cell_type": "code",
   "execution_count": 24,
   "id": "fb591283",
   "metadata": {},
   "outputs": [
    {
     "data": {
      "text/plain": [
       "['__class__',\n",
       " '__delattr__',\n",
       " '__dict__',\n",
       " '__dir__',\n",
       " '__doc__',\n",
       " '__eq__',\n",
       " '__format__',\n",
       " '__ge__',\n",
       " '__getattribute__',\n",
       " '__getstate__',\n",
       " '__gt__',\n",
       " '__hash__',\n",
       " '__init__',\n",
       " '__init_subclass__',\n",
       " '__le__',\n",
       " '__lt__',\n",
       " '__module__',\n",
       " '__ne__',\n",
       " '__new__',\n",
       " '__reduce__',\n",
       " '__reduce_ex__',\n",
       " '__repr__',\n",
       " '__setattr__',\n",
       " '__sizeof__',\n",
       " '__slots__',\n",
       " '__str__',\n",
       " '__subclasshook__',\n",
       " '__weakref__',\n",
       " '_api',\n",
       " '_json',\n",
       " 'author',\n",
       " 'contributors',\n",
       " 'coordinates',\n",
       " 'created_at',\n",
       " 'destroy',\n",
       " 'entities',\n",
       " 'favorite',\n",
       " 'favorite_count',\n",
       " 'favorited',\n",
       " 'geo',\n",
       " 'id',\n",
       " 'id_str',\n",
       " 'in_reply_to_screen_name',\n",
       " 'in_reply_to_status_id',\n",
       " 'in_reply_to_status_id_str',\n",
       " 'in_reply_to_user_id',\n",
       " 'in_reply_to_user_id_str',\n",
       " 'is_quote_status',\n",
       " 'lang',\n",
       " 'parse',\n",
       " 'parse_list',\n",
       " 'place',\n",
       " 'retweet',\n",
       " 'retweet_count',\n",
       " 'retweeted',\n",
       " 'retweets',\n",
       " 'source',\n",
       " 'source_url',\n",
       " 'text',\n",
       " 'truncated',\n",
       " 'user']"
      ]
     },
     "execution_count": 24,
     "metadata": {},
     "output_type": "execute_result"
    }
   ],
   "source": [
    "dir(new_status)"
   ]
  },
  {
   "cell_type": "code",
   "execution_count": 25,
   "id": "f7de6ce3",
   "metadata": {},
   "outputs": [
    {
     "data": {
      "text/plain": [
       "['__class__',\n",
       " '__delattr__',\n",
       " '__dict__',\n",
       " '__dir__',\n",
       " '__doc__',\n",
       " '__eq__',\n",
       " '__format__',\n",
       " '__ge__',\n",
       " '__getattribute__',\n",
       " '__gt__',\n",
       " '__hash__',\n",
       " '__init__',\n",
       " '__init_subclass__',\n",
       " '__le__',\n",
       " '__lt__',\n",
       " '__module__',\n",
       " '__ne__',\n",
       " '__new__',\n",
       " '__reduce__',\n",
       " '__reduce_ex__',\n",
       " '__repr__',\n",
       " '__setattr__',\n",
       " '__sizeof__',\n",
       " '__str__',\n",
       " '__subclasshook__',\n",
       " '__weakref__',\n",
       " 'add_list_member',\n",
       " 'add_list_members',\n",
       " 'auth',\n",
       " 'available_trends',\n",
       " 'cache',\n",
       " 'cached_result',\n",
       " 'chunked_upload',\n",
       " 'chunked_upload_append',\n",
       " 'chunked_upload_finalize',\n",
       " 'chunked_upload_init',\n",
       " 'closest_trends',\n",
       " 'create_block',\n",
       " 'create_favorite',\n",
       " 'create_friendship',\n",
       " 'create_list',\n",
       " 'create_media_metadata',\n",
       " 'create_mute',\n",
       " 'create_saved_search',\n",
       " 'delete_direct_message',\n",
       " 'destroy_block',\n",
       " 'destroy_favorite',\n",
       " 'destroy_friendship',\n",
       " 'destroy_list',\n",
       " 'destroy_mute',\n",
       " 'destroy_saved_search',\n",
       " 'destroy_status',\n",
       " 'geo_id',\n",
       " 'get_blocked_ids',\n",
       " 'get_blocks',\n",
       " 'get_direct_message',\n",
       " 'get_direct_messages',\n",
       " 'get_favorites',\n",
       " 'get_follower_ids',\n",
       " 'get_followers',\n",
       " 'get_friend_ids',\n",
       " 'get_friends',\n",
       " 'get_friendship',\n",
       " 'get_list',\n",
       " 'get_list_member',\n",
       " 'get_list_members',\n",
       " 'get_list_memberships',\n",
       " 'get_list_ownerships',\n",
       " 'get_list_subscriber',\n",
       " 'get_list_subscribers',\n",
       " 'get_list_subscriptions',\n",
       " 'get_lists',\n",
       " 'get_media_upload_status',\n",
       " 'get_muted_ids',\n",
       " 'get_mutes',\n",
       " 'get_oembed',\n",
       " 'get_place_trends',\n",
       " 'get_profile_banner',\n",
       " 'get_retweeter_ids',\n",
       " 'get_retweets',\n",
       " 'get_retweets_of_me',\n",
       " 'get_saved_search',\n",
       " 'get_saved_searches',\n",
       " 'get_settings',\n",
       " 'get_status',\n",
       " 'get_user',\n",
       " 'home_timeline',\n",
       " 'host',\n",
       " 'incoming_friendships',\n",
       " 'indicate_direct_message_typing',\n",
       " 'last_response',\n",
       " 'list_timeline',\n",
       " 'lookup_friendships',\n",
       " 'lookup_statuses',\n",
       " 'lookup_users',\n",
       " 'mark_direct_message_read',\n",
       " 'media_upload',\n",
       " 'mentions_timeline',\n",
       " 'no_retweets_friendships',\n",
       " 'outgoing_friendships',\n",
       " 'parser',\n",
       " 'proxy',\n",
       " 'rate_limit_status',\n",
       " 'remove_list_member',\n",
       " 'remove_list_members',\n",
       " 'remove_profile_banner',\n",
       " 'report_spam',\n",
       " 'request',\n",
       " 'retry_count',\n",
       " 'retry_delay',\n",
       " 'retry_errors',\n",
       " 'retweet',\n",
       " 'reverse_geocode',\n",
       " 'search_30_day',\n",
       " 'search_full_archive',\n",
       " 'search_geo',\n",
       " 'search_tweets',\n",
       " 'search_users',\n",
       " 'send_direct_message',\n",
       " 'session',\n",
       " 'set_settings',\n",
       " 'simple_upload',\n",
       " 'subscribe_list',\n",
       " 'supported_languages',\n",
       " 'timeout',\n",
       " 'unretweet',\n",
       " 'unsubscribe_list',\n",
       " 'update_friendship',\n",
       " 'update_list',\n",
       " 'update_profile',\n",
       " 'update_profile_banner',\n",
       " 'update_profile_image',\n",
       " 'update_status',\n",
       " 'update_status_with_media',\n",
       " 'upload_host',\n",
       " 'user_agent',\n",
       " 'user_timeline',\n",
       " 'verify_credentials',\n",
       " 'wait_on_rate_limit']"
      ]
     },
     "execution_count": 25,
     "metadata": {},
     "output_type": "execute_result"
    }
   ],
   "source": [
    "dir(api)"
   ]
  },
  {
   "cell_type": "code",
   "execution_count": 26,
   "id": "3f70ebc3",
   "metadata": {},
   "outputs": [],
   "source": [
    "my_timeline = api.home_timeline()"
   ]
  },
  {
   "cell_type": "code",
   "execution_count": 27,
   "id": "c517c757",
   "metadata": {},
   "outputs": [
    {
     "name": "stdout",
     "output_type": "stream",
     "text": [
      "laoluuuu\n",
      "premierleague\n",
      "anjiee_\n",
      "_Olawale_B\n",
      "Jesu_tomiisin\n",
      "IamTimmypr\n",
      "Blackalphaman_\n",
      "jamzy_saint\n",
      "OlayinkaN0\n",
      "hamidahxo\n",
      "justcruise4\n",
      "efe_soa\n",
      "efe_soa\n",
      "ManCityzenscom\n",
      "Jesu_tomiisin\n",
      "m_Olamind\n",
      "microbialawyer\n",
      "hamidahxo\n",
      "Leemah____\n",
      "Momoreoluwaa\n"
     ]
    }
   ],
   "source": [
    "import json\n",
    "\n",
    "columns = set()\n",
    "allowed_types = [int, str]\n",
    "tweets_data = []\n",
    "# columns.add('Tweeter')\n",
    "for status in my_timeline:\n",
    "#     print(dict(vars(status)), \"\\n \\n\")\n",
    "    status_dict = dict(vars(status))\n",
    "#     print(vars(status).keys(), \"\\n \\n\")\n",
    "    print(status.user.screen_name)\n",
    "    keys = status_dict.keys()\n",
    "    single_tweet_data = {}\n",
    "    for k in keys:\n",
    "        if type(status_dict[k]) in allowed_types:\n",
    "            columns.add(k)\n",
    "            \n",
    "\n",
    "header_cols = list(columns)\n",
    "header_cols = ['tweeter', 'author'] + header_cols\n",
    "for status in my_timeline:\n",
    "    status_dict = dict(vars(status))\n",
    "    single_tweet_data = {'tweeter': status.user.id, 'author': status.author.screen_name}\n",
    "#     single_tweet_data['Tweeter'] = status.user.screen_name\n",
    "    for h in header_cols[2::]:\n",
    "        try:\n",
    "            single_tweet_data[h] = status_dict[h]\n",
    "        except:\n",
    "            single_tweet_data[h] = \"NaN\"\n",
    "#     print(single_tweet_data)\n",
    "    tweets_data.append(single_tweet_data)\n",
    "\n",
    "tweets_data_list = [[j for j in x.values()] for x in tweets_data]\n"
   ]
  },
  {
   "cell_type": "code",
   "execution_count": 28,
   "id": "9d43b320",
   "metadata": {},
   "outputs": [
    {
     "name": "stdout",
     "output_type": "stream",
     "text": [
      "['tweeter', 'author', 'favorite_count', 'quoted_status_id', 'source_url', 'text', 'source', 'quoted_status_id_str', 'lang', 'id', 'id_str', 'retweet_count'] \n",
      "\n",
      "[[1170672149616615424, 'laoluuuu', 0, 1567448512513671169, 'http://twitter.com/download/iphone', 'Boehly would pay for this and I’ll be here to enjoy every bit of it!! https://t.co/J2YI9bLgAg', 'Twitter for iPhone', '1567448512513671169', 'en', 1567452561753473025, '1567452561753473025', 0], [343627165, 'premierleague', 43, 'NaN', 'https://www.spredfast.com/', 'What a transfer window! Who are your #OnesToWatch this season? \\n\\nPre-order @EASPORTSFIFA Ultimate Edition by Septem… https://t.co/C8d2PWGLuz', 'Khoros Publishing', 'NaN', 'en', 1567452556481142785, '1567452556481142785', 8], [4722356716, 'anjiee_', 0, 1544692012703780865, 'http://twitter.com/download/android', 'RT @Asads_ei: FINANCIAL UPDATE FOR MENTAL HEALTH SPEAKS 4\\n\\nAMOUNT NEEDED : 3,000,000\\n\\nAMOUNT RAISED SO FAR : N679,000\\n\\nDAYS TO PROJECT: 4 D…', 'Twitter for Android', '1544692012703780865', 'en', 1567452311860953088, '1567452311860953088', 1], [1069424341383827462, '_Olawale_B', 0, 'NaN', 'http://twitter.com/download/iphone', 'I hope the next manager phase out some of those stupid players too.', 'Twitter for iPhone', 'NaN', 'en', 1567452286368063489, '1567452286368063489', 0], [861920125158600704, 'Jesu_tomiisin', 0, 1562075547949494272, 'http://twitter.com/download/iphone', 'I now understand this tweet cause I kept wondering why he will tweet something like this. https://t.co/KeduMYbOYX', 'Twitter for iPhone', '1562075547949494272', 'en', 1567452102800048129, '1567452102800048129', 0], [1182839944756240384, 'IamTimmypr', 0, 1567451346877513728, 'http://twitter.com/download/android', \"It's so stupid and a big shame\\nSimilarly thing played out with previous managers it was just obvious that the playe… https://t.co/AW0i0SVaSh\", 'Twitter for Android', '1567451346877513728', 'en', 1567452088652779522, '1567452088652779522', 0], [1197933614127886336, 'Blackalphaman_', 0, 1567096230177656832, 'https://mobile.twitter.com', 'Spoke Too Soon🕊️🕊️ https://t.co/j1jqIFwQoH', 'Twitter Web App', '1567096230177656832', 'en', 1567452051042353152, '1567452051042353152', 0], [1162993739574468608, 'jamzy_saint', 0, 'NaN', 'http://twitter.com/download/iphone', 'RT @opeolu_wa: Bob the builder 😂 uncompleted building https://t.co/giWWLmTcik', 'Twitter for iPhone', 'NaN', 'en', 1567452046252548097, '1567452046252548097', 16], [1171666575084130304, 'OlayinkaN0', 0, 1567448807117307904, 'http://twitter.com/download/android', 'We about to hit  ATH\\nMan was using my hermano as RWB,LWB,False9,Inverted 10\\nCut that crap and play him as LW… https://t.co/RA7hYH4vek', 'Twitter for Android', '1567448807117307904', 'en', 1567452001394458624, '1567452001394458624', 0], [741922864174108672, 'hamidahxo', 1, 'NaN', 'http://twitter.com/download/iphone', 'Melvitto dropped ep😲🤯\\U0001faf6🏾🤭', 'Twitter for iPhone', 'NaN', 'en', 1567451981635063810, '1567451981635063810', 0], [1263843298365579264, 'justcruise4', 0, 1567439072980869122, 'http://twitter.com/download/iphone', 'Damini 🚀🚀🚀 https://t.co/Vdf5qeRrbM', 'Twitter for iPhone', '1567439072980869122', 'in', 1567451949561270273, '1567451949561270273', 0], [1190276802243170304, 'efe_soa', 0, 1567189277162831873, 'http://twitter.com/download/android', 'RT @TheIgboWolf: Do you mean Jos River?', 'Twitter for Android', '1567189277162831873', 'en', 1567451934671474688, '1567451934671474688', 335], [1190276802243170304, 'efe_soa', 0, 'NaN', 'http://twitter.com/download/android', 'RT @Drakoniques: Being asked “can I kiss you?” or “is this okay?” in the heat of the moment is so hot. Asking for consent is sexy.', 'Twitter for Android', 'NaN', 'en', 1567451906628325376, '1567451906628325376', 9864], [1057248790200094725, 'ManCityzenscom', 3, 'NaN', 'https://www.mancityzens.com', 'Ex-City player names Man City’s biggest rival this year\\nhttps://t.co/o2DtU6RzjI', 'ManCityzens.com', 'NaN', 'en', 1567451887254872064, '1567451887254872064', 0], [861920125158600704, 'Jesu_tomiisin', 2, 1354135005027590145, 'http://twitter.com/download/iphone', 'Can’t believe this is happening 😭 https://t.co/ap3onyPyjp', 'Twitter for iPhone', '1354135005027590145', 'en', 1567451786373464064, '1567451786373464064', 1], [895689494845902852, 'm_Olamind', 0, 1567438886594281472, 'http://twitter.com/download/iphone', 'https://t.co/mdkDDYmreA https://t.co/Kdrih1WjBg', 'Twitter for iPhone', '1567438886594281472', 'zxx', 1567451728840105985, '1567451728840105985', 0], [1178751449507024900, 'microbialawyer', 0, 1566141404354674695, 'http://twitter.com/download/android', 'RT @TaofeekOgunperi: All it takes to help actualize her goal is a an engagement from you — a retweet, a like, a share (on your platforms).…', 'Twitter for Android', '1566141404354674695', 'en', 1567451665325871105, '1567451665325871105', 1], [741922864174108672, 'hamidahxo', 0, 'NaN', 'http://twitter.com/download/iphone', 'I remember when I was trying to pet this cat and he slapped my hand so hard I had a tear 😭', 'Twitter for iPhone', 'NaN', 'en', 1567451548497616896, '1567451548497616896', 0], [4693405273, 'Leemah____', 0, 1567242627656945672, 'http://twitter.com/download/iphone', 'RT @Nai__xo: Now THIS is a FANTASTIC ad!!! Wow', 'Twitter for iPhone', '1567242627656945672', 'en', 1567451418189078528, '1567451418189078528', 741], [884023098902794240, 'Momoreoluwaa', 0, 'NaN', 'http://twitter.com/download/iphone', 'RT @JustineSkye: I normally hate my feet but today.. I don’t. Please do not do anything weird with this photo of my feet. https://t.co/G9se…', 'Twitter for iPhone', 'NaN', 'en', 1567451407736885248, '1567451407736885248', 59]]\n"
     ]
    }
   ],
   "source": [
    "print(header_cols, \"\\n\")\n",
    "print(tweets_data_list)\n",
    "# print(tweets_data_list)"
   ]
  },
  {
   "cell_type": "code",
   "execution_count": 29,
   "id": "a2e5991b",
   "metadata": {},
   "outputs": [],
   "source": [
    "# print(tweets_data)\n",
    "with open('timeline_data.csv', 'w', encoding='UTF8', newline='\\n') as f:\n",
    "    writer = csv.writer(f)\n",
    "    writer.writerow(header_cols)\n",
    "    writer.writerows(tweets_data_list)"
   ]
  },
  {
   "cell_type": "code",
   "execution_count": 30,
   "id": "975fb679",
   "metadata": {},
   "outputs": [
    {
     "data": {
      "text/html": [
       "<div>\n",
       "<style scoped>\n",
       "    .dataframe tbody tr th:only-of-type {\n",
       "        vertical-align: middle;\n",
       "    }\n",
       "\n",
       "    .dataframe tbody tr th {\n",
       "        vertical-align: top;\n",
       "    }\n",
       "\n",
       "    .dataframe thead th {\n",
       "        text-align: right;\n",
       "    }\n",
       "</style>\n",
       "<table border=\"1\" class=\"dataframe\">\n",
       "  <thead>\n",
       "    <tr style=\"text-align: right;\">\n",
       "      <th></th>\n",
       "      <th>tweeter</th>\n",
       "      <th>author</th>\n",
       "      <th>favorite_count</th>\n",
       "      <th>quoted_status_id</th>\n",
       "      <th>source_url</th>\n",
       "      <th>text</th>\n",
       "      <th>source</th>\n",
       "      <th>quoted_status_id_str</th>\n",
       "      <th>lang</th>\n",
       "      <th>id</th>\n",
       "      <th>id_str</th>\n",
       "      <th>retweet_count</th>\n",
       "    </tr>\n",
       "  </thead>\n",
       "  <tbody>\n",
       "    <tr>\n",
       "      <th>0</th>\n",
       "      <td>1170672149616615424</td>\n",
       "      <td>laoluuuu</td>\n",
       "      <td>0</td>\n",
       "      <td>1567448512513671169</td>\n",
       "      <td>http://twitter.com/download/iphone</td>\n",
       "      <td>Boehly would pay for this and I’ll be here to ...</td>\n",
       "      <td>Twitter for iPhone</td>\n",
       "      <td>1567448512513671169</td>\n",
       "      <td>en</td>\n",
       "      <td>1567452561753473025</td>\n",
       "      <td>1567452561753473025</td>\n",
       "      <td>0</td>\n",
       "    </tr>\n",
       "    <tr>\n",
       "      <th>1</th>\n",
       "      <td>343627165</td>\n",
       "      <td>premierleague</td>\n",
       "      <td>43</td>\n",
       "      <td>NaN</td>\n",
       "      <td>https://www.spredfast.com/</td>\n",
       "      <td>What a transfer window! Who are your #OnesToWa...</td>\n",
       "      <td>Khoros Publishing</td>\n",
       "      <td>NaN</td>\n",
       "      <td>en</td>\n",
       "      <td>1567452556481142785</td>\n",
       "      <td>1567452556481142785</td>\n",
       "      <td>8</td>\n",
       "    </tr>\n",
       "    <tr>\n",
       "      <th>2</th>\n",
       "      <td>4722356716</td>\n",
       "      <td>anjiee_</td>\n",
       "      <td>0</td>\n",
       "      <td>1544692012703780865</td>\n",
       "      <td>http://twitter.com/download/android</td>\n",
       "      <td>RT @Asads_ei: FINANCIAL UPDATE FOR MENTAL HEAL...</td>\n",
       "      <td>Twitter for Android</td>\n",
       "      <td>1544692012703780865</td>\n",
       "      <td>en</td>\n",
       "      <td>1567452311860953088</td>\n",
       "      <td>1567452311860953088</td>\n",
       "      <td>1</td>\n",
       "    </tr>\n",
       "    <tr>\n",
       "      <th>3</th>\n",
       "      <td>1069424341383827462</td>\n",
       "      <td>_Olawale_B</td>\n",
       "      <td>0</td>\n",
       "      <td>NaN</td>\n",
       "      <td>http://twitter.com/download/iphone</td>\n",
       "      <td>I hope the next manager phase out some of thos...</td>\n",
       "      <td>Twitter for iPhone</td>\n",
       "      <td>NaN</td>\n",
       "      <td>en</td>\n",
       "      <td>1567452286368063489</td>\n",
       "      <td>1567452286368063489</td>\n",
       "      <td>0</td>\n",
       "    </tr>\n",
       "    <tr>\n",
       "      <th>4</th>\n",
       "      <td>861920125158600704</td>\n",
       "      <td>Jesu_tomiisin</td>\n",
       "      <td>0</td>\n",
       "      <td>1562075547949494272</td>\n",
       "      <td>http://twitter.com/download/iphone</td>\n",
       "      <td>I now understand this tweet cause I kept wonde...</td>\n",
       "      <td>Twitter for iPhone</td>\n",
       "      <td>1562075547949494272</td>\n",
       "      <td>en</td>\n",
       "      <td>1567452102800048129</td>\n",
       "      <td>1567452102800048129</td>\n",
       "      <td>0</td>\n",
       "    </tr>\n",
       "  </tbody>\n",
       "</table>\n",
       "</div>"
      ],
      "text/plain": [
       "               tweeter         author  favorite_count     quoted_status_id  \\\n",
       "0  1170672149616615424       laoluuuu               0  1567448512513671169   \n",
       "1            343627165  premierleague              43                  NaN   \n",
       "2           4722356716        anjiee_               0  1544692012703780865   \n",
       "3  1069424341383827462     _Olawale_B               0                  NaN   \n",
       "4   861920125158600704  Jesu_tomiisin               0  1562075547949494272   \n",
       "\n",
       "                            source_url  \\\n",
       "0   http://twitter.com/download/iphone   \n",
       "1           https://www.spredfast.com/   \n",
       "2  http://twitter.com/download/android   \n",
       "3   http://twitter.com/download/iphone   \n",
       "4   http://twitter.com/download/iphone   \n",
       "\n",
       "                                                text               source  \\\n",
       "0  Boehly would pay for this and I’ll be here to ...   Twitter for iPhone   \n",
       "1  What a transfer window! Who are your #OnesToWa...    Khoros Publishing   \n",
       "2  RT @Asads_ei: FINANCIAL UPDATE FOR MENTAL HEAL...  Twitter for Android   \n",
       "3  I hope the next manager phase out some of thos...   Twitter for iPhone   \n",
       "4  I now understand this tweet cause I kept wonde...   Twitter for iPhone   \n",
       "\n",
       "  quoted_status_id_str lang                   id               id_str  \\\n",
       "0  1567448512513671169   en  1567452561753473025  1567452561753473025   \n",
       "1                  NaN   en  1567452556481142785  1567452556481142785   \n",
       "2  1544692012703780865   en  1567452311860953088  1567452311860953088   \n",
       "3                  NaN   en  1567452286368063489  1567452286368063489   \n",
       "4  1562075547949494272   en  1567452102800048129  1567452102800048129   \n",
       "\n",
       "   retweet_count  \n",
       "0              0  \n",
       "1              8  \n",
       "2              1  \n",
       "3              0  \n",
       "4              0  "
      ]
     },
     "execution_count": 30,
     "metadata": {},
     "output_type": "execute_result"
    }
   ],
   "source": [
    "df = pd.DataFrame(tweets_data, columns=header_cols)\n",
    "df.head()"
   ]
  },
  {
   "cell_type": "code",
   "execution_count": 31,
   "id": "1dc31602",
   "metadata": {},
   "outputs": [],
   "source": [
    "def extract_timeline_as_df(timeline_list):\n",
    "    columns = set()\n",
    "    allowed_types = [int, str]\n",
    "    tweets_data = []\n",
    "    # columns.add('Tweeter')\n",
    "    for status in timeline_list:\n",
    "    #     print(dict(vars(status)), \"\\n \\n\")\n",
    "        status_dict = dict(vars(status))\n",
    "    #     print(vars(status).keys(), \"\\n \\n\")\n",
    "#         print(status.user.screen_name)\n",
    "        keys = status_dict.keys()\n",
    "        single_tweet_data = {}\n",
    "        for k in keys:\n",
    "            if type(status_dict[k]) in allowed_types:\n",
    "                columns.add(k)\n",
    "\n",
    "    header_cols = list(columns)\n",
    "    header_cols = ['tweeter', 'author'] + header_cols\n",
    "    for status in timeline_list:\n",
    "        status_dict = dict(vars(status))\n",
    "        single_tweet_data = {'tweeter': status.user.id_str, 'author': status.author.screen_name}\n",
    "    #     single_tweet_data['Tweeter'] = status.user.screen_name\n",
    "        for h in header_cols[2::]:\n",
    "            try:\n",
    "                single_tweet_data[h] = status_dict[h]\n",
    "            except:\n",
    "                single_tweet_data[h] = \"NaN\"\n",
    "    #     print(single_tweet_data)\n",
    "        tweets_data.append(single_tweet_data)\n",
    "\n",
    "    tweets_data_list = [[j for j in x.values()] for x in tweets_data]\n",
    "    df = pd.DataFrame(tweets_data, columns=header_cols)\n",
    "    return df"
   ]
  },
  {
   "cell_type": "code",
   "execution_count": 32,
   "id": "c2693a98",
   "metadata": {},
   "outputs": [
    {
     "data": {
      "text/html": [
       "<div>\n",
       "<style scoped>\n",
       "    .dataframe tbody tr th:only-of-type {\n",
       "        vertical-align: middle;\n",
       "    }\n",
       "\n",
       "    .dataframe tbody tr th {\n",
       "        vertical-align: top;\n",
       "    }\n",
       "\n",
       "    .dataframe thead th {\n",
       "        text-align: right;\n",
       "    }\n",
       "</style>\n",
       "<table border=\"1\" class=\"dataframe\">\n",
       "  <thead>\n",
       "    <tr style=\"text-align: right;\">\n",
       "      <th></th>\n",
       "      <th>tweeter</th>\n",
       "      <th>author</th>\n",
       "      <th>favorite_count</th>\n",
       "      <th>quoted_status_id</th>\n",
       "      <th>source_url</th>\n",
       "      <th>text</th>\n",
       "      <th>source</th>\n",
       "      <th>lang</th>\n",
       "      <th>quoted_status_id_str</th>\n",
       "      <th>id</th>\n",
       "      <th>id_str</th>\n",
       "      <th>retweet_count</th>\n",
       "    </tr>\n",
       "  </thead>\n",
       "  <tbody>\n",
       "    <tr>\n",
       "      <th>0</th>\n",
       "      <td>204132871</td>\n",
       "      <td>imanie</td>\n",
       "      <td>0</td>\n",
       "      <td>NaN</td>\n",
       "      <td>http://twitter.com/download/iphone</td>\n",
       "      <td>Wordle 445 4/6\\n\\n🟩⬛⬛🟨⬛\\n🟩🟩⬛⬛⬛\\n🟩🟩⬛⬛🟨\\n🟩🟩🟩🟩🟩</td>\n",
       "      <td>Twitter for iPhone</td>\n",
       "      <td>en</td>\n",
       "      <td>NaN</td>\n",
       "      <td>1567443825991319553</td>\n",
       "      <td>1567443825991319553</td>\n",
       "      <td>0</td>\n",
       "    </tr>\n",
       "    <tr>\n",
       "      <th>1</th>\n",
       "      <td>204132871</td>\n",
       "      <td>imanie</td>\n",
       "      <td>0</td>\n",
       "      <td>NaN</td>\n",
       "      <td>http://twitter.com/download/iphone</td>\n",
       "      <td>RT @ABjnr_: Spread the word. https://t.co/nEPu...</td>\n",
       "      <td>Twitter for iPhone</td>\n",
       "      <td>en</td>\n",
       "      <td>NaN</td>\n",
       "      <td>1567439044937760768</td>\n",
       "      <td>1567439044937760768</td>\n",
       "      <td>136</td>\n",
       "    </tr>\n",
       "    <tr>\n",
       "      <th>2</th>\n",
       "      <td>204132871</td>\n",
       "      <td>imanie</td>\n",
       "      <td>0</td>\n",
       "      <td>NaN</td>\n",
       "      <td>http://twitter.com/download/iphone</td>\n",
       "      <td>RT @RedLightning420: Homelander beefing with a...</td>\n",
       "      <td>Twitter for iPhone</td>\n",
       "      <td>en</td>\n",
       "      <td>NaN</td>\n",
       "      <td>1567438994123677696</td>\n",
       "      <td>1567438994123677696</td>\n",
       "      <td>6816</td>\n",
       "    </tr>\n",
       "    <tr>\n",
       "      <th>3</th>\n",
       "      <td>204132871</td>\n",
       "      <td>imanie</td>\n",
       "      <td>0</td>\n",
       "      <td>NaN</td>\n",
       "      <td>http://twitter.com/download/iphone</td>\n",
       "      <td>RT @theatclub: Having a strong community of li...</td>\n",
       "      <td>Twitter for iPhone</td>\n",
       "      <td>en</td>\n",
       "      <td>NaN</td>\n",
       "      <td>1567425926014664704</td>\n",
       "      <td>1567425926014664704</td>\n",
       "      <td>15</td>\n",
       "    </tr>\n",
       "    <tr>\n",
       "      <th>4</th>\n",
       "      <td>204132871</td>\n",
       "      <td>imanie</td>\n",
       "      <td>0</td>\n",
       "      <td>NaN</td>\n",
       "      <td>http://twitter.com/download/iphone</td>\n",
       "      <td>RT @King_Bolarinwa: Good morning ✨\\n\\nMonochro...</td>\n",
       "      <td>Twitter for iPhone</td>\n",
       "      <td>en</td>\n",
       "      <td>NaN</td>\n",
       "      <td>1567425800659427331</td>\n",
       "      <td>1567425800659427331</td>\n",
       "      <td>24</td>\n",
       "    </tr>\n",
       "  </tbody>\n",
       "</table>\n",
       "</div>"
      ],
      "text/plain": [
       "     tweeter  author  favorite_count quoted_status_id  \\\n",
       "0  204132871  imanie               0              NaN   \n",
       "1  204132871  imanie               0              NaN   \n",
       "2  204132871  imanie               0              NaN   \n",
       "3  204132871  imanie               0              NaN   \n",
       "4  204132871  imanie               0              NaN   \n",
       "\n",
       "                           source_url  \\\n",
       "0  http://twitter.com/download/iphone   \n",
       "1  http://twitter.com/download/iphone   \n",
       "2  http://twitter.com/download/iphone   \n",
       "3  http://twitter.com/download/iphone   \n",
       "4  http://twitter.com/download/iphone   \n",
       "\n",
       "                                                text              source lang  \\\n",
       "0       Wordle 445 4/6\\n\\n🟩⬛⬛🟨⬛\\n🟩🟩⬛⬛⬛\\n🟩🟩⬛⬛🟨\\n🟩🟩🟩🟩🟩  Twitter for iPhone   en   \n",
       "1  RT @ABjnr_: Spread the word. https://t.co/nEPu...  Twitter for iPhone   en   \n",
       "2  RT @RedLightning420: Homelander beefing with a...  Twitter for iPhone   en   \n",
       "3  RT @theatclub: Having a strong community of li...  Twitter for iPhone   en   \n",
       "4  RT @King_Bolarinwa: Good morning ✨\\n\\nMonochro...  Twitter for iPhone   en   \n",
       "\n",
       "  quoted_status_id_str                   id               id_str  \\\n",
       "0                  NaN  1567443825991319553  1567443825991319553   \n",
       "1                  NaN  1567439044937760768  1567439044937760768   \n",
       "2                  NaN  1567438994123677696  1567438994123677696   \n",
       "3                  NaN  1567425926014664704  1567425926014664704   \n",
       "4                  NaN  1567425800659427331  1567425800659427331   \n",
       "\n",
       "   retweet_count  \n",
       "0              0  \n",
       "1            136  \n",
       "2           6816  \n",
       "3             15  \n",
       "4             24  "
      ]
     },
     "execution_count": 32,
     "metadata": {},
     "output_type": "execute_result"
    }
   ],
   "source": [
    "imanie = api.get_user(screen_name=\"imanie\")\n",
    "imanie_timeline = imanie.timeline()\n",
    "df1 = extract_timeline_as_df(imanie_timeline)\n",
    "df1.head()"
   ]
  },
  {
   "cell_type": "code",
   "execution_count": 33,
   "id": "21acfdd3",
   "metadata": {},
   "outputs": [],
   "source": [
    "SSport = api.get_user(screen_name=\"SuperSportTV\")"
   ]
  },
  {
   "cell_type": "code",
   "execution_count": 34,
   "id": "f9fadc35",
   "metadata": {},
   "outputs": [],
   "source": [
    "SSport_tl = SSport.timeline()"
   ]
  },
  {
   "cell_type": "markdown",
   "id": "eb3a08a9",
   "metadata": {},
   "source": [
    "df2 = extract_timeline_as_df(SSport_tl)\n",
    "df2.head()"
   ]
  },
  {
   "cell_type": "code",
   "execution_count": 35,
   "id": "7a0da22b",
   "metadata": {},
   "outputs": [
    {
     "data": {
      "text/html": [
       "<div>\n",
       "<style scoped>\n",
       "    .dataframe tbody tr th:only-of-type {\n",
       "        vertical-align: middle;\n",
       "    }\n",
       "\n",
       "    .dataframe tbody tr th {\n",
       "        vertical-align: top;\n",
       "    }\n",
       "\n",
       "    .dataframe thead th {\n",
       "        text-align: right;\n",
       "    }\n",
       "</style>\n",
       "<table border=\"1\" class=\"dataframe\">\n",
       "  <thead>\n",
       "    <tr style=\"text-align: right;\">\n",
       "      <th></th>\n",
       "      <th>tweeter</th>\n",
       "      <th>author</th>\n",
       "      <th>favorite_count</th>\n",
       "      <th>source_url</th>\n",
       "      <th>text</th>\n",
       "      <th>source</th>\n",
       "      <th>lang</th>\n",
       "      <th>id</th>\n",
       "      <th>id_str</th>\n",
       "      <th>retweet_count</th>\n",
       "    </tr>\n",
       "  </thead>\n",
       "  <tbody>\n",
       "    <tr>\n",
       "      <th>0</th>\n",
       "      <td>29930178</td>\n",
       "      <td>SuperSportTV</td>\n",
       "      <td>325</td>\n",
       "      <td>https://twitter.com</td>\n",
       "      <td>Chelsea has parted company with Head Coach Tho...</td>\n",
       "      <td>Twitter for Advertisers</td>\n",
       "      <td>en</td>\n",
       "      <td>1567443090713055234</td>\n",
       "      <td>1567443090713055234</td>\n",
       "      <td>60</td>\n",
       "    </tr>\n",
       "    <tr>\n",
       "      <th>1</th>\n",
       "      <td>29930178</td>\n",
       "      <td>SuperSportTV</td>\n",
       "      <td>79</td>\n",
       "      <td>https://twitter.com</td>\n",
       "      <td>Sadio Mané is looking to become just the fourt...</td>\n",
       "      <td>Twitter for Advertisers</td>\n",
       "      <td>en</td>\n",
       "      <td>1567442675820797953</td>\n",
       "      <td>1567442675820797953</td>\n",
       "      <td>11</td>\n",
       "    </tr>\n",
       "    <tr>\n",
       "      <th>2</th>\n",
       "      <td>29930178</td>\n",
       "      <td>SuperSportTV</td>\n",
       "      <td>100</td>\n",
       "      <td>https://studio.twitter.com</td>\n",
       "      <td>𝗕𝗮𝗿𝗰𝗲𝗹𝗼𝗻𝗮 𝗸𝗲𝗲𝗽 𝗮𝗱𝗱𝗶𝗻𝗴 𝗽𝗹𝗮𝘆𝗲𝗿𝘀 👀\\n\\nBarcelona h...</td>\n",
       "      <td>Twitter Media Studio</td>\n",
       "      <td>en</td>\n",
       "      <td>1567435125943566338</td>\n",
       "      <td>1567435125943566338</td>\n",
       "      <td>14</td>\n",
       "    </tr>\n",
       "    <tr>\n",
       "      <th>3</th>\n",
       "      <td>29930178</td>\n",
       "      <td>SuperSportTV</td>\n",
       "      <td>105</td>\n",
       "      <td>https://twitter.com</td>\n",
       "      <td>We've listed every single African footballer w...</td>\n",
       "      <td>Twitter for Advertisers</td>\n",
       "      <td>en</td>\n",
       "      <td>1567422429298819073</td>\n",
       "      <td>1567422429298819073</td>\n",
       "      <td>11</td>\n",
       "    </tr>\n",
       "    <tr>\n",
       "      <th>4</th>\n",
       "      <td>29930178</td>\n",
       "      <td>SuperSportTV</td>\n",
       "      <td>54</td>\n",
       "      <td>https://twitter.com</td>\n",
       "      <td>📞 \"My country called and I had to answer.”\\n\\n...</td>\n",
       "      <td>Twitter for Advertisers</td>\n",
       "      <td>en</td>\n",
       "      <td>1567407449069461505</td>\n",
       "      <td>1567407449069461505</td>\n",
       "      <td>4</td>\n",
       "    </tr>\n",
       "  </tbody>\n",
       "</table>\n",
       "</div>"
      ],
      "text/plain": [
       "    tweeter        author  favorite_count                  source_url  \\\n",
       "0  29930178  SuperSportTV             325         https://twitter.com   \n",
       "1  29930178  SuperSportTV              79         https://twitter.com   \n",
       "2  29930178  SuperSportTV             100  https://studio.twitter.com   \n",
       "3  29930178  SuperSportTV             105         https://twitter.com   \n",
       "4  29930178  SuperSportTV              54         https://twitter.com   \n",
       "\n",
       "                                                text                   source  \\\n",
       "0  Chelsea has parted company with Head Coach Tho...  Twitter for Advertisers   \n",
       "1  Sadio Mané is looking to become just the fourt...  Twitter for Advertisers   \n",
       "2  𝗕𝗮𝗿𝗰𝗲𝗹𝗼𝗻𝗮 𝗸𝗲𝗲𝗽 𝗮𝗱𝗱𝗶𝗻𝗴 𝗽𝗹𝗮𝘆𝗲𝗿𝘀 👀\\n\\nBarcelona h...     Twitter Media Studio   \n",
       "3  We've listed every single African footballer w...  Twitter for Advertisers   \n",
       "4  📞 \"My country called and I had to answer.”\\n\\n...  Twitter for Advertisers   \n",
       "\n",
       "  lang                   id               id_str  retweet_count  \n",
       "0   en  1567443090713055234  1567443090713055234             60  \n",
       "1   en  1567442675820797953  1567442675820797953             11  \n",
       "2   en  1567435125943566338  1567435125943566338             14  \n",
       "3   en  1567422429298819073  1567422429298819073             11  \n",
       "4   en  1567407449069461505  1567407449069461505              4  "
      ]
     },
     "execution_count": 35,
     "metadata": {},
     "output_type": "execute_result"
    }
   ],
   "source": [
    "df2 = extract_timeline_as_df(SSport_tl)\n",
    "df2.head()"
   ]
  },
  {
   "cell_type": "code",
   "execution_count": 36,
   "id": "ed0c5f1a",
   "metadata": {},
   "outputs": [],
   "source": [
    "status_obj = api.get_status(\"1567422429298819073\")"
   ]
  },
  {
   "cell_type": "code",
   "execution_count": 37,
   "id": "26bb3ea3",
   "metadata": {},
   "outputs": [
    {
     "data": {
      "text/plain": [
       "\"We've listed every single African footballer who will be in action in the Champions League this season. \\n\\nWho will… https://t.co/CVICKCRXt0\""
      ]
     },
     "execution_count": 37,
     "metadata": {},
     "output_type": "execute_result"
    }
   ],
   "source": [
    "status_obj.text"
   ]
  },
  {
   "cell_type": "code",
   "execution_count": 38,
   "id": "d0f2aba1",
   "metadata": {},
   "outputs": [
    {
     "name": "stdout",
     "output_type": "stream",
     "text": [
      "1567407449069461505\n",
      "https://twitter.com/SuperSportTV/status/1567407449069461505\n"
     ]
    }
   ],
   "source": [
    "status_tl = SSport_tl[4]\n",
    "print(status_tl.id)\n",
    "print(f\"{status_tl.source_url}/{status_tl.user.screen_name}/status/{status_tl.id}\")"
   ]
  },
  {
   "cell_type": "code",
   "execution_count": 39,
   "id": "602a76c4",
   "metadata": {},
   "outputs": [
    {
     "data": {
      "text/plain": [
       "Status(_api=<tweepy.api.API object at 0x000001BE5C780FD0>, _json={'created_at': 'Wed Sep 07 10:00:33 +0000 2022', 'id': 1567452756520181763, 'id_str': '1567452756520181763', 'text': 'RT @SuperSportTV: 📞 \"My country called and I had to answer.”\\n\\nBlitzboks legend Cecil Afrika opens up about his selection for this weekend\\'s…', 'truncated': False, 'entities': {'hashtags': [], 'symbols': [], 'user_mentions': [{'screen_name': 'SuperSportTV', 'name': 'SuperSport 🏆', 'id': 29930178, 'id_str': '29930178', 'indices': [3, 16]}], 'urls': []}, 'source': '<a href=\"https://github.com/TaslimOwolarafe\" rel=\"nofollow\">TweetBotCatcher</a>', 'in_reply_to_status_id': None, 'in_reply_to_status_id_str': None, 'in_reply_to_user_id': None, 'in_reply_to_user_id_str': None, 'in_reply_to_screen_name': None, 'user': {'id': 1153676762552963072, 'id_str': '1153676762552963072', 'name': 'tas-sama', 'screen_name': 'tasleemm_', 'location': '7.5629° N, 4.5200° E', 'description': 'Nothing to see here yet..', 'url': 'https://t.co/sg7UjOGJt4', 'entities': {'url': {'urls': [{'url': 'https://t.co/sg7UjOGJt4', 'expanded_url': 'https://github.com/TaslimOwolarafe', 'display_url': 'github.com/TaslimOwolarafe', 'indices': [0, 23]}]}, 'description': {'urls': []}}, 'protected': True, 'followers_count': 467, 'friends_count': 440, 'listed_count': 0, 'created_at': 'Tue Jul 23 14:42:29 +0000 2019', 'favourites_count': 10500, 'utc_offset': None, 'time_zone': None, 'geo_enabled': True, 'verified': False, 'statuses_count': 2546, 'lang': None, 'contributors_enabled': False, 'is_translator': False, 'is_translation_enabled': False, 'profile_background_color': 'F5F8FA', 'profile_background_image_url': None, 'profile_background_image_url_https': None, 'profile_background_tile': False, 'profile_image_url': 'http://pbs.twimg.com/profile_images/1490304022678491140/sUhnDBxH_normal.jpg', 'profile_image_url_https': 'https://pbs.twimg.com/profile_images/1490304022678491140/sUhnDBxH_normal.jpg', 'profile_banner_url': 'https://pbs.twimg.com/profile_banners/1153676762552963072/1612275236', 'profile_link_color': '1DA1F2', 'profile_sidebar_border_color': 'C0DEED', 'profile_sidebar_fill_color': 'DDEEF6', 'profile_text_color': '333333', 'profile_use_background_image': True, 'has_extended_profile': True, 'default_profile': True, 'default_profile_image': False, 'following': False, 'follow_request_sent': False, 'notifications': False, 'translator_type': 'none', 'withheld_in_countries': []}, 'geo': None, 'coordinates': None, 'place': None, 'contributors': None, 'retweeted_status': {'created_at': 'Wed Sep 07 07:00:31 +0000 2022', 'id': 1567407449069461505, 'id_str': '1567407449069461505', 'text': '📞 \"My country called and I had to answer.”\\n\\nBlitzboks legend Cecil Afrika opens up about his selection for this wee… https://t.co/zbEafjBGiR', 'truncated': True, 'entities': {'hashtags': [], 'symbols': [], 'user_mentions': [], 'urls': [{'url': 'https://t.co/zbEafjBGiR', 'expanded_url': 'https://twitter.com/i/web/status/1567407449069461505', 'display_url': 'twitter.com/i/web/status/1…', 'indices': [117, 140]}]}, 'source': '<a href=\"https://twitter.com\" rel=\"nofollow\">Twitter for Advertisers</a>', 'in_reply_to_status_id': None, 'in_reply_to_status_id_str': None, 'in_reply_to_user_id': None, 'in_reply_to_user_id_str': None, 'in_reply_to_screen_name': None, 'user': {'id': 29930178, 'id_str': '29930178', 'name': 'SuperSport 🏆', 'screen_name': 'SuperSportTV', 'location': 'Africa', 'description': 'Join your World of Champions for all the latest sports news & updates', 'url': 'https://t.co/c5kSsvASy3', 'entities': {'url': {'urls': [{'url': 'https://t.co/c5kSsvASy3', 'expanded_url': 'http://www.supersport.com', 'display_url': 'supersport.com', 'indices': [0, 23]}]}, 'description': {'urls': []}}, 'protected': False, 'followers_count': 3112324, 'friends_count': 601, 'listed_count': 3548, 'created_at': 'Thu Apr 09 05:33:58 +0000 2009', 'favourites_count': 1932, 'utc_offset': None, 'time_zone': None, 'geo_enabled': True, 'verified': True, 'statuses_count': 338732, 'lang': None, 'contributors_enabled': False, 'is_translator': False, 'is_translation_enabled': False, 'profile_background_color': '000000', 'profile_background_image_url': 'http://abs.twimg.com/images/themes/theme4/bg.gif', 'profile_background_image_url_https': 'https://abs.twimg.com/images/themes/theme4/bg.gif', 'profile_background_tile': False, 'profile_image_url': 'http://pbs.twimg.com/profile_images/709394411168407552/p_5OEYc0_normal.jpg', 'profile_image_url_https': 'https://pbs.twimg.com/profile_images/709394411168407552/p_5OEYc0_normal.jpg', 'profile_banner_url': 'https://pbs.twimg.com/profile_banners/29930178/1659966693', 'profile_link_color': '0A1667', 'profile_sidebar_border_color': 'FFFFFF', 'profile_sidebar_fill_color': 'E9FBFB', 'profile_text_color': 'F91A28', 'profile_use_background_image': True, 'has_extended_profile': False, 'default_profile': False, 'default_profile_image': False, 'following': True, 'follow_request_sent': False, 'notifications': False, 'translator_type': 'none', 'withheld_in_countries': []}, 'geo': None, 'coordinates': None, 'place': None, 'contributors': None, 'is_quote_status': False, 'retweet_count': 5, 'favorite_count': 54, 'favorited': False, 'retweeted': True, 'lang': 'en'}, 'is_quote_status': False, 'retweet_count': 5, 'favorite_count': 0, 'favorited': False, 'retweeted': True, 'lang': 'en'}, created_at=datetime.datetime(2022, 9, 7, 10, 0, 33, tzinfo=datetime.timezone.utc), id=1567452756520181763, id_str='1567452756520181763', text='RT @SuperSportTV: 📞 \"My country called and I had to answer.”\\n\\nBlitzboks legend Cecil Afrika opens up about his selection for this weekend\\'s…', truncated=False, entities={'hashtags': [], 'symbols': [], 'user_mentions': [{'screen_name': 'SuperSportTV', 'name': 'SuperSport 🏆', 'id': 29930178, 'id_str': '29930178', 'indices': [3, 16]}], 'urls': []}, source='TweetBotCatcher', source_url='https://github.com/TaslimOwolarafe', in_reply_to_status_id=None, in_reply_to_status_id_str=None, in_reply_to_user_id=None, in_reply_to_user_id_str=None, in_reply_to_screen_name=None, author=User(_api=<tweepy.api.API object at 0x000001BE5C780FD0>, _json={'id': 1153676762552963072, 'id_str': '1153676762552963072', 'name': 'tas-sama', 'screen_name': 'tasleemm_', 'location': '7.5629° N, 4.5200° E', 'description': 'Nothing to see here yet..', 'url': 'https://t.co/sg7UjOGJt4', 'entities': {'url': {'urls': [{'url': 'https://t.co/sg7UjOGJt4', 'expanded_url': 'https://github.com/TaslimOwolarafe', 'display_url': 'github.com/TaslimOwolarafe', 'indices': [0, 23]}]}, 'description': {'urls': []}}, 'protected': True, 'followers_count': 467, 'friends_count': 440, 'listed_count': 0, 'created_at': 'Tue Jul 23 14:42:29 +0000 2019', 'favourites_count': 10500, 'utc_offset': None, 'time_zone': None, 'geo_enabled': True, 'verified': False, 'statuses_count': 2546, 'lang': None, 'contributors_enabled': False, 'is_translator': False, 'is_translation_enabled': False, 'profile_background_color': 'F5F8FA', 'profile_background_image_url': None, 'profile_background_image_url_https': None, 'profile_background_tile': False, 'profile_image_url': 'http://pbs.twimg.com/profile_images/1490304022678491140/sUhnDBxH_normal.jpg', 'profile_image_url_https': 'https://pbs.twimg.com/profile_images/1490304022678491140/sUhnDBxH_normal.jpg', 'profile_banner_url': 'https://pbs.twimg.com/profile_banners/1153676762552963072/1612275236', 'profile_link_color': '1DA1F2', 'profile_sidebar_border_color': 'C0DEED', 'profile_sidebar_fill_color': 'DDEEF6', 'profile_text_color': '333333', 'profile_use_background_image': True, 'has_extended_profile': True, 'default_profile': True, 'default_profile_image': False, 'following': False, 'follow_request_sent': False, 'notifications': False, 'translator_type': 'none', 'withheld_in_countries': []}, id=1153676762552963072, id_str='1153676762552963072', name='tas-sama', screen_name='tasleemm_', location='7.5629° N, 4.5200° E', description='Nothing to see here yet..', url='https://t.co/sg7UjOGJt4', entities={'url': {'urls': [{'url': 'https://t.co/sg7UjOGJt4', 'expanded_url': 'https://github.com/TaslimOwolarafe', 'display_url': 'github.com/TaslimOwolarafe', 'indices': [0, 23]}]}, 'description': {'urls': []}}, protected=True, followers_count=467, friends_count=440, listed_count=0, created_at=datetime.datetime(2019, 7, 23, 14, 42, 29, tzinfo=datetime.timezone.utc), favourites_count=10500, utc_offset=None, time_zone=None, geo_enabled=True, verified=False, statuses_count=2546, lang=None, contributors_enabled=False, is_translator=False, is_translation_enabled=False, profile_background_color='F5F8FA', profile_background_image_url=None, profile_background_image_url_https=None, profile_background_tile=False, profile_image_url='http://pbs.twimg.com/profile_images/1490304022678491140/sUhnDBxH_normal.jpg', profile_image_url_https='https://pbs.twimg.com/profile_images/1490304022678491140/sUhnDBxH_normal.jpg', profile_banner_url='https://pbs.twimg.com/profile_banners/1153676762552963072/1612275236', profile_link_color='1DA1F2', profile_sidebar_border_color='C0DEED', profile_sidebar_fill_color='DDEEF6', profile_text_color='333333', profile_use_background_image=True, has_extended_profile=True, default_profile=True, default_profile_image=False, following=False, follow_request_sent=False, notifications=False, translator_type='none', withheld_in_countries=[]), user=User(_api=<tweepy.api.API object at 0x000001BE5C780FD0>, _json={'id': 1153676762552963072, 'id_str': '1153676762552963072', 'name': 'tas-sama', 'screen_name': 'tasleemm_', 'location': '7.5629° N, 4.5200° E', 'description': 'Nothing to see here yet..', 'url': 'https://t.co/sg7UjOGJt4', 'entities': {'url': {'urls': [{'url': 'https://t.co/sg7UjOGJt4', 'expanded_url': 'https://github.com/TaslimOwolarafe', 'display_url': 'github.com/TaslimOwolarafe', 'indices': [0, 23]}]}, 'description': {'urls': []}}, 'protected': True, 'followers_count': 467, 'friends_count': 440, 'listed_count': 0, 'created_at': 'Tue Jul 23 14:42:29 +0000 2019', 'favourites_count': 10500, 'utc_offset': None, 'time_zone': None, 'geo_enabled': True, 'verified': False, 'statuses_count': 2546, 'lang': None, 'contributors_enabled': False, 'is_translator': False, 'is_translation_enabled': False, 'profile_background_color': 'F5F8FA', 'profile_background_image_url': None, 'profile_background_image_url_https': None, 'profile_background_tile': False, 'profile_image_url': 'http://pbs.twimg.com/profile_images/1490304022678491140/sUhnDBxH_normal.jpg', 'profile_image_url_https': 'https://pbs.twimg.com/profile_images/1490304022678491140/sUhnDBxH_normal.jpg', 'profile_banner_url': 'https://pbs.twimg.com/profile_banners/1153676762552963072/1612275236', 'profile_link_color': '1DA1F2', 'profile_sidebar_border_color': 'C0DEED', 'profile_sidebar_fill_color': 'DDEEF6', 'profile_text_color': '333333', 'profile_use_background_image': True, 'has_extended_profile': True, 'default_profile': True, 'default_profile_image': False, 'following': False, 'follow_request_sent': False, 'notifications': False, 'translator_type': 'none', 'withheld_in_countries': []}, id=1153676762552963072, id_str='1153676762552963072', name='tas-sama', screen_name='tasleemm_', location='7.5629° N, 4.5200° E', description='Nothing to see here yet..', url='https://t.co/sg7UjOGJt4', entities={'url': {'urls': [{'url': 'https://t.co/sg7UjOGJt4', 'expanded_url': 'https://github.com/TaslimOwolarafe', 'display_url': 'github.com/TaslimOwolarafe', 'indices': [0, 23]}]}, 'description': {'urls': []}}, protected=True, followers_count=467, friends_count=440, listed_count=0, created_at=datetime.datetime(2019, 7, 23, 14, 42, 29, tzinfo=datetime.timezone.utc), favourites_count=10500, utc_offset=None, time_zone=None, geo_enabled=True, verified=False, statuses_count=2546, lang=None, contributors_enabled=False, is_translator=False, is_translation_enabled=False, profile_background_color='F5F8FA', profile_background_image_url=None, profile_background_image_url_https=None, profile_background_tile=False, profile_image_url='http://pbs.twimg.com/profile_images/1490304022678491140/sUhnDBxH_normal.jpg', profile_image_url_https='https://pbs.twimg.com/profile_images/1490304022678491140/sUhnDBxH_normal.jpg', profile_banner_url='https://pbs.twimg.com/profile_banners/1153676762552963072/1612275236', profile_link_color='1DA1F2', profile_sidebar_border_color='C0DEED', profile_sidebar_fill_color='DDEEF6', profile_text_color='333333', profile_use_background_image=True, has_extended_profile=True, default_profile=True, default_profile_image=False, following=False, follow_request_sent=False, notifications=False, translator_type='none', withheld_in_countries=[]), geo=None, coordinates=None, place=None, contributors=None, retweeted_status=Status(_api=<tweepy.api.API object at 0x000001BE5C780FD0>, _json={'created_at': 'Wed Sep 07 07:00:31 +0000 2022', 'id': 1567407449069461505, 'id_str': '1567407449069461505', 'text': '📞 \"My country called and I had to answer.”\\n\\nBlitzboks legend Cecil Afrika opens up about his selection for this wee… https://t.co/zbEafjBGiR', 'truncated': True, 'entities': {'hashtags': [], 'symbols': [], 'user_mentions': [], 'urls': [{'url': 'https://t.co/zbEafjBGiR', 'expanded_url': 'https://twitter.com/i/web/status/1567407449069461505', 'display_url': 'twitter.com/i/web/status/1…', 'indices': [117, 140]}]}, 'source': '<a href=\"https://twitter.com\" rel=\"nofollow\">Twitter for Advertisers</a>', 'in_reply_to_status_id': None, 'in_reply_to_status_id_str': None, 'in_reply_to_user_id': None, 'in_reply_to_user_id_str': None, 'in_reply_to_screen_name': None, 'user': {'id': 29930178, 'id_str': '29930178', 'name': 'SuperSport 🏆', 'screen_name': 'SuperSportTV', 'location': 'Africa', 'description': 'Join your World of Champions for all the latest sports news & updates', 'url': 'https://t.co/c5kSsvASy3', 'entities': {'url': {'urls': [{'url': 'https://t.co/c5kSsvASy3', 'expanded_url': 'http://www.supersport.com', 'display_url': 'supersport.com', 'indices': [0, 23]}]}, 'description': {'urls': []}}, 'protected': False, 'followers_count': 3112324, 'friends_count': 601, 'listed_count': 3548, 'created_at': 'Thu Apr 09 05:33:58 +0000 2009', 'favourites_count': 1932, 'utc_offset': None, 'time_zone': None, 'geo_enabled': True, 'verified': True, 'statuses_count': 338732, 'lang': None, 'contributors_enabled': False, 'is_translator': False, 'is_translation_enabled': False, 'profile_background_color': '000000', 'profile_background_image_url': 'http://abs.twimg.com/images/themes/theme4/bg.gif', 'profile_background_image_url_https': 'https://abs.twimg.com/images/themes/theme4/bg.gif', 'profile_background_tile': False, 'profile_image_url': 'http://pbs.twimg.com/profile_images/709394411168407552/p_5OEYc0_normal.jpg', 'profile_image_url_https': 'https://pbs.twimg.com/profile_images/709394411168407552/p_5OEYc0_normal.jpg', 'profile_banner_url': 'https://pbs.twimg.com/profile_banners/29930178/1659966693', 'profile_link_color': '0A1667', 'profile_sidebar_border_color': 'FFFFFF', 'profile_sidebar_fill_color': 'E9FBFB', 'profile_text_color': 'F91A28', 'profile_use_background_image': True, 'has_extended_profile': False, 'default_profile': False, 'default_profile_image': False, 'following': True, 'follow_request_sent': False, 'notifications': False, 'translator_type': 'none', 'withheld_in_countries': []}, 'geo': None, 'coordinates': None, 'place': None, 'contributors': None, 'is_quote_status': False, 'retweet_count': 5, 'favorite_count': 54, 'favorited': False, 'retweeted': True, 'lang': 'en'}, created_at=datetime.datetime(2022, 9, 7, 7, 0, 31, tzinfo=datetime.timezone.utc), id=1567407449069461505, id_str='1567407449069461505', text='📞 \"My country called and I had to answer.”\\n\\nBlitzboks legend Cecil Afrika opens up about his selection for this wee… https://t.co/zbEafjBGiR', truncated=True, entities={'hashtags': [], 'symbols': [], 'user_mentions': [], 'urls': [{'url': 'https://t.co/zbEafjBGiR', 'expanded_url': 'https://twitter.com/i/web/status/1567407449069461505', 'display_url': 'twitter.com/i/web/status/1…', 'indices': [117, 140]}]}, source='Twitter for Advertisers', source_url='https://twitter.com', in_reply_to_status_id=None, in_reply_to_status_id_str=None, in_reply_to_user_id=None, in_reply_to_user_id_str=None, in_reply_to_screen_name=None, author=User(_api=<tweepy.api.API object at 0x000001BE5C780FD0>, _json={'id': 29930178, 'id_str': '29930178', 'name': 'SuperSport 🏆', 'screen_name': 'SuperSportTV', 'location': 'Africa', 'description': 'Join your World of Champions for all the latest sports news & updates', 'url': 'https://t.co/c5kSsvASy3', 'entities': {'url': {'urls': [{'url': 'https://t.co/c5kSsvASy3', 'expanded_url': 'http://www.supersport.com', 'display_url': 'supersport.com', 'indices': [0, 23]}]}, 'description': {'urls': []}}, 'protected': False, 'followers_count': 3112324, 'friends_count': 601, 'listed_count': 3548, 'created_at': 'Thu Apr 09 05:33:58 +0000 2009', 'favourites_count': 1932, 'utc_offset': None, 'time_zone': None, 'geo_enabled': True, 'verified': True, 'statuses_count': 338732, 'lang': None, 'contributors_enabled': False, 'is_translator': False, 'is_translation_enabled': False, 'profile_background_color': '000000', 'profile_background_image_url': 'http://abs.twimg.com/images/themes/theme4/bg.gif', 'profile_background_image_url_https': 'https://abs.twimg.com/images/themes/theme4/bg.gif', 'profile_background_tile': False, 'profile_image_url': 'http://pbs.twimg.com/profile_images/709394411168407552/p_5OEYc0_normal.jpg', 'profile_image_url_https': 'https://pbs.twimg.com/profile_images/709394411168407552/p_5OEYc0_normal.jpg', 'profile_banner_url': 'https://pbs.twimg.com/profile_banners/29930178/1659966693', 'profile_link_color': '0A1667', 'profile_sidebar_border_color': 'FFFFFF', 'profile_sidebar_fill_color': 'E9FBFB', 'profile_text_color': 'F91A28', 'profile_use_background_image': True, 'has_extended_profile': False, 'default_profile': False, 'default_profile_image': False, 'following': True, 'follow_request_sent': False, 'notifications': False, 'translator_type': 'none', 'withheld_in_countries': []}, id=29930178, id_str='29930178', name='SuperSport 🏆', screen_name='SuperSportTV', location='Africa', description='Join your World of Champions for all the latest sports news & updates', url='https://t.co/c5kSsvASy3', entities={'url': {'urls': [{'url': 'https://t.co/c5kSsvASy3', 'expanded_url': 'http://www.supersport.com', 'display_url': 'supersport.com', 'indices': [0, 23]}]}, 'description': {'urls': []}}, protected=False, followers_count=3112324, friends_count=601, listed_count=3548, created_at=datetime.datetime(2009, 4, 9, 5, 33, 58, tzinfo=datetime.timezone.utc), favourites_count=1932, utc_offset=None, time_zone=None, geo_enabled=True, verified=True, statuses_count=338732, lang=None, contributors_enabled=False, is_translator=False, is_translation_enabled=False, profile_background_color='000000', profile_background_image_url='http://abs.twimg.com/images/themes/theme4/bg.gif', profile_background_image_url_https='https://abs.twimg.com/images/themes/theme4/bg.gif', profile_background_tile=False, profile_image_url='http://pbs.twimg.com/profile_images/709394411168407552/p_5OEYc0_normal.jpg', profile_image_url_https='https://pbs.twimg.com/profile_images/709394411168407552/p_5OEYc0_normal.jpg', profile_banner_url='https://pbs.twimg.com/profile_banners/29930178/1659966693', profile_link_color='0A1667', profile_sidebar_border_color='FFFFFF', profile_sidebar_fill_color='E9FBFB', profile_text_color='F91A28', profile_use_background_image=True, has_extended_profile=False, default_profile=False, default_profile_image=False, following=True, follow_request_sent=False, notifications=False, translator_type='none', withheld_in_countries=[]), user=User(_api=<tweepy.api.API object at 0x000001BE5C780FD0>, _json={'id': 29930178, 'id_str': '29930178', 'name': 'SuperSport 🏆', 'screen_name': 'SuperSportTV', 'location': 'Africa', 'description': 'Join your World of Champions for all the latest sports news & updates', 'url': 'https://t.co/c5kSsvASy3', 'entities': {'url': {'urls': [{'url': 'https://t.co/c5kSsvASy3', 'expanded_url': 'http://www.supersport.com', 'display_url': 'supersport.com', 'indices': [0, 23]}]}, 'description': {'urls': []}}, 'protected': False, 'followers_count': 3112324, 'friends_count': 601, 'listed_count': 3548, 'created_at': 'Thu Apr 09 05:33:58 +0000 2009', 'favourites_count': 1932, 'utc_offset': None, 'time_zone': None, 'geo_enabled': True, 'verified': True, 'statuses_count': 338732, 'lang': None, 'contributors_enabled': False, 'is_translator': False, 'is_translation_enabled': False, 'profile_background_color': '000000', 'profile_background_image_url': 'http://abs.twimg.com/images/themes/theme4/bg.gif', 'profile_background_image_url_https': 'https://abs.twimg.com/images/themes/theme4/bg.gif', 'profile_background_tile': False, 'profile_image_url': 'http://pbs.twimg.com/profile_images/709394411168407552/p_5OEYc0_normal.jpg', 'profile_image_url_https': 'https://pbs.twimg.com/profile_images/709394411168407552/p_5OEYc0_normal.jpg', 'profile_banner_url': 'https://pbs.twimg.com/profile_banners/29930178/1659966693', 'profile_link_color': '0A1667', 'profile_sidebar_border_color': 'FFFFFF', 'profile_sidebar_fill_color': 'E9FBFB', 'profile_text_color': 'F91A28', 'profile_use_background_image': True, 'has_extended_profile': False, 'default_profile': False, 'default_profile_image': False, 'following': True, 'follow_request_sent': False, 'notifications': False, 'translator_type': 'none', 'withheld_in_countries': []}, id=29930178, id_str='29930178', name='SuperSport 🏆', screen_name='SuperSportTV', location='Africa', description='Join your World of Champions for all the latest sports news & updates', url='https://t.co/c5kSsvASy3', entities={'url': {'urls': [{'url': 'https://t.co/c5kSsvASy3', 'expanded_url': 'http://www.supersport.com', 'display_url': 'supersport.com', 'indices': [0, 23]}]}, 'description': {'urls': []}}, protected=False, followers_count=3112324, friends_count=601, listed_count=3548, created_at=datetime.datetime(2009, 4, 9, 5, 33, 58, tzinfo=datetime.timezone.utc), favourites_count=1932, utc_offset=None, time_zone=None, geo_enabled=True, verified=True, statuses_count=338732, lang=None, contributors_enabled=False, is_translator=False, is_translation_enabled=False, profile_background_color='000000', profile_background_image_url='http://abs.twimg.com/images/themes/theme4/bg.gif', profile_background_image_url_https='https://abs.twimg.com/images/themes/theme4/bg.gif', profile_background_tile=False, profile_image_url='http://pbs.twimg.com/profile_images/709394411168407552/p_5OEYc0_normal.jpg', profile_image_url_https='https://pbs.twimg.com/profile_images/709394411168407552/p_5OEYc0_normal.jpg', profile_banner_url='https://pbs.twimg.com/profile_banners/29930178/1659966693', profile_link_color='0A1667', profile_sidebar_border_color='FFFFFF', profile_sidebar_fill_color='E9FBFB', profile_text_color='F91A28', profile_use_background_image=True, has_extended_profile=False, default_profile=False, default_profile_image=False, following=True, follow_request_sent=False, notifications=False, translator_type='none', withheld_in_countries=[]), geo=None, coordinates=None, place=None, contributors=None, is_quote_status=False, retweet_count=5, favorite_count=54, favorited=False, retweeted=True, lang='en'), is_quote_status=False, retweet_count=5, favorite_count=0, favorited=False, retweeted=True, lang='en')"
      ]
     },
     "execution_count": 39,
     "metadata": {},
     "output_type": "execute_result"
    }
   ],
   "source": [
    "api.retweet(status_tl.id)"
   ]
  },
  {
   "cell_type": "code",
   "execution_count": 40,
   "id": "a2439e72",
   "metadata": {},
   "outputs": [
    {
     "data": {
      "text/plain": [
       "Status(_api=<tweepy.api.API object at 0x000001BE5C780FD0>, _json={'created_at': 'Wed Sep 07 07:00:31 +0000 2022', 'id': 1567407449069461505, 'id_str': '1567407449069461505', 'text': '📞 \"My country called and I had to answer.”\\n\\nBlitzboks legend Cecil Afrika opens up about his selection for this wee… https://t.co/zbEafjBGiR', 'truncated': True, 'entities': {'hashtags': [], 'symbols': [], 'user_mentions': [], 'urls': [{'url': 'https://t.co/zbEafjBGiR', 'expanded_url': 'https://twitter.com/i/web/status/1567407449069461505', 'display_url': 'twitter.com/i/web/status/1…', 'indices': [117, 140]}]}, 'source': '<a href=\"https://twitter.com\" rel=\"nofollow\">Twitter for Advertisers</a>', 'in_reply_to_status_id': None, 'in_reply_to_status_id_str': None, 'in_reply_to_user_id': None, 'in_reply_to_user_id_str': None, 'in_reply_to_screen_name': None, 'user': {'id': 29930178, 'id_str': '29930178', 'name': 'SuperSport 🏆', 'screen_name': 'SuperSportTV', 'location': 'Africa', 'description': 'Join your World of Champions for all the latest sports news & updates', 'url': 'https://t.co/c5kSsvASy3', 'entities': {'url': {'urls': [{'url': 'https://t.co/c5kSsvASy3', 'expanded_url': 'http://www.supersport.com', 'display_url': 'supersport.com', 'indices': [0, 23]}]}, 'description': {'urls': []}}, 'protected': False, 'followers_count': 3112324, 'friends_count': 601, 'listed_count': 3548, 'created_at': 'Thu Apr 09 05:33:58 +0000 2009', 'favourites_count': 1932, 'utc_offset': None, 'time_zone': None, 'geo_enabled': True, 'verified': True, 'statuses_count': 338732, 'lang': None, 'contributors_enabled': False, 'is_translator': False, 'is_translation_enabled': False, 'profile_background_color': '000000', 'profile_background_image_url': 'http://abs.twimg.com/images/themes/theme4/bg.gif', 'profile_background_image_url_https': 'https://abs.twimg.com/images/themes/theme4/bg.gif', 'profile_background_tile': False, 'profile_image_url': 'http://pbs.twimg.com/profile_images/709394411168407552/p_5OEYc0_normal.jpg', 'profile_image_url_https': 'https://pbs.twimg.com/profile_images/709394411168407552/p_5OEYc0_normal.jpg', 'profile_banner_url': 'https://pbs.twimg.com/profile_banners/29930178/1659966693', 'profile_link_color': '0A1667', 'profile_sidebar_border_color': 'FFFFFF', 'profile_sidebar_fill_color': 'E9FBFB', 'profile_text_color': 'F91A28', 'profile_use_background_image': True, 'has_extended_profile': False, 'default_profile': False, 'default_profile_image': False, 'following': True, 'follow_request_sent': False, 'notifications': False, 'translator_type': 'none', 'withheld_in_countries': []}, 'geo': None, 'coordinates': None, 'place': None, 'contributors': None, 'is_quote_status': False, 'retweet_count': 5, 'favorite_count': 55, 'favorited': True, 'retweeted': True, 'lang': 'en'}, created_at=datetime.datetime(2022, 9, 7, 7, 0, 31, tzinfo=datetime.timezone.utc), id=1567407449069461505, id_str='1567407449069461505', text='📞 \"My country called and I had to answer.”\\n\\nBlitzboks legend Cecil Afrika opens up about his selection for this wee… https://t.co/zbEafjBGiR', truncated=True, entities={'hashtags': [], 'symbols': [], 'user_mentions': [], 'urls': [{'url': 'https://t.co/zbEafjBGiR', 'expanded_url': 'https://twitter.com/i/web/status/1567407449069461505', 'display_url': 'twitter.com/i/web/status/1…', 'indices': [117, 140]}]}, source='Twitter for Advertisers', source_url='https://twitter.com', in_reply_to_status_id=None, in_reply_to_status_id_str=None, in_reply_to_user_id=None, in_reply_to_user_id_str=None, in_reply_to_screen_name=None, author=User(_api=<tweepy.api.API object at 0x000001BE5C780FD0>, _json={'id': 29930178, 'id_str': '29930178', 'name': 'SuperSport 🏆', 'screen_name': 'SuperSportTV', 'location': 'Africa', 'description': 'Join your World of Champions for all the latest sports news & updates', 'url': 'https://t.co/c5kSsvASy3', 'entities': {'url': {'urls': [{'url': 'https://t.co/c5kSsvASy3', 'expanded_url': 'http://www.supersport.com', 'display_url': 'supersport.com', 'indices': [0, 23]}]}, 'description': {'urls': []}}, 'protected': False, 'followers_count': 3112324, 'friends_count': 601, 'listed_count': 3548, 'created_at': 'Thu Apr 09 05:33:58 +0000 2009', 'favourites_count': 1932, 'utc_offset': None, 'time_zone': None, 'geo_enabled': True, 'verified': True, 'statuses_count': 338732, 'lang': None, 'contributors_enabled': False, 'is_translator': False, 'is_translation_enabled': False, 'profile_background_color': '000000', 'profile_background_image_url': 'http://abs.twimg.com/images/themes/theme4/bg.gif', 'profile_background_image_url_https': 'https://abs.twimg.com/images/themes/theme4/bg.gif', 'profile_background_tile': False, 'profile_image_url': 'http://pbs.twimg.com/profile_images/709394411168407552/p_5OEYc0_normal.jpg', 'profile_image_url_https': 'https://pbs.twimg.com/profile_images/709394411168407552/p_5OEYc0_normal.jpg', 'profile_banner_url': 'https://pbs.twimg.com/profile_banners/29930178/1659966693', 'profile_link_color': '0A1667', 'profile_sidebar_border_color': 'FFFFFF', 'profile_sidebar_fill_color': 'E9FBFB', 'profile_text_color': 'F91A28', 'profile_use_background_image': True, 'has_extended_profile': False, 'default_profile': False, 'default_profile_image': False, 'following': True, 'follow_request_sent': False, 'notifications': False, 'translator_type': 'none', 'withheld_in_countries': []}, id=29930178, id_str='29930178', name='SuperSport 🏆', screen_name='SuperSportTV', location='Africa', description='Join your World of Champions for all the latest sports news & updates', url='https://t.co/c5kSsvASy3', entities={'url': {'urls': [{'url': 'https://t.co/c5kSsvASy3', 'expanded_url': 'http://www.supersport.com', 'display_url': 'supersport.com', 'indices': [0, 23]}]}, 'description': {'urls': []}}, protected=False, followers_count=3112324, friends_count=601, listed_count=3548, created_at=datetime.datetime(2009, 4, 9, 5, 33, 58, tzinfo=datetime.timezone.utc), favourites_count=1932, utc_offset=None, time_zone=None, geo_enabled=True, verified=True, statuses_count=338732, lang=None, contributors_enabled=False, is_translator=False, is_translation_enabled=False, profile_background_color='000000', profile_background_image_url='http://abs.twimg.com/images/themes/theme4/bg.gif', profile_background_image_url_https='https://abs.twimg.com/images/themes/theme4/bg.gif', profile_background_tile=False, profile_image_url='http://pbs.twimg.com/profile_images/709394411168407552/p_5OEYc0_normal.jpg', profile_image_url_https='https://pbs.twimg.com/profile_images/709394411168407552/p_5OEYc0_normal.jpg', profile_banner_url='https://pbs.twimg.com/profile_banners/29930178/1659966693', profile_link_color='0A1667', profile_sidebar_border_color='FFFFFF', profile_sidebar_fill_color='E9FBFB', profile_text_color='F91A28', profile_use_background_image=True, has_extended_profile=False, default_profile=False, default_profile_image=False, following=True, follow_request_sent=False, notifications=False, translator_type='none', withheld_in_countries=[]), user=User(_api=<tweepy.api.API object at 0x000001BE5C780FD0>, _json={'id': 29930178, 'id_str': '29930178', 'name': 'SuperSport 🏆', 'screen_name': 'SuperSportTV', 'location': 'Africa', 'description': 'Join your World of Champions for all the latest sports news & updates', 'url': 'https://t.co/c5kSsvASy3', 'entities': {'url': {'urls': [{'url': 'https://t.co/c5kSsvASy3', 'expanded_url': 'http://www.supersport.com', 'display_url': 'supersport.com', 'indices': [0, 23]}]}, 'description': {'urls': []}}, 'protected': False, 'followers_count': 3112324, 'friends_count': 601, 'listed_count': 3548, 'created_at': 'Thu Apr 09 05:33:58 +0000 2009', 'favourites_count': 1932, 'utc_offset': None, 'time_zone': None, 'geo_enabled': True, 'verified': True, 'statuses_count': 338732, 'lang': None, 'contributors_enabled': False, 'is_translator': False, 'is_translation_enabled': False, 'profile_background_color': '000000', 'profile_background_image_url': 'http://abs.twimg.com/images/themes/theme4/bg.gif', 'profile_background_image_url_https': 'https://abs.twimg.com/images/themes/theme4/bg.gif', 'profile_background_tile': False, 'profile_image_url': 'http://pbs.twimg.com/profile_images/709394411168407552/p_5OEYc0_normal.jpg', 'profile_image_url_https': 'https://pbs.twimg.com/profile_images/709394411168407552/p_5OEYc0_normal.jpg', 'profile_banner_url': 'https://pbs.twimg.com/profile_banners/29930178/1659966693', 'profile_link_color': '0A1667', 'profile_sidebar_border_color': 'FFFFFF', 'profile_sidebar_fill_color': 'E9FBFB', 'profile_text_color': 'F91A28', 'profile_use_background_image': True, 'has_extended_profile': False, 'default_profile': False, 'default_profile_image': False, 'following': True, 'follow_request_sent': False, 'notifications': False, 'translator_type': 'none', 'withheld_in_countries': []}, id=29930178, id_str='29930178', name='SuperSport 🏆', screen_name='SuperSportTV', location='Africa', description='Join your World of Champions for all the latest sports news & updates', url='https://t.co/c5kSsvASy3', entities={'url': {'urls': [{'url': 'https://t.co/c5kSsvASy3', 'expanded_url': 'http://www.supersport.com', 'display_url': 'supersport.com', 'indices': [0, 23]}]}, 'description': {'urls': []}}, protected=False, followers_count=3112324, friends_count=601, listed_count=3548, created_at=datetime.datetime(2009, 4, 9, 5, 33, 58, tzinfo=datetime.timezone.utc), favourites_count=1932, utc_offset=None, time_zone=None, geo_enabled=True, verified=True, statuses_count=338732, lang=None, contributors_enabled=False, is_translator=False, is_translation_enabled=False, profile_background_color='000000', profile_background_image_url='http://abs.twimg.com/images/themes/theme4/bg.gif', profile_background_image_url_https='https://abs.twimg.com/images/themes/theme4/bg.gif', profile_background_tile=False, profile_image_url='http://pbs.twimg.com/profile_images/709394411168407552/p_5OEYc0_normal.jpg', profile_image_url_https='https://pbs.twimg.com/profile_images/709394411168407552/p_5OEYc0_normal.jpg', profile_banner_url='https://pbs.twimg.com/profile_banners/29930178/1659966693', profile_link_color='0A1667', profile_sidebar_border_color='FFFFFF', profile_sidebar_fill_color='E9FBFB', profile_text_color='F91A28', profile_use_background_image=True, has_extended_profile=False, default_profile=False, default_profile_image=False, following=True, follow_request_sent=False, notifications=False, translator_type='none', withheld_in_countries=[]), geo=None, coordinates=None, place=None, contributors=None, is_quote_status=False, retweet_count=5, favorite_count=55, favorited=True, retweeted=True, lang='en')"
      ]
     },
     "execution_count": 40,
     "metadata": {},
     "output_type": "execute_result"
    }
   ],
   "source": [
    "api.create_favorite(status_tl.id)"
   ]
  },
  {
   "cell_type": "code",
   "execution_count": 52,
   "id": "65eea66a",
   "metadata": {},
   "outputs": [],
   "source": [
    "recent_mention = api.mentions_timeline()[7]"
   ]
  },
  {
   "cell_type": "code",
   "execution_count": 63,
   "id": "1e12abe2",
   "metadata": {},
   "outputs": [],
   "source": [
    "my_reply = api.update_status(status = f\"@{recent_mention.user.screen_name} Hello World!\",  in_reply_to_status_id =recent_mention.id)"
   ]
  },
  {
   "cell_type": "code",
   "execution_count": 65,
   "id": "40ca9717",
   "metadata": {},
   "outputs": [
    {
     "data": {
      "text/plain": [
       "Status(_api=<tweepy.api.API object at 0x000001D5298F71C0>, _json={'created_at': 'Wed Sep 07 09:45:07 +0000 2022', 'id': 1567448873391513603, 'id_str': '1567448873391513603', 'text': '@dav_zoid Hello World!', 'truncated': False, 'entities': {'hashtags': [], 'symbols': [], 'user_mentions': [{'screen_name': 'dav_zoid', 'name': 'Olatunji || Startups Designer', 'id': 1207620026251038720, 'id_str': '1207620026251038720', 'indices': [0, 9]}], 'urls': []}, 'source': '<a href=\"https://github.com/TaslimOwolarafe\" rel=\"nofollow\">TweetBotCatcher</a>', 'in_reply_to_status_id': 1567424715479711745, 'in_reply_to_status_id_str': '1567424715479711745', 'in_reply_to_user_id': 1207620026251038720, 'in_reply_to_user_id_str': '1207620026251038720', 'in_reply_to_screen_name': 'dav_zoid', 'user': {'id': 1153676762552963072, 'id_str': '1153676762552963072', 'name': 'tas-sama', 'screen_name': 'tasleemm_', 'location': '7.5629° N, 4.5200° E', 'description': 'Nothing to see here yet..', 'url': 'https://t.co/sg7UjOGJt4', 'entities': {'url': {'urls': [{'url': 'https://t.co/sg7UjOGJt4', 'expanded_url': 'https://github.com/TaslimOwolarafe', 'display_url': 'github.com/TaslimOwolarafe', 'indices': [0, 23]}]}, 'description': {'urls': []}}, 'protected': True, 'followers_count': 467, 'friends_count': 440, 'listed_count': 0, 'created_at': 'Tue Jul 23 14:42:29 +0000 2019', 'favourites_count': 10500, 'utc_offset': None, 'time_zone': None, 'geo_enabled': True, 'verified': False, 'statuses_count': 2546, 'lang': None, 'contributors_enabled': False, 'is_translator': False, 'is_translation_enabled': False, 'profile_background_color': 'F5F8FA', 'profile_background_image_url': None, 'profile_background_image_url_https': None, 'profile_background_tile': False, 'profile_image_url': 'http://pbs.twimg.com/profile_images/1490304022678491140/sUhnDBxH_normal.jpg', 'profile_image_url_https': 'https://pbs.twimg.com/profile_images/1490304022678491140/sUhnDBxH_normal.jpg', 'profile_banner_url': 'https://pbs.twimg.com/profile_banners/1153676762552963072/1612275236', 'profile_link_color': '1DA1F2', 'profile_sidebar_border_color': 'C0DEED', 'profile_sidebar_fill_color': 'DDEEF6', 'profile_text_color': '333333', 'profile_use_background_image': True, 'has_extended_profile': True, 'default_profile': True, 'default_profile_image': False, 'following': False, 'follow_request_sent': False, 'notifications': False, 'translator_type': 'none', 'withheld_in_countries': []}, 'geo': None, 'coordinates': None, 'place': None, 'contributors': None, 'is_quote_status': False, 'retweet_count': 0, 'favorite_count': 0, 'favorited': False, 'retweeted': False, 'lang': 'en'}, created_at=datetime.datetime(2022, 9, 7, 9, 45, 7, tzinfo=datetime.timezone.utc), id=1567448873391513603, id_str='1567448873391513603', text='@dav_zoid Hello World!', truncated=False, entities={'hashtags': [], 'symbols': [], 'user_mentions': [{'screen_name': 'dav_zoid', 'name': 'Olatunji || Startups Designer', 'id': 1207620026251038720, 'id_str': '1207620026251038720', 'indices': [0, 9]}], 'urls': []}, source='TweetBotCatcher', source_url='https://github.com/TaslimOwolarafe', in_reply_to_status_id=1567424715479711745, in_reply_to_status_id_str='1567424715479711745', in_reply_to_user_id=1207620026251038720, in_reply_to_user_id_str='1207620026251038720', in_reply_to_screen_name='dav_zoid', author=User(_api=<tweepy.api.API object at 0x000001D5298F71C0>, _json={'id': 1153676762552963072, 'id_str': '1153676762552963072', 'name': 'tas-sama', 'screen_name': 'tasleemm_', 'location': '7.5629° N, 4.5200° E', 'description': 'Nothing to see here yet..', 'url': 'https://t.co/sg7UjOGJt4', 'entities': {'url': {'urls': [{'url': 'https://t.co/sg7UjOGJt4', 'expanded_url': 'https://github.com/TaslimOwolarafe', 'display_url': 'github.com/TaslimOwolarafe', 'indices': [0, 23]}]}, 'description': {'urls': []}}, 'protected': True, 'followers_count': 467, 'friends_count': 440, 'listed_count': 0, 'created_at': 'Tue Jul 23 14:42:29 +0000 2019', 'favourites_count': 10500, 'utc_offset': None, 'time_zone': None, 'geo_enabled': True, 'verified': False, 'statuses_count': 2546, 'lang': None, 'contributors_enabled': False, 'is_translator': False, 'is_translation_enabled': False, 'profile_background_color': 'F5F8FA', 'profile_background_image_url': None, 'profile_background_image_url_https': None, 'profile_background_tile': False, 'profile_image_url': 'http://pbs.twimg.com/profile_images/1490304022678491140/sUhnDBxH_normal.jpg', 'profile_image_url_https': 'https://pbs.twimg.com/profile_images/1490304022678491140/sUhnDBxH_normal.jpg', 'profile_banner_url': 'https://pbs.twimg.com/profile_banners/1153676762552963072/1612275236', 'profile_link_color': '1DA1F2', 'profile_sidebar_border_color': 'C0DEED', 'profile_sidebar_fill_color': 'DDEEF6', 'profile_text_color': '333333', 'profile_use_background_image': True, 'has_extended_profile': True, 'default_profile': True, 'default_profile_image': False, 'following': False, 'follow_request_sent': False, 'notifications': False, 'translator_type': 'none', 'withheld_in_countries': []}, id=1153676762552963072, id_str='1153676762552963072', name='tas-sama', screen_name='tasleemm_', location='7.5629° N, 4.5200° E', description='Nothing to see here yet..', url='https://t.co/sg7UjOGJt4', entities={'url': {'urls': [{'url': 'https://t.co/sg7UjOGJt4', 'expanded_url': 'https://github.com/TaslimOwolarafe', 'display_url': 'github.com/TaslimOwolarafe', 'indices': [0, 23]}]}, 'description': {'urls': []}}, protected=True, followers_count=467, friends_count=440, listed_count=0, created_at=datetime.datetime(2019, 7, 23, 14, 42, 29, tzinfo=datetime.timezone.utc), favourites_count=10500, utc_offset=None, time_zone=None, geo_enabled=True, verified=False, statuses_count=2546, lang=None, contributors_enabled=False, is_translator=False, is_translation_enabled=False, profile_background_color='F5F8FA', profile_background_image_url=None, profile_background_image_url_https=None, profile_background_tile=False, profile_image_url='http://pbs.twimg.com/profile_images/1490304022678491140/sUhnDBxH_normal.jpg', profile_image_url_https='https://pbs.twimg.com/profile_images/1490304022678491140/sUhnDBxH_normal.jpg', profile_banner_url='https://pbs.twimg.com/profile_banners/1153676762552963072/1612275236', profile_link_color='1DA1F2', profile_sidebar_border_color='C0DEED', profile_sidebar_fill_color='DDEEF6', profile_text_color='333333', profile_use_background_image=True, has_extended_profile=True, default_profile=True, default_profile_image=False, following=False, follow_request_sent=False, notifications=False, translator_type='none', withheld_in_countries=[]), user=User(_api=<tweepy.api.API object at 0x000001D5298F71C0>, _json={'id': 1153676762552963072, 'id_str': '1153676762552963072', 'name': 'tas-sama', 'screen_name': 'tasleemm_', 'location': '7.5629° N, 4.5200° E', 'description': 'Nothing to see here yet..', 'url': 'https://t.co/sg7UjOGJt4', 'entities': {'url': {'urls': [{'url': 'https://t.co/sg7UjOGJt4', 'expanded_url': 'https://github.com/TaslimOwolarafe', 'display_url': 'github.com/TaslimOwolarafe', 'indices': [0, 23]}]}, 'description': {'urls': []}}, 'protected': True, 'followers_count': 467, 'friends_count': 440, 'listed_count': 0, 'created_at': 'Tue Jul 23 14:42:29 +0000 2019', 'favourites_count': 10500, 'utc_offset': None, 'time_zone': None, 'geo_enabled': True, 'verified': False, 'statuses_count': 2546, 'lang': None, 'contributors_enabled': False, 'is_translator': False, 'is_translation_enabled': False, 'profile_background_color': 'F5F8FA', 'profile_background_image_url': None, 'profile_background_image_url_https': None, 'profile_background_tile': False, 'profile_image_url': 'http://pbs.twimg.com/profile_images/1490304022678491140/sUhnDBxH_normal.jpg', 'profile_image_url_https': 'https://pbs.twimg.com/profile_images/1490304022678491140/sUhnDBxH_normal.jpg', 'profile_banner_url': 'https://pbs.twimg.com/profile_banners/1153676762552963072/1612275236', 'profile_link_color': '1DA1F2', 'profile_sidebar_border_color': 'C0DEED', 'profile_sidebar_fill_color': 'DDEEF6', 'profile_text_color': '333333', 'profile_use_background_image': True, 'has_extended_profile': True, 'default_profile': True, 'default_profile_image': False, 'following': False, 'follow_request_sent': False, 'notifications': False, 'translator_type': 'none', 'withheld_in_countries': []}, id=1153676762552963072, id_str='1153676762552963072', name='tas-sama', screen_name='tasleemm_', location='7.5629° N, 4.5200° E', description='Nothing to see here yet..', url='https://t.co/sg7UjOGJt4', entities={'url': {'urls': [{'url': 'https://t.co/sg7UjOGJt4', 'expanded_url': 'https://github.com/TaslimOwolarafe', 'display_url': 'github.com/TaslimOwolarafe', 'indices': [0, 23]}]}, 'description': {'urls': []}}, protected=True, followers_count=467, friends_count=440, listed_count=0, created_at=datetime.datetime(2019, 7, 23, 14, 42, 29, tzinfo=datetime.timezone.utc), favourites_count=10500, utc_offset=None, time_zone=None, geo_enabled=True, verified=False, statuses_count=2546, lang=None, contributors_enabled=False, is_translator=False, is_translation_enabled=False, profile_background_color='F5F8FA', profile_background_image_url=None, profile_background_image_url_https=None, profile_background_tile=False, profile_image_url='http://pbs.twimg.com/profile_images/1490304022678491140/sUhnDBxH_normal.jpg', profile_image_url_https='https://pbs.twimg.com/profile_images/1490304022678491140/sUhnDBxH_normal.jpg', profile_banner_url='https://pbs.twimg.com/profile_banners/1153676762552963072/1612275236', profile_link_color='1DA1F2', profile_sidebar_border_color='C0DEED', profile_sidebar_fill_color='DDEEF6', profile_text_color='333333', profile_use_background_image=True, has_extended_profile=True, default_profile=True, default_profile_image=False, following=False, follow_request_sent=False, notifications=False, translator_type='none', withheld_in_countries=[]), geo=None, coordinates=None, place=None, contributors=None, is_quote_status=False, retweet_count=0, favorite_count=0, favorited=False, retweeted=False, lang='en')"
      ]
     },
     "execution_count": 65,
     "metadata": {},
     "output_type": "execute_result"
    }
   ],
   "source": [
    "my_reply.destroy()"
   ]
  },
  {
   "cell_type": "code",
   "execution_count": 53,
   "id": "f92cfcaf",
   "metadata": {},
   "outputs": [],
   "source": [
    "user = api.get_user(user_id=recent_mention.user.id)"
   ]
  },
  {
   "cell_type": "code",
   "execution_count": 57,
   "id": "c7eb8534",
   "metadata": {},
   "outputs": [
    {
     "name": "stdout",
     "output_type": "stream",
     "text": [
      "hibatullahhh; followers: 1345, following: 1474\n"
     ]
    }
   ],
   "source": [
    "print(f\"{user.screen_name}; followers: {user.followers_count}, following: {user.friends_count}\")"
   ]
  },
  {
   "cell_type": "code",
   "execution_count": 66,
   "id": "99c5c2f9",
   "metadata": {},
   "outputs": [
    {
     "data": {
      "text/plain": [
       "20"
      ]
     },
     "execution_count": 66,
     "metadata": {},
     "output_type": "execute_result"
    }
   ],
   "source": [
    "user_friends = user.friends()\n",
    "len(user_friends)"
   ]
  },
  {
   "cell_type": "code",
   "execution_count": 65,
   "id": "ba831b32",
   "metadata": {},
   "outputs": [],
   "source": [
    "for friend in user_friends:\n",
    "    if friend.followers_count < 1000 and friend.friends_count > 1000:\n",
    "        print(friend.screen_name)\n",
    "#         api.destroy_friendship(screen_name=friend.screen_name)\n"
   ]
  },
  {
   "cell_type": "code",
   "execution_count": 68,
   "id": "03a5e454",
   "metadata": {},
   "outputs": [],
   "source": [
    "hiba_followers = api.get_followers(user_id=user.id)"
   ]
  },
  {
   "cell_type": "code",
   "execution_count": 75,
   "id": "5eee1c92",
   "metadata": {},
   "outputs": [
    {
     "name": "stdout",
     "output_type": "stream",
     "text": [
      "Sanusiabiodun87 1170 155\n"
     ]
    }
   ],
   "source": [
    "for person in hiba_followers:\n",
    "    if person.followers_count < 200 and person.friends_count > 1000:\n",
    "        print(person.screen_name, person.friends_count, person.followers_count)"
   ]
  },
  {
   "cell_type": "code",
   "execution_count": null,
   "id": "16c0d4b3",
   "metadata": {},
   "outputs": [],
   "source": []
  }
 ],
 "metadata": {
  "kernelspec": {
   "display_name": "twitterVenv",
   "language": "python",
   "name": "twittervenv"
  },
  "language_info": {
   "codemirror_mode": {
    "name": "ipython",
    "version": 3
   },
   "file_extension": ".py",
   "mimetype": "text/x-python",
   "name": "python",
   "nbconvert_exporter": "python",
   "pygments_lexer": "ipython3",
   "version": "3.10.1"
  }
 },
 "nbformat": 4,
 "nbformat_minor": 5
}
