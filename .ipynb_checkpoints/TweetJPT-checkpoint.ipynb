{
 "cells": [
  {
   "cell_type": "code",
   "execution_count": 81,
   "id": "6e30fe8a",
   "metadata": {},
   "outputs": [],
   "source": [
    "import os, tweepy, dotenv, csv\n",
    "import webbrowser\n",
    "import dotenv\n",
    "import pandas as pd"
   ]
  },
  {
   "cell_type": "code",
   "execution_count": 14,
   "id": "c4126e98",
   "metadata": {},
   "outputs": [
    {
     "data": {
      "text/plain": [
       "True"
      ]
     },
     "execution_count": 14,
     "metadata": {},
     "output_type": "execute_result"
    }
   ],
   "source": [
    "from dotenv import load_dotenv\n",
    "load_dotenv()"
   ]
  },
  {
   "cell_type": "code",
   "execution_count": 15,
   "id": "c00a7417",
   "metadata": {},
   "outputs": [],
   "source": [
    "api_key = os.getenv('api_key')\n",
    "api_key_secret = os.getenv(\"api_key_secret\")\n",
    "access_token = os.getenv('access_token')\n",
    "access_token_secret = os.getenv(\"access_token_secret\")"
   ]
  },
  {
   "cell_type": "code",
   "execution_count": 16,
   "id": "2e49703e",
   "metadata": {},
   "outputs": [],
   "source": [
    "callback_uri = 'oob'\n",
    "auth = tweepy.OAuthHandler(api_key, api_key_secret, callback=callback_uri)"
   ]
  },
  {
   "cell_type": "code",
   "execution_count": 17,
   "id": "df488404",
   "metadata": {},
   "outputs": [],
   "source": [
    "redirect_url = auth.get_authorization_url()"
   ]
  },
  {
   "cell_type": "code",
   "execution_count": 18,
   "id": "9e25110b",
   "metadata": {},
   "outputs": [
    {
     "name": "stdout",
     "output_type": "stream",
     "text": [
      "https://api.twitter.com/oauth/authorize?oauth_token=bUYybgAAAAABgtOVAAABgxGX8xA\n"
     ]
    },
    {
     "data": {
      "text/plain": [
       "True"
      ]
     },
     "execution_count": 18,
     "metadata": {},
     "output_type": "execute_result"
    }
   ],
   "source": [
    "print(redirect_url)\n",
    "webbrowser.open(redirect_url)"
   ]
  },
  {
   "cell_type": "code",
   "execution_count": 19,
   "id": "087250da",
   "metadata": {},
   "outputs": [
    {
     "name": "stdout",
     "output_type": "stream",
     "text": [
      "None None\n",
      "What is the pin? 1540102\n"
     ]
    }
   ],
   "source": [
    "print(auth.access_token, auth.access_token_secret)\n",
    "user_pin = input(\"What is the pin? \")"
   ]
  },
  {
   "cell_type": "code",
   "execution_count": 20,
   "id": "09f657c1",
   "metadata": {},
   "outputs": [
    {
     "name": "stdout",
     "output_type": "stream",
     "text": [
      "1153676762552963072-aTA5t5pd14XMlh7I6YI3hfTytQ0Xho yeZzUQQWinX2qocA0mTwLsIXlLxuGhS6hsTsZLC4Gmdo8\n"
     ]
    }
   ],
   "source": [
    "auth.get_access_token(user_pin)\n",
    "print(auth.access_token, auth.access_token_secret)"
   ]
  },
  {
   "cell_type": "code",
   "execution_count": 21,
   "id": "2db26854",
   "metadata": {},
   "outputs": [],
   "source": [
    "api = tweepy.API(auth)"
   ]
  },
  {
   "cell_type": "code",
   "execution_count": 22,
   "id": "7797c7bf",
   "metadata": {},
   "outputs": [],
   "source": [
    "new_status = api.update_status(\"Hello world!\")"
   ]
  },
  {
   "cell_type": "code",
   "execution_count": 23,
   "id": "65474471",
   "metadata": {},
   "outputs": [
    {
     "name": "stdout",
     "output_type": "stream",
     "text": [
      "Status(_api=<tweepy.api.API object at 0x000002ADAE204DF0>, _json={'created_at': 'Tue Sep 06 06:58:48 +0000 2022', 'id': 1567044629949710338, 'id_str': '1567044629949710338', 'text': 'Hello world!', 'truncated': False, 'entities': {'hashtags': [], 'symbols': [], 'user_mentions': [], 'urls': []}, 'source': '<a href=\"https://github.com/TaslimOwolarafe\" rel=\"nofollow\">TweetBotCatcher</a>', 'in_reply_to_status_id': None, 'in_reply_to_status_id_str': None, 'in_reply_to_user_id': None, 'in_reply_to_user_id_str': None, 'in_reply_to_screen_name': None, 'user': {'id': 1153676762552963072, 'id_str': '1153676762552963072', 'name': 'tas-sama', 'screen_name': 'tasleemm_', 'location': '7.5629° N, 4.5200° E', 'description': 'Nothing to see here yet..', 'url': 'https://t.co/sg7UjOGJt4', 'entities': {'url': {'urls': [{'url': 'https://t.co/sg7UjOGJt4', 'expanded_url': 'https://github.com/TaslimOwolarafe', 'display_url': 'github.com/TaslimOwolarafe', 'indices': [0, 23]}]}, 'description': {'urls': []}}, 'protected': True, 'followers_count': 467, 'friends_count': 440, 'listed_count': 0, 'created_at': 'Tue Jul 23 14:42:29 +0000 2019', 'favourites_count': 10498, 'utc_offset': None, 'time_zone': None, 'geo_enabled': True, 'verified': False, 'statuses_count': 2540, 'lang': None, 'contributors_enabled': False, 'is_translator': False, 'is_translation_enabled': False, 'profile_background_color': 'F5F8FA', 'profile_background_image_url': None, 'profile_background_image_url_https': None, 'profile_background_tile': False, 'profile_image_url': 'http://pbs.twimg.com/profile_images/1490304022678491140/sUhnDBxH_normal.jpg', 'profile_image_url_https': 'https://pbs.twimg.com/profile_images/1490304022678491140/sUhnDBxH_normal.jpg', 'profile_banner_url': 'https://pbs.twimg.com/profile_banners/1153676762552963072/1612275236', 'profile_link_color': '1DA1F2', 'profile_sidebar_border_color': 'C0DEED', 'profile_sidebar_fill_color': 'DDEEF6', 'profile_text_color': '333333', 'profile_use_background_image': True, 'has_extended_profile': True, 'default_profile': True, 'default_profile_image': False, 'following': False, 'follow_request_sent': False, 'notifications': False, 'translator_type': 'none', 'withheld_in_countries': []}, 'geo': None, 'coordinates': None, 'place': None, 'contributors': None, 'is_quote_status': False, 'retweet_count': 0, 'favorite_count': 0, 'favorited': False, 'retweeted': False, 'lang': 'en'}, created_at=datetime.datetime(2022, 9, 6, 6, 58, 48, tzinfo=datetime.timezone.utc), id=1567044629949710338, id_str='1567044629949710338', text='Hello world!', truncated=False, entities={'hashtags': [], 'symbols': [], 'user_mentions': [], 'urls': []}, source='TweetBotCatcher', source_url='https://github.com/TaslimOwolarafe', in_reply_to_status_id=None, in_reply_to_status_id_str=None, in_reply_to_user_id=None, in_reply_to_user_id_str=None, in_reply_to_screen_name=None, author=User(_api=<tweepy.api.API object at 0x000002ADAE204DF0>, _json={'id': 1153676762552963072, 'id_str': '1153676762552963072', 'name': 'tas-sama', 'screen_name': 'tasleemm_', 'location': '7.5629° N, 4.5200° E', 'description': 'Nothing to see here yet..', 'url': 'https://t.co/sg7UjOGJt4', 'entities': {'url': {'urls': [{'url': 'https://t.co/sg7UjOGJt4', 'expanded_url': 'https://github.com/TaslimOwolarafe', 'display_url': 'github.com/TaslimOwolarafe', 'indices': [0, 23]}]}, 'description': {'urls': []}}, 'protected': True, 'followers_count': 467, 'friends_count': 440, 'listed_count': 0, 'created_at': 'Tue Jul 23 14:42:29 +0000 2019', 'favourites_count': 10498, 'utc_offset': None, 'time_zone': None, 'geo_enabled': True, 'verified': False, 'statuses_count': 2540, 'lang': None, 'contributors_enabled': False, 'is_translator': False, 'is_translation_enabled': False, 'profile_background_color': 'F5F8FA', 'profile_background_image_url': None, 'profile_background_image_url_https': None, 'profile_background_tile': False, 'profile_image_url': 'http://pbs.twimg.com/profile_images/1490304022678491140/sUhnDBxH_normal.jpg', 'profile_image_url_https': 'https://pbs.twimg.com/profile_images/1490304022678491140/sUhnDBxH_normal.jpg', 'profile_banner_url': 'https://pbs.twimg.com/profile_banners/1153676762552963072/1612275236', 'profile_link_color': '1DA1F2', 'profile_sidebar_border_color': 'C0DEED', 'profile_sidebar_fill_color': 'DDEEF6', 'profile_text_color': '333333', 'profile_use_background_image': True, 'has_extended_profile': True, 'default_profile': True, 'default_profile_image': False, 'following': False, 'follow_request_sent': False, 'notifications': False, 'translator_type': 'none', 'withheld_in_countries': []}, id=1153676762552963072, id_str='1153676762552963072', name='tas-sama', screen_name='tasleemm_', location='7.5629° N, 4.5200° E', description='Nothing to see here yet..', url='https://t.co/sg7UjOGJt4', entities={'url': {'urls': [{'url': 'https://t.co/sg7UjOGJt4', 'expanded_url': 'https://github.com/TaslimOwolarafe', 'display_url': 'github.com/TaslimOwolarafe', 'indices': [0, 23]}]}, 'description': {'urls': []}}, protected=True, followers_count=467, friends_count=440, listed_count=0, created_at=datetime.datetime(2019, 7, 23, 14, 42, 29, tzinfo=datetime.timezone.utc), favourites_count=10498, utc_offset=None, time_zone=None, geo_enabled=True, verified=False, statuses_count=2540, lang=None, contributors_enabled=False, is_translator=False, is_translation_enabled=False, profile_background_color='F5F8FA', profile_background_image_url=None, profile_background_image_url_https=None, profile_background_tile=False, profile_image_url='http://pbs.twimg.com/profile_images/1490304022678491140/sUhnDBxH_normal.jpg', profile_image_url_https='https://pbs.twimg.com/profile_images/1490304022678491140/sUhnDBxH_normal.jpg', profile_banner_url='https://pbs.twimg.com/profile_banners/1153676762552963072/1612275236', profile_link_color='1DA1F2', profile_sidebar_border_color='C0DEED', profile_sidebar_fill_color='DDEEF6', profile_text_color='333333', profile_use_background_image=True, has_extended_profile=True, default_profile=True, default_profile_image=False, following=False, follow_request_sent=False, notifications=False, translator_type='none', withheld_in_countries=[]), user=User(_api=<tweepy.api.API object at 0x000002ADAE204DF0>, _json={'id': 1153676762552963072, 'id_str': '1153676762552963072', 'name': 'tas-sama', 'screen_name': 'tasleemm_', 'location': '7.5629° N, 4.5200° E', 'description': 'Nothing to see here yet..', 'url': 'https://t.co/sg7UjOGJt4', 'entities': {'url': {'urls': [{'url': 'https://t.co/sg7UjOGJt4', 'expanded_url': 'https://github.com/TaslimOwolarafe', 'display_url': 'github.com/TaslimOwolarafe', 'indices': [0, 23]}]}, 'description': {'urls': []}}, 'protected': True, 'followers_count': 467, 'friends_count': 440, 'listed_count': 0, 'created_at': 'Tue Jul 23 14:42:29 +0000 2019', 'favourites_count': 10498, 'utc_offset': None, 'time_zone': None, 'geo_enabled': True, 'verified': False, 'statuses_count': 2540, 'lang': None, 'contributors_enabled': False, 'is_translator': False, 'is_translation_enabled': False, 'profile_background_color': 'F5F8FA', 'profile_background_image_url': None, 'profile_background_image_url_https': None, 'profile_background_tile': False, 'profile_image_url': 'http://pbs.twimg.com/profile_images/1490304022678491140/sUhnDBxH_normal.jpg', 'profile_image_url_https': 'https://pbs.twimg.com/profile_images/1490304022678491140/sUhnDBxH_normal.jpg', 'profile_banner_url': 'https://pbs.twimg.com/profile_banners/1153676762552963072/1612275236', 'profile_link_color': '1DA1F2', 'profile_sidebar_border_color': 'C0DEED', 'profile_sidebar_fill_color': 'DDEEF6', 'profile_text_color': '333333', 'profile_use_background_image': True, 'has_extended_profile': True, 'default_profile': True, 'default_profile_image': False, 'following': False, 'follow_request_sent': False, 'notifications': False, 'translator_type': 'none', 'withheld_in_countries': []}, id=1153676762552963072, id_str='1153676762552963072', name='tas-sama', screen_name='tasleemm_', location='7.5629° N, 4.5200° E', description='Nothing to see here yet..', url='https://t.co/sg7UjOGJt4', entities={'url': {'urls': [{'url': 'https://t.co/sg7UjOGJt4', 'expanded_url': 'https://github.com/TaslimOwolarafe', 'display_url': 'github.com/TaslimOwolarafe', 'indices': [0, 23]}]}, 'description': {'urls': []}}, protected=True, followers_count=467, friends_count=440, listed_count=0, created_at=datetime.datetime(2019, 7, 23, 14, 42, 29, tzinfo=datetime.timezone.utc), favourites_count=10498, utc_offset=None, time_zone=None, geo_enabled=True, verified=False, statuses_count=2540, lang=None, contributors_enabled=False, is_translator=False, is_translation_enabled=False, profile_background_color='F5F8FA', profile_background_image_url=None, profile_background_image_url_https=None, profile_background_tile=False, profile_image_url='http://pbs.twimg.com/profile_images/1490304022678491140/sUhnDBxH_normal.jpg', profile_image_url_https='https://pbs.twimg.com/profile_images/1490304022678491140/sUhnDBxH_normal.jpg', profile_banner_url='https://pbs.twimg.com/profile_banners/1153676762552963072/1612275236', profile_link_color='1DA1F2', profile_sidebar_border_color='C0DEED', profile_sidebar_fill_color='DDEEF6', profile_text_color='333333', profile_use_background_image=True, has_extended_profile=True, default_profile=True, default_profile_image=False, following=False, follow_request_sent=False, notifications=False, translator_type='none', withheld_in_countries=[]), geo=None, coordinates=None, place=None, contributors=None, is_quote_status=False, retweet_count=0, favorite_count=0, favorited=False, retweeted=False, lang='en')\n"
     ]
    }
   ],
   "source": [
    "print(new_status)"
   ]
  },
  {
   "cell_type": "code",
   "execution_count": 24,
   "id": "d78e01c9",
   "metadata": {},
   "outputs": [
    {
     "data": {
      "text/plain": [
       "Status(_api=<tweepy.api.API object at 0x000002ADAE204DF0>, _json={'created_at': 'Tue Sep 06 06:58:48 +0000 2022', 'id': 1567044629949710338, 'id_str': '1567044629949710338', 'text': 'Hello world!', 'truncated': False, 'entities': {'hashtags': [], 'symbols': [], 'user_mentions': [], 'urls': []}, 'source': '<a href=\"https://github.com/TaslimOwolarafe\" rel=\"nofollow\">TweetBotCatcher</a>', 'in_reply_to_status_id': None, 'in_reply_to_status_id_str': None, 'in_reply_to_user_id': None, 'in_reply_to_user_id_str': None, 'in_reply_to_screen_name': None, 'user': {'id': 1153676762552963072, 'id_str': '1153676762552963072', 'name': 'tas-sama', 'screen_name': 'tasleemm_', 'location': '7.5629° N, 4.5200° E', 'description': 'Nothing to see here yet..', 'url': 'https://t.co/sg7UjOGJt4', 'entities': {'url': {'urls': [{'url': 'https://t.co/sg7UjOGJt4', 'expanded_url': 'https://github.com/TaslimOwolarafe', 'display_url': 'github.com/TaslimOwolarafe', 'indices': [0, 23]}]}, 'description': {'urls': []}}, 'protected': True, 'followers_count': 467, 'friends_count': 440, 'listed_count': 0, 'created_at': 'Tue Jul 23 14:42:29 +0000 2019', 'favourites_count': 10498, 'utc_offset': None, 'time_zone': None, 'geo_enabled': True, 'verified': False, 'statuses_count': 2540, 'lang': None, 'contributors_enabled': False, 'is_translator': False, 'is_translation_enabled': False, 'profile_background_color': 'F5F8FA', 'profile_background_image_url': None, 'profile_background_image_url_https': None, 'profile_background_tile': False, 'profile_image_url': 'http://pbs.twimg.com/profile_images/1490304022678491140/sUhnDBxH_normal.jpg', 'profile_image_url_https': 'https://pbs.twimg.com/profile_images/1490304022678491140/sUhnDBxH_normal.jpg', 'profile_banner_url': 'https://pbs.twimg.com/profile_banners/1153676762552963072/1612275236', 'profile_link_color': '1DA1F2', 'profile_sidebar_border_color': 'C0DEED', 'profile_sidebar_fill_color': 'DDEEF6', 'profile_text_color': '333333', 'profile_use_background_image': True, 'has_extended_profile': True, 'default_profile': True, 'default_profile_image': False, 'following': False, 'follow_request_sent': False, 'notifications': False, 'translator_type': 'none', 'withheld_in_countries': []}, 'geo': None, 'coordinates': None, 'place': None, 'contributors': None, 'is_quote_status': False, 'retweet_count': 0, 'favorite_count': 0, 'favorited': False, 'retweeted': False, 'lang': 'en'}, created_at=datetime.datetime(2022, 9, 6, 6, 58, 48, tzinfo=datetime.timezone.utc), id=1567044629949710338, id_str='1567044629949710338', text='Hello world!', truncated=False, entities={'hashtags': [], 'symbols': [], 'user_mentions': [], 'urls': []}, source='TweetBotCatcher', source_url='https://github.com/TaslimOwolarafe', in_reply_to_status_id=None, in_reply_to_status_id_str=None, in_reply_to_user_id=None, in_reply_to_user_id_str=None, in_reply_to_screen_name=None, author=User(_api=<tweepy.api.API object at 0x000002ADAE204DF0>, _json={'id': 1153676762552963072, 'id_str': '1153676762552963072', 'name': 'tas-sama', 'screen_name': 'tasleemm_', 'location': '7.5629° N, 4.5200° E', 'description': 'Nothing to see here yet..', 'url': 'https://t.co/sg7UjOGJt4', 'entities': {'url': {'urls': [{'url': 'https://t.co/sg7UjOGJt4', 'expanded_url': 'https://github.com/TaslimOwolarafe', 'display_url': 'github.com/TaslimOwolarafe', 'indices': [0, 23]}]}, 'description': {'urls': []}}, 'protected': True, 'followers_count': 467, 'friends_count': 440, 'listed_count': 0, 'created_at': 'Tue Jul 23 14:42:29 +0000 2019', 'favourites_count': 10498, 'utc_offset': None, 'time_zone': None, 'geo_enabled': True, 'verified': False, 'statuses_count': 2540, 'lang': None, 'contributors_enabled': False, 'is_translator': False, 'is_translation_enabled': False, 'profile_background_color': 'F5F8FA', 'profile_background_image_url': None, 'profile_background_image_url_https': None, 'profile_background_tile': False, 'profile_image_url': 'http://pbs.twimg.com/profile_images/1490304022678491140/sUhnDBxH_normal.jpg', 'profile_image_url_https': 'https://pbs.twimg.com/profile_images/1490304022678491140/sUhnDBxH_normal.jpg', 'profile_banner_url': 'https://pbs.twimg.com/profile_banners/1153676762552963072/1612275236', 'profile_link_color': '1DA1F2', 'profile_sidebar_border_color': 'C0DEED', 'profile_sidebar_fill_color': 'DDEEF6', 'profile_text_color': '333333', 'profile_use_background_image': True, 'has_extended_profile': True, 'default_profile': True, 'default_profile_image': False, 'following': False, 'follow_request_sent': False, 'notifications': False, 'translator_type': 'none', 'withheld_in_countries': []}, id=1153676762552963072, id_str='1153676762552963072', name='tas-sama', screen_name='tasleemm_', location='7.5629° N, 4.5200° E', description='Nothing to see here yet..', url='https://t.co/sg7UjOGJt4', entities={'url': {'urls': [{'url': 'https://t.co/sg7UjOGJt4', 'expanded_url': 'https://github.com/TaslimOwolarafe', 'display_url': 'github.com/TaslimOwolarafe', 'indices': [0, 23]}]}, 'description': {'urls': []}}, protected=True, followers_count=467, friends_count=440, listed_count=0, created_at=datetime.datetime(2019, 7, 23, 14, 42, 29, tzinfo=datetime.timezone.utc), favourites_count=10498, utc_offset=None, time_zone=None, geo_enabled=True, verified=False, statuses_count=2540, lang=None, contributors_enabled=False, is_translator=False, is_translation_enabled=False, profile_background_color='F5F8FA', profile_background_image_url=None, profile_background_image_url_https=None, profile_background_tile=False, profile_image_url='http://pbs.twimg.com/profile_images/1490304022678491140/sUhnDBxH_normal.jpg', profile_image_url_https='https://pbs.twimg.com/profile_images/1490304022678491140/sUhnDBxH_normal.jpg', profile_banner_url='https://pbs.twimg.com/profile_banners/1153676762552963072/1612275236', profile_link_color='1DA1F2', profile_sidebar_border_color='C0DEED', profile_sidebar_fill_color='DDEEF6', profile_text_color='333333', profile_use_background_image=True, has_extended_profile=True, default_profile=True, default_profile_image=False, following=False, follow_request_sent=False, notifications=False, translator_type='none', withheld_in_countries=[]), user=User(_api=<tweepy.api.API object at 0x000002ADAE204DF0>, _json={'id': 1153676762552963072, 'id_str': '1153676762552963072', 'name': 'tas-sama', 'screen_name': 'tasleemm_', 'location': '7.5629° N, 4.5200° E', 'description': 'Nothing to see here yet..', 'url': 'https://t.co/sg7UjOGJt4', 'entities': {'url': {'urls': [{'url': 'https://t.co/sg7UjOGJt4', 'expanded_url': 'https://github.com/TaslimOwolarafe', 'display_url': 'github.com/TaslimOwolarafe', 'indices': [0, 23]}]}, 'description': {'urls': []}}, 'protected': True, 'followers_count': 467, 'friends_count': 440, 'listed_count': 0, 'created_at': 'Tue Jul 23 14:42:29 +0000 2019', 'favourites_count': 10498, 'utc_offset': None, 'time_zone': None, 'geo_enabled': True, 'verified': False, 'statuses_count': 2540, 'lang': None, 'contributors_enabled': False, 'is_translator': False, 'is_translation_enabled': False, 'profile_background_color': 'F5F8FA', 'profile_background_image_url': None, 'profile_background_image_url_https': None, 'profile_background_tile': False, 'profile_image_url': 'http://pbs.twimg.com/profile_images/1490304022678491140/sUhnDBxH_normal.jpg', 'profile_image_url_https': 'https://pbs.twimg.com/profile_images/1490304022678491140/sUhnDBxH_normal.jpg', 'profile_banner_url': 'https://pbs.twimg.com/profile_banners/1153676762552963072/1612275236', 'profile_link_color': '1DA1F2', 'profile_sidebar_border_color': 'C0DEED', 'profile_sidebar_fill_color': 'DDEEF6', 'profile_text_color': '333333', 'profile_use_background_image': True, 'has_extended_profile': True, 'default_profile': True, 'default_profile_image': False, 'following': False, 'follow_request_sent': False, 'notifications': False, 'translator_type': 'none', 'withheld_in_countries': []}, id=1153676762552963072, id_str='1153676762552963072', name='tas-sama', screen_name='tasleemm_', location='7.5629° N, 4.5200° E', description='Nothing to see here yet..', url='https://t.co/sg7UjOGJt4', entities={'url': {'urls': [{'url': 'https://t.co/sg7UjOGJt4', 'expanded_url': 'https://github.com/TaslimOwolarafe', 'display_url': 'github.com/TaslimOwolarafe', 'indices': [0, 23]}]}, 'description': {'urls': []}}, protected=True, followers_count=467, friends_count=440, listed_count=0, created_at=datetime.datetime(2019, 7, 23, 14, 42, 29, tzinfo=datetime.timezone.utc), favourites_count=10498, utc_offset=None, time_zone=None, geo_enabled=True, verified=False, statuses_count=2540, lang=None, contributors_enabled=False, is_translator=False, is_translation_enabled=False, profile_background_color='F5F8FA', profile_background_image_url=None, profile_background_image_url_https=None, profile_background_tile=False, profile_image_url='http://pbs.twimg.com/profile_images/1490304022678491140/sUhnDBxH_normal.jpg', profile_image_url_https='https://pbs.twimg.com/profile_images/1490304022678491140/sUhnDBxH_normal.jpg', profile_banner_url='https://pbs.twimg.com/profile_banners/1153676762552963072/1612275236', profile_link_color='1DA1F2', profile_sidebar_border_color='C0DEED', profile_sidebar_fill_color='DDEEF6', profile_text_color='333333', profile_use_background_image=True, has_extended_profile=True, default_profile=True, default_profile_image=False, following=False, follow_request_sent=False, notifications=False, translator_type='none', withheld_in_countries=[]), geo=None, coordinates=None, place=None, contributors=None, is_quote_status=False, retweet_count=0, favorite_count=0, favorited=False, retweeted=False, lang='en')"
      ]
     },
     "execution_count": 24,
     "metadata": {},
     "output_type": "execute_result"
    }
   ],
   "source": [
    "new_status.destroy()"
   ]
  },
  {
   "cell_type": "code",
   "execution_count": 25,
   "id": "fb591283",
   "metadata": {},
   "outputs": [
    {
     "data": {
      "text/plain": [
       "['__class__',\n",
       " '__delattr__',\n",
       " '__dict__',\n",
       " '__dir__',\n",
       " '__doc__',\n",
       " '__eq__',\n",
       " '__format__',\n",
       " '__ge__',\n",
       " '__getattribute__',\n",
       " '__getstate__',\n",
       " '__gt__',\n",
       " '__hash__',\n",
       " '__init__',\n",
       " '__init_subclass__',\n",
       " '__le__',\n",
       " '__lt__',\n",
       " '__module__',\n",
       " '__ne__',\n",
       " '__new__',\n",
       " '__reduce__',\n",
       " '__reduce_ex__',\n",
       " '__repr__',\n",
       " '__setattr__',\n",
       " '__sizeof__',\n",
       " '__slots__',\n",
       " '__str__',\n",
       " '__subclasshook__',\n",
       " '__weakref__',\n",
       " '_api',\n",
       " '_json',\n",
       " 'author',\n",
       " 'contributors',\n",
       " 'coordinates',\n",
       " 'created_at',\n",
       " 'destroy',\n",
       " 'entities',\n",
       " 'favorite',\n",
       " 'favorite_count',\n",
       " 'favorited',\n",
       " 'geo',\n",
       " 'id',\n",
       " 'id_str',\n",
       " 'in_reply_to_screen_name',\n",
       " 'in_reply_to_status_id',\n",
       " 'in_reply_to_status_id_str',\n",
       " 'in_reply_to_user_id',\n",
       " 'in_reply_to_user_id_str',\n",
       " 'is_quote_status',\n",
       " 'lang',\n",
       " 'parse',\n",
       " 'parse_list',\n",
       " 'place',\n",
       " 'retweet',\n",
       " 'retweet_count',\n",
       " 'retweeted',\n",
       " 'retweets',\n",
       " 'source',\n",
       " 'source_url',\n",
       " 'text',\n",
       " 'truncated',\n",
       " 'user']"
      ]
     },
     "execution_count": 25,
     "metadata": {},
     "output_type": "execute_result"
    }
   ],
   "source": [
    "dir(new_status)"
   ]
  },
  {
   "cell_type": "code",
   "execution_count": 26,
   "id": "f7de6ce3",
   "metadata": {},
   "outputs": [
    {
     "data": {
      "text/plain": [
       "['__class__',\n",
       " '__delattr__',\n",
       " '__dict__',\n",
       " '__dir__',\n",
       " '__doc__',\n",
       " '__eq__',\n",
       " '__format__',\n",
       " '__ge__',\n",
       " '__getattribute__',\n",
       " '__gt__',\n",
       " '__hash__',\n",
       " '__init__',\n",
       " '__init_subclass__',\n",
       " '__le__',\n",
       " '__lt__',\n",
       " '__module__',\n",
       " '__ne__',\n",
       " '__new__',\n",
       " '__reduce__',\n",
       " '__reduce_ex__',\n",
       " '__repr__',\n",
       " '__setattr__',\n",
       " '__sizeof__',\n",
       " '__str__',\n",
       " '__subclasshook__',\n",
       " '__weakref__',\n",
       " 'add_list_member',\n",
       " 'add_list_members',\n",
       " 'auth',\n",
       " 'available_trends',\n",
       " 'cache',\n",
       " 'cached_result',\n",
       " 'chunked_upload',\n",
       " 'chunked_upload_append',\n",
       " 'chunked_upload_finalize',\n",
       " 'chunked_upload_init',\n",
       " 'closest_trends',\n",
       " 'create_block',\n",
       " 'create_favorite',\n",
       " 'create_friendship',\n",
       " 'create_list',\n",
       " 'create_media_metadata',\n",
       " 'create_mute',\n",
       " 'create_saved_search',\n",
       " 'delete_direct_message',\n",
       " 'destroy_block',\n",
       " 'destroy_favorite',\n",
       " 'destroy_friendship',\n",
       " 'destroy_list',\n",
       " 'destroy_mute',\n",
       " 'destroy_saved_search',\n",
       " 'destroy_status',\n",
       " 'geo_id',\n",
       " 'get_blocked_ids',\n",
       " 'get_blocks',\n",
       " 'get_direct_message',\n",
       " 'get_direct_messages',\n",
       " 'get_favorites',\n",
       " 'get_follower_ids',\n",
       " 'get_followers',\n",
       " 'get_friend_ids',\n",
       " 'get_friends',\n",
       " 'get_friendship',\n",
       " 'get_list',\n",
       " 'get_list_member',\n",
       " 'get_list_members',\n",
       " 'get_list_memberships',\n",
       " 'get_list_ownerships',\n",
       " 'get_list_subscriber',\n",
       " 'get_list_subscribers',\n",
       " 'get_list_subscriptions',\n",
       " 'get_lists',\n",
       " 'get_media_upload_status',\n",
       " 'get_muted_ids',\n",
       " 'get_mutes',\n",
       " 'get_oembed',\n",
       " 'get_place_trends',\n",
       " 'get_profile_banner',\n",
       " 'get_retweeter_ids',\n",
       " 'get_retweets',\n",
       " 'get_retweets_of_me',\n",
       " 'get_saved_search',\n",
       " 'get_saved_searches',\n",
       " 'get_settings',\n",
       " 'get_status',\n",
       " 'get_user',\n",
       " 'home_timeline',\n",
       " 'host',\n",
       " 'incoming_friendships',\n",
       " 'indicate_direct_message_typing',\n",
       " 'last_response',\n",
       " 'list_timeline',\n",
       " 'lookup_friendships',\n",
       " 'lookup_statuses',\n",
       " 'lookup_users',\n",
       " 'mark_direct_message_read',\n",
       " 'media_upload',\n",
       " 'mentions_timeline',\n",
       " 'no_retweets_friendships',\n",
       " 'outgoing_friendships',\n",
       " 'parser',\n",
       " 'proxy',\n",
       " 'rate_limit_status',\n",
       " 'remove_list_member',\n",
       " 'remove_list_members',\n",
       " 'remove_profile_banner',\n",
       " 'report_spam',\n",
       " 'request',\n",
       " 'retry_count',\n",
       " 'retry_delay',\n",
       " 'retry_errors',\n",
       " 'retweet',\n",
       " 'reverse_geocode',\n",
       " 'search_30_day',\n",
       " 'search_full_archive',\n",
       " 'search_geo',\n",
       " 'search_tweets',\n",
       " 'search_users',\n",
       " 'send_direct_message',\n",
       " 'session',\n",
       " 'set_settings',\n",
       " 'simple_upload',\n",
       " 'subscribe_list',\n",
       " 'supported_languages',\n",
       " 'timeout',\n",
       " 'unretweet',\n",
       " 'unsubscribe_list',\n",
       " 'update_friendship',\n",
       " 'update_list',\n",
       " 'update_profile',\n",
       " 'update_profile_banner',\n",
       " 'update_profile_image',\n",
       " 'update_status',\n",
       " 'update_status_with_media',\n",
       " 'upload_host',\n",
       " 'user_agent',\n",
       " 'user_timeline',\n",
       " 'verify_credentials',\n",
       " 'wait_on_rate_limit']"
      ]
     },
     "execution_count": 26,
     "metadata": {},
     "output_type": "execute_result"
    }
   ],
   "source": [
    "dir(api)"
   ]
  },
  {
   "cell_type": "code",
   "execution_count": 27,
   "id": "3f70ebc3",
   "metadata": {},
   "outputs": [],
   "source": [
    "my_timeline = api.home_timeline()"
   ]
  },
  {
   "cell_type": "code",
   "execution_count": 88,
   "id": "c517c757",
   "metadata": {},
   "outputs": [],
   "source": [
    "columns = set()\n",
    "allowed_types = [int, str]\n",
    "tweets_data = []\n",
    "for status in my_timeline:\n",
    "#     print(dict(vars(status)), \"\\n \\n\")\n",
    "    status_dict = dict(vars(status))\n",
    "#     print(vars(status).keys(), \"\\n \\n\")\n",
    "    keys = status_dict.keys()\n",
    "    single_tweet_data = {}\n",
    "    for k in keys:\n",
    "        if type(status_dict[k]) in allowed_types and type(status_dict[k] != None):\n",
    "            single_tweet_data[k] = status_dict[k]\n",
    "            columns.add(k)\n",
    "#     print(single_tweet_data)\n",
    "    tweets_data.append(single_tweet_data)\n",
    "\n",
    "# print(column)\n",
    "tweets_data_list = [[j for j in x.values()] for x in tweets_data]\n",
    "header_cols = list(columns)"
   ]
  },
  {
   "cell_type": "code",
   "execution_count": 89,
   "id": "9d43b320",
   "metadata": {},
   "outputs": [
    {
     "name": "stdout",
     "output_type": "stream",
     "text": [
      "{'in_reply_to_status_id', 'lang', 'retweet_count', 'in_reply_to_user_id_str', 'in_reply_to_status_id_str', 'in_reply_to_screen_name', 'quoted_status_id_str', 'id_str', 'in_reply_to_user_id', 'id', 'source', 'quoted_status_id', 'favorite_count', 'source_url', 'text'}\n",
      "[[dict_values([1567044409283198978, '1567044409283198978', '@IRE_TOMS Hahah!', 'Twitter for iPhone', 'http://twitter.com/download/iphone', 1566895431237394433, '1566895431237394433', 1184522806882721793, '1184522806882721793', 'IRE_TOMS', 0, 0, 'tl'])], [dict_values([1567044377368739848, '1567044377368739848', 'The way every little conversation drives towards financial fuss these days is worrisome. No concrete content again.', 'Twitter for Android', 'http://twitter.com/download/android', 0, 0, 'en'])], [dict_values([1567044163098624002, '1567044163098624002', 'RT @DLinkup: Pls nobody should laugh at me😀. So I tried building something with ReactJS for the 1st time. \\nLink will drop as soon as media…', 'Twitter for iPhone', 'http://twitter.com/download/iphone', 1, 0, 'en'])], [dict_values([1567043873582579712, '1567043873582579712', '😂😂😂\\nI remember the day I was crying and posting memes on WhatsApp simultaneously 😂😂😂😂. I cried so hard that my eyes… https://t.co/cHEmBVzcep', 'Twitter for iPhone', 'http://twitter.com/download/iphone', 1566688807638159360, '1566688807638159360', 0, 0, 'en'])], [dict_values([1567043780834115584, '1567043780834115584', 'Some of my mutuals tweet so much omg', 'Twitter for iPhone', 'http://twitter.com/download/iphone', 0, 0, 'en'])], [dict_values([1567042610010755072, '1567042610010755072', \"RT @filledelhomm: My listeners are already itching to hear the full gist😂\\n\\nMeanwhile, you can catch up on my past episodes, you'll love the…\", 'Twitter for Android', 'http://twitter.com/download/android', 2, 0, 'en'])], [dict_values([1567042545527422976, '1567042545527422976', 'RT @ESPNFC: Erling Haaland has scored more Premier League goals this season (7) than Chelsea FC (6) 😳 https://t.co/23bm7i78NE', 'Twitter for Android', 'http://twitter.com/download/android', 2876, 0, 'en'])], [dict_values([1567042526619619329, '1567042526619619329', \"RT @frankedoho: Chelsea FC has won more Champions League trophies (2) than Erling Haaland's club(0). 😳\", 'Twitter for Android', 'http://twitter.com/download/android', 1565049882016104449, '1565049882016104449', 207, 0, 'en'])], [dict_values([1567042423460691968, '1567042423460691968', 'RT @LouieDi13: Who d bastard here? https://t.co/PBGPMKpJSd', 'Twitter for iPhone', 'http://twitter.com/download/iphone', 151, 0, 'en'])], [dict_values([1567042375804911617, '1567042375804911617', 'RT @investor_bet: 500 odds - 14B85738 https://t.co/6uZSoQN7KH', 'Twitter for iPhone', 'http://twitter.com/download/iphone', 193, 0, 'en'])], [dict_values([1567042363670908928, '1567042363670908928', 'RT @eugenelexy: @TheRealEtinosa \\n\\nPls check your dm', 'Twitter for Android', 'http://twitter.com/download/android', 1, 0, 'en'])], [dict_values([1567042258163187713, '1567042258163187713', 'RT @RL_Comps: Zinchenko got Antony to do what he does best - spin like a fidget spinner. https://t.co/BSxKO4rSPq', 'Twitter for iPhone', 'http://twitter.com/download/iphone', 447, 0, 'en'])], [dict_values([1567041668557185024, '1567041668557185024', 'RT @DiaP_Music: This is Dungeon Quest....\\nMade this with a friend \\n@BamisileMichael \\n\\n@CrazyRetroGame1 #games #game #gamers @Elixir_Js #gam…', 'Twitter for iPhone', 'http://twitter.com/download/iphone', 6, 0, 'en'])], [dict_values([1567041485798768642, '1567041485798768642', 'Currently running on three hours of sleep. God be a pillar of strength 🙏', 'Twitter for iPhone', 'http://twitter.com/download/iphone', 0, 1, 'en'])], [dict_values([1567041468040101889, '1567041468040101889', 'RT @AyoSophs: You might actually be disturbing the person you feel so happy to talk to💀', 'Twitter for iPhone', 'http://twitter.com/download/iphone', 248, 0, 'en'])], [dict_values([1567041198405165058, '1567041198405165058', 'Why??? \\n\\nWhat if he is a “professional gamer” 😂, like an actual job for him? https://t.co/EPl3v8X9fV', 'Twitter for Android', 'http://twitter.com/download/android', 1566534843856461824, '1566534843856461824', 0, 0, 'en'])], [dict_values([1567040446802575360, '1567040446802575360', 'RT @QuranlyR: Download the Quranly App https://t.co/uRUX9SPUGl', 'Twitter for iPhone', 'http://twitter.com/download/iphone', 33, 0, 'en'])], [dict_values([1567039991490007042, '1567039991490007042', 'RT @unicodeveloper: Eden Life is building new interesting products. \\n\\nIf you’re a Nigerian Senior PHP/Laravel developer ready to work on so…', 'Twitter for iPhone', 'http://twitter.com/download/iphone', 291, 0, 'en'])]]\n"
     ]
    }
   ],
   "source": [
    "print(columns)\n",
    "# print(tweets_data_list)"
   ]
  },
  {
   "cell_type": "code",
   "execution_count": 90,
   "id": "746e1eca",
   "metadata": {},
   "outputs": [
    {
     "name": "stdout",
     "output_type": "stream",
     "text": [
      "[{'id': 1567044409283198978, 'id_str': '1567044409283198978', 'text': '@IRE_TOMS Hahah!', 'source': 'Twitter for iPhone', 'source_url': 'http://twitter.com/download/iphone', 'in_reply_to_status_id': 1566895431237394433, 'in_reply_to_status_id_str': '1566895431237394433', 'in_reply_to_user_id': 1184522806882721793, 'in_reply_to_user_id_str': '1184522806882721793', 'in_reply_to_screen_name': 'IRE_TOMS', 'retweet_count': 0, 'favorite_count': 0, 'lang': 'tl'}, {'id': 1567044377368739848, 'id_str': '1567044377368739848', 'text': 'The way every little conversation drives towards financial fuss these days is worrisome. No concrete content again.', 'source': 'Twitter for Android', 'source_url': 'http://twitter.com/download/android', 'retweet_count': 0, 'favorite_count': 0, 'lang': 'en'}, {'id': 1567044163098624002, 'id_str': '1567044163098624002', 'text': 'RT @DLinkup: Pls nobody should laugh at me😀. So I tried building something with ReactJS for the 1st time. \\nLink will drop as soon as media…', 'source': 'Twitter for iPhone', 'source_url': 'http://twitter.com/download/iphone', 'retweet_count': 1, 'favorite_count': 0, 'lang': 'en'}, {'id': 1567043873582579712, 'id_str': '1567043873582579712', 'text': '😂😂😂\\nI remember the day I was crying and posting memes on WhatsApp simultaneously 😂😂😂😂. I cried so hard that my eyes… https://t.co/cHEmBVzcep', 'source': 'Twitter for iPhone', 'source_url': 'http://twitter.com/download/iphone', 'quoted_status_id': 1566688807638159360, 'quoted_status_id_str': '1566688807638159360', 'retweet_count': 0, 'favorite_count': 0, 'lang': 'en'}, {'id': 1567043780834115584, 'id_str': '1567043780834115584', 'text': 'Some of my mutuals tweet so much omg', 'source': 'Twitter for iPhone', 'source_url': 'http://twitter.com/download/iphone', 'retweet_count': 0, 'favorite_count': 0, 'lang': 'en'}, {'id': 1567042610010755072, 'id_str': '1567042610010755072', 'text': \"RT @filledelhomm: My listeners are already itching to hear the full gist😂\\n\\nMeanwhile, you can catch up on my past episodes, you'll love the…\", 'source': 'Twitter for Android', 'source_url': 'http://twitter.com/download/android', 'retweet_count': 2, 'favorite_count': 0, 'lang': 'en'}, {'id': 1567042545527422976, 'id_str': '1567042545527422976', 'text': 'RT @ESPNFC: Erling Haaland has scored more Premier League goals this season (7) than Chelsea FC (6) 😳 https://t.co/23bm7i78NE', 'source': 'Twitter for Android', 'source_url': 'http://twitter.com/download/android', 'retweet_count': 2876, 'favorite_count': 0, 'lang': 'en'}, {'id': 1567042526619619329, 'id_str': '1567042526619619329', 'text': \"RT @frankedoho: Chelsea FC has won more Champions League trophies (2) than Erling Haaland's club(0). 😳\", 'source': 'Twitter for Android', 'source_url': 'http://twitter.com/download/android', 'quoted_status_id': 1565049882016104449, 'quoted_status_id_str': '1565049882016104449', 'retweet_count': 207, 'favorite_count': 0, 'lang': 'en'}, {'id': 1567042423460691968, 'id_str': '1567042423460691968', 'text': 'RT @LouieDi13: Who d bastard here? https://t.co/PBGPMKpJSd', 'source': 'Twitter for iPhone', 'source_url': 'http://twitter.com/download/iphone', 'retweet_count': 151, 'favorite_count': 0, 'lang': 'en'}, {'id': 1567042375804911617, 'id_str': '1567042375804911617', 'text': 'RT @investor_bet: 500 odds - 14B85738 https://t.co/6uZSoQN7KH', 'source': 'Twitter for iPhone', 'source_url': 'http://twitter.com/download/iphone', 'retweet_count': 193, 'favorite_count': 0, 'lang': 'en'}, {'id': 1567042363670908928, 'id_str': '1567042363670908928', 'text': 'RT @eugenelexy: @TheRealEtinosa \\n\\nPls check your dm', 'source': 'Twitter for Android', 'source_url': 'http://twitter.com/download/android', 'retweet_count': 1, 'favorite_count': 0, 'lang': 'en'}, {'id': 1567042258163187713, 'id_str': '1567042258163187713', 'text': 'RT @RL_Comps: Zinchenko got Antony to do what he does best - spin like a fidget spinner. https://t.co/BSxKO4rSPq', 'source': 'Twitter for iPhone', 'source_url': 'http://twitter.com/download/iphone', 'retweet_count': 447, 'favorite_count': 0, 'lang': 'en'}, {'id': 1567041668557185024, 'id_str': '1567041668557185024', 'text': 'RT @DiaP_Music: This is Dungeon Quest....\\nMade this with a friend \\n@BamisileMichael \\n\\n@CrazyRetroGame1 #games #game #gamers @Elixir_Js #gam…', 'source': 'Twitter for iPhone', 'source_url': 'http://twitter.com/download/iphone', 'retweet_count': 6, 'favorite_count': 0, 'lang': 'en'}, {'id': 1567041485798768642, 'id_str': '1567041485798768642', 'text': 'Currently running on three hours of sleep. God be a pillar of strength 🙏', 'source': 'Twitter for iPhone', 'source_url': 'http://twitter.com/download/iphone', 'retweet_count': 0, 'favorite_count': 1, 'lang': 'en'}, {'id': 1567041468040101889, 'id_str': '1567041468040101889', 'text': 'RT @AyoSophs: You might actually be disturbing the person you feel so happy to talk to💀', 'source': 'Twitter for iPhone', 'source_url': 'http://twitter.com/download/iphone', 'retweet_count': 248, 'favorite_count': 0, 'lang': 'en'}, {'id': 1567041198405165058, 'id_str': '1567041198405165058', 'text': 'Why??? \\n\\nWhat if he is a “professional gamer” 😂, like an actual job for him? https://t.co/EPl3v8X9fV', 'source': 'Twitter for Android', 'source_url': 'http://twitter.com/download/android', 'quoted_status_id': 1566534843856461824, 'quoted_status_id_str': '1566534843856461824', 'retweet_count': 0, 'favorite_count': 0, 'lang': 'en'}, {'id': 1567040446802575360, 'id_str': '1567040446802575360', 'text': 'RT @QuranlyR: Download the Quranly App https://t.co/uRUX9SPUGl', 'source': 'Twitter for iPhone', 'source_url': 'http://twitter.com/download/iphone', 'retweet_count': 33, 'favorite_count': 0, 'lang': 'en'}, {'id': 1567039991490007042, 'id_str': '1567039991490007042', 'text': 'RT @unicodeveloper: Eden Life is building new interesting products. \\n\\nIf you’re a Nigerian Senior PHP/Laravel developer ready to work on so…', 'source': 'Twitter for iPhone', 'source_url': 'http://twitter.com/download/iphone', 'retweet_count': 291, 'favorite_count': 0, 'lang': 'en'}]\n"
     ]
    }
   ],
   "source": [
    "# print(tweets_data)\n",
    "with open('timeline_data.csv', 'w', encoding='UTF8', newline='\\n') as f:\n",
    "    writer = csv.writer(f)\n",
    "    writer.writerow(header_cols)\n",
    "    writer.writerows(tweets_data_list)"
   ]
  },
  {
   "cell_type": "code",
   "execution_count": 86,
   "id": "9c4882b4",
   "metadata": {},
   "outputs": [
    {
     "data": {
      "text/html": [
       "<div>\n",
       "<style scoped>\n",
       "    .dataframe tbody tr th:only-of-type {\n",
       "        vertical-align: middle;\n",
       "    }\n",
       "\n",
       "    .dataframe tbody tr th {\n",
       "        vertical-align: top;\n",
       "    }\n",
       "\n",
       "    .dataframe thead th {\n",
       "        text-align: right;\n",
       "    }\n",
       "</style>\n",
       "<table border=\"1\" class=\"dataframe\">\n",
       "  <thead>\n",
       "    <tr style=\"text-align: right;\">\n",
       "      <th></th>\n",
       "      <th>in_reply_to_status_id</th>\n",
       "      <th>lang</th>\n",
       "      <th>retweet_count</th>\n",
       "      <th>in_reply_to_user_id_str</th>\n",
       "      <th>in_reply_to_status_id_str</th>\n",
       "      <th>in_reply_to_screen_name</th>\n",
       "      <th>quoted_status_id_str</th>\n",
       "      <th>id_str</th>\n",
       "      <th>in_reply_to_user_id</th>\n",
       "      <th>id</th>\n",
       "      <th>source</th>\n",
       "      <th>quoted_status_id</th>\n",
       "      <th>favorite_count</th>\n",
       "      <th>source_url</th>\n",
       "      <th>text</th>\n",
       "    </tr>\n",
       "  </thead>\n",
       "  <tbody>\n",
       "    <tr>\n",
       "      <th>0</th>\n",
       "      <td>1.566895e+18</td>\n",
       "      <td>tl</td>\n",
       "      <td>0</td>\n",
       "      <td>1184522806882721793</td>\n",
       "      <td>1566895431237394433</td>\n",
       "      <td>IRE_TOMS</td>\n",
       "      <td>NaN</td>\n",
       "      <td>1567044409283198978</td>\n",
       "      <td>1.184523e+18</td>\n",
       "      <td>1567044409283198978</td>\n",
       "      <td>Twitter for iPhone</td>\n",
       "      <td>NaN</td>\n",
       "      <td>0</td>\n",
       "      <td>http://twitter.com/download/iphone</td>\n",
       "      <td>@IRE_TOMS Hahah!</td>\n",
       "    </tr>\n",
       "    <tr>\n",
       "      <th>1</th>\n",
       "      <td>NaN</td>\n",
       "      <td>en</td>\n",
       "      <td>0</td>\n",
       "      <td>NaN</td>\n",
       "      <td>NaN</td>\n",
       "      <td>NaN</td>\n",
       "      <td>NaN</td>\n",
       "      <td>1567044377368739848</td>\n",
       "      <td>NaN</td>\n",
       "      <td>1567044377368739848</td>\n",
       "      <td>Twitter for Android</td>\n",
       "      <td>NaN</td>\n",
       "      <td>0</td>\n",
       "      <td>http://twitter.com/download/android</td>\n",
       "      <td>The way every little conversation drives towar...</td>\n",
       "    </tr>\n",
       "    <tr>\n",
       "      <th>2</th>\n",
       "      <td>NaN</td>\n",
       "      <td>en</td>\n",
       "      <td>1</td>\n",
       "      <td>NaN</td>\n",
       "      <td>NaN</td>\n",
       "      <td>NaN</td>\n",
       "      <td>NaN</td>\n",
       "      <td>1567044163098624002</td>\n",
       "      <td>NaN</td>\n",
       "      <td>1567044163098624002</td>\n",
       "      <td>Twitter for iPhone</td>\n",
       "      <td>NaN</td>\n",
       "      <td>0</td>\n",
       "      <td>http://twitter.com/download/iphone</td>\n",
       "      <td>RT @DLinkup: Pls nobody should laugh at me😀. S...</td>\n",
       "    </tr>\n",
       "    <tr>\n",
       "      <th>3</th>\n",
       "      <td>NaN</td>\n",
       "      <td>en</td>\n",
       "      <td>0</td>\n",
       "      <td>NaN</td>\n",
       "      <td>NaN</td>\n",
       "      <td>NaN</td>\n",
       "      <td>1566688807638159360</td>\n",
       "      <td>1567043873582579712</td>\n",
       "      <td>NaN</td>\n",
       "      <td>1567043873582579712</td>\n",
       "      <td>Twitter for iPhone</td>\n",
       "      <td>1.566689e+18</td>\n",
       "      <td>0</td>\n",
       "      <td>http://twitter.com/download/iphone</td>\n",
       "      <td>😂😂😂\\nI remember the day I was crying and posti...</td>\n",
       "    </tr>\n",
       "    <tr>\n",
       "      <th>4</th>\n",
       "      <td>NaN</td>\n",
       "      <td>en</td>\n",
       "      <td>0</td>\n",
       "      <td>NaN</td>\n",
       "      <td>NaN</td>\n",
       "      <td>NaN</td>\n",
       "      <td>NaN</td>\n",
       "      <td>1567043780834115584</td>\n",
       "      <td>NaN</td>\n",
       "      <td>1567043780834115584</td>\n",
       "      <td>Twitter for iPhone</td>\n",
       "      <td>NaN</td>\n",
       "      <td>0</td>\n",
       "      <td>http://twitter.com/download/iphone</td>\n",
       "      <td>Some of my mutuals tweet so much omg</td>\n",
       "    </tr>\n",
       "  </tbody>\n",
       "</table>\n",
       "</div>"
      ],
      "text/plain": [
       "   in_reply_to_status_id lang  retweet_count in_reply_to_user_id_str  \\\n",
       "0           1.566895e+18   tl              0     1184522806882721793   \n",
       "1                    NaN   en              0                     NaN   \n",
       "2                    NaN   en              1                     NaN   \n",
       "3                    NaN   en              0                     NaN   \n",
       "4                    NaN   en              0                     NaN   \n",
       "\n",
       "  in_reply_to_status_id_str in_reply_to_screen_name quoted_status_id_str  \\\n",
       "0       1566895431237394433                IRE_TOMS                  NaN   \n",
       "1                       NaN                     NaN                  NaN   \n",
       "2                       NaN                     NaN                  NaN   \n",
       "3                       NaN                     NaN  1566688807638159360   \n",
       "4                       NaN                     NaN                  NaN   \n",
       "\n",
       "                id_str  in_reply_to_user_id                   id  \\\n",
       "0  1567044409283198978         1.184523e+18  1567044409283198978   \n",
       "1  1567044377368739848                  NaN  1567044377368739848   \n",
       "2  1567044163098624002                  NaN  1567044163098624002   \n",
       "3  1567043873582579712                  NaN  1567043873582579712   \n",
       "4  1567043780834115584                  NaN  1567043780834115584   \n",
       "\n",
       "                source  quoted_status_id  favorite_count  \\\n",
       "0   Twitter for iPhone               NaN               0   \n",
       "1  Twitter for Android               NaN               0   \n",
       "2   Twitter for iPhone               NaN               0   \n",
       "3   Twitter for iPhone      1.566689e+18               0   \n",
       "4   Twitter for iPhone               NaN               0   \n",
       "\n",
       "                            source_url  \\\n",
       "0   http://twitter.com/download/iphone   \n",
       "1  http://twitter.com/download/android   \n",
       "2   http://twitter.com/download/iphone   \n",
       "3   http://twitter.com/download/iphone   \n",
       "4   http://twitter.com/download/iphone   \n",
       "\n",
       "                                                text  \n",
       "0                                   @IRE_TOMS Hahah!  \n",
       "1  The way every little conversation drives towar...  \n",
       "2  RT @DLinkup: Pls nobody should laugh at me😀. S...  \n",
       "3  😂😂😂\\nI remember the day I was crying and posti...  \n",
       "4               Some of my mutuals tweet so much omg  "
      ]
     },
     "execution_count": 86,
     "metadata": {},
     "output_type": "execute_result"
    }
   ],
   "source": [
    "df = pd.DataFrame(tweets_data, columns=header_cols)\n",
    "df.head()"
   ]
  },
  {
   "cell_type": "code",
   "execution_count": null,
   "id": "c8b28eaf",
   "metadata": {},
   "outputs": [],
   "source": []
  }
 ],
 "metadata": {
  "kernelspec": {
   "display_name": "twitterVenv",
   "language": "python",
   "name": "twittervenv"
  },
  "language_info": {
   "codemirror_mode": {
    "name": "ipython",
    "version": 3
   },
   "file_extension": ".py",
   "mimetype": "text/x-python",
   "name": "python",
   "nbconvert_exporter": "python",
   "pygments_lexer": "ipython3",
   "version": "3.10.1"
  }
 },
 "nbformat": 4,
 "nbformat_minor": 5
}
