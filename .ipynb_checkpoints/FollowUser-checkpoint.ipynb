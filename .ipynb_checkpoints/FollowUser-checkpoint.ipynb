{
 "cells": [
  {
   "cell_type": "code",
   "execution_count": 3,
   "id": "6e30fe8a",
   "metadata": {},
   "outputs": [],
   "source": [
    "import os, tweepy, dotenv, csv\n",
    "import webbrowser\n",
    "import dotenv\n",
    "import pandas as pd"
   ]
  },
  {
   "cell_type": "code",
   "execution_count": 4,
   "id": "c4126e98",
   "metadata": {},
   "outputs": [
    {
     "data": {
      "text/plain": [
       "True"
      ]
     },
     "execution_count": 4,
     "metadata": {},
     "output_type": "execute_result"
    }
   ],
   "source": [
    "from dotenv import load_dotenv\n",
    "load_dotenv()"
   ]
  },
  {
   "cell_type": "code",
   "execution_count": 5,
   "id": "c00a7417",
   "metadata": {},
   "outputs": [],
   "source": [
    "api_key = os.getenv('api_key')\n",
    "api_key_secret = os.getenv(\"api_key_secret\")\n",
    "access_token = os.getenv('access_token')\n",
    "access_token_secret = os.getenv(\"access_token_secret\")"
   ]
  },
  {
   "cell_type": "code",
   "execution_count": 6,
   "id": "2e49703e",
   "metadata": {},
   "outputs": [],
   "source": [
    "callback_uri = 'oob'\n",
    "auth = tweepy.OAuthHandler(api_key, api_key_secret, callback=callback_uri)"
   ]
  },
  {
   "cell_type": "code",
   "execution_count": 7,
   "id": "df488404",
   "metadata": {},
   "outputs": [],
   "source": [
    "redirect_url = auth.get_authorization_url()"
   ]
  },
  {
   "cell_type": "code",
   "execution_count": 8,
   "id": "9e25110b",
   "metadata": {},
   "outputs": [
    {
     "name": "stdout",
     "output_type": "stream",
     "text": [
      "https://api.twitter.com/oauth/authorize?oauth_token=hXgZywAAAAABgtOVAAABgxb-HSY\n"
     ]
    },
    {
     "data": {
      "text/plain": [
       "True"
      ]
     },
     "execution_count": 8,
     "metadata": {},
     "output_type": "execute_result"
    }
   ],
   "source": [
    "print(redirect_url)\n",
    "webbrowser.open(redirect_url)"
   ]
  },
  {
   "cell_type": "code",
   "execution_count": 9,
   "id": "087250da",
   "metadata": {},
   "outputs": [
    {
     "name": "stdout",
     "output_type": "stream",
     "text": [
      "None None\n",
      "What is the pin? 5345841\n"
     ]
    }
   ],
   "source": [
    "print(auth.access_token, auth.access_token_secret)\n",
    "user_pin = input(\"What is the pin? \")"
   ]
  },
  {
   "cell_type": "code",
   "execution_count": 10,
   "id": "09f657c1",
   "metadata": {},
   "outputs": [
    {
     "name": "stdout",
     "output_type": "stream",
     "text": [
      "1153676762552963072-aTA5t5pd14XMlh7I6YI3hfTytQ0Xho yeZzUQQWinX2qocA0mTwLsIXlLxuGhS6hsTsZLC4Gmdo8\n"
     ]
    }
   ],
   "source": [
    "auth.get_access_token(user_pin)\n",
    "print(auth.access_token, auth.access_token_secret)"
   ]
  },
  {
   "cell_type": "code",
   "execution_count": 20,
   "id": "2db26854",
   "metadata": {},
   "outputs": [],
   "source": [
    "api = tweepy.API(auth)"
   ]
  },
  {
   "cell_type": "code",
   "execution_count": 35,
   "id": "7797c7bf",
   "metadata": {},
   "outputs": [],
   "source": [
    "new_status = api.update_status(\"Hello world!\")"
   ]
  },
  {
   "cell_type": "code",
   "execution_count": 22,
   "id": "65474471",
   "metadata": {},
   "outputs": [
    {
     "name": "stdout",
     "output_type": "stream",
     "text": [
      "Status(_api=<tweepy.api.API object at 0x000001D5298F71C0>, _json={'created_at': 'Wed Sep 07 08:09:13 +0000 2022', 'id': 1567424738259001344, 'id_str': '1567424738259001344', 'text': 'Hello world!', 'truncated': False, 'entities': {'hashtags': [], 'symbols': [], 'user_mentions': [], 'urls': []}, 'source': '<a href=\"https://github.com/TaslimOwolarafe\" rel=\"nofollow\">TweetBotCatcher</a>', 'in_reply_to_status_id': None, 'in_reply_to_status_id_str': None, 'in_reply_to_user_id': None, 'in_reply_to_user_id_str': None, 'in_reply_to_screen_name': None, 'user': {'id': 1153676762552963072, 'id_str': '1153676762552963072', 'name': 'tas-sama', 'screen_name': 'tasleemm_', 'location': '7.5629° N, 4.5200° E', 'description': 'Nothing to see here yet..', 'url': 'https://t.co/sg7UjOGJt4', 'entities': {'url': {'urls': [{'url': 'https://t.co/sg7UjOGJt4', 'expanded_url': 'https://github.com/TaslimOwolarafe', 'display_url': 'github.com/TaslimOwolarafe', 'indices': [0, 23]}]}, 'description': {'urls': []}}, 'protected': True, 'followers_count': 467, 'friends_count': 440, 'listed_count': 0, 'created_at': 'Tue Jul 23 14:42:29 +0000 2019', 'favourites_count': 10499, 'utc_offset': None, 'time_zone': None, 'geo_enabled': True, 'verified': False, 'statuses_count': 2544, 'lang': None, 'contributors_enabled': False, 'is_translator': False, 'is_translation_enabled': False, 'profile_background_color': 'F5F8FA', 'profile_background_image_url': None, 'profile_background_image_url_https': None, 'profile_background_tile': False, 'profile_image_url': 'http://pbs.twimg.com/profile_images/1490304022678491140/sUhnDBxH_normal.jpg', 'profile_image_url_https': 'https://pbs.twimg.com/profile_images/1490304022678491140/sUhnDBxH_normal.jpg', 'profile_banner_url': 'https://pbs.twimg.com/profile_banners/1153676762552963072/1612275236', 'profile_link_color': '1DA1F2', 'profile_sidebar_border_color': 'C0DEED', 'profile_sidebar_fill_color': 'DDEEF6', 'profile_text_color': '333333', 'profile_use_background_image': True, 'has_extended_profile': True, 'default_profile': True, 'default_profile_image': False, 'following': False, 'follow_request_sent': False, 'notifications': False, 'translator_type': 'none', 'withheld_in_countries': []}, 'geo': None, 'coordinates': None, 'place': None, 'contributors': None, 'is_quote_status': False, 'retweet_count': 0, 'favorite_count': 0, 'favorited': False, 'retweeted': False, 'lang': 'en'}, created_at=datetime.datetime(2022, 9, 7, 8, 9, 13, tzinfo=datetime.timezone.utc), id=1567424738259001344, id_str='1567424738259001344', text='Hello world!', truncated=False, entities={'hashtags': [], 'symbols': [], 'user_mentions': [], 'urls': []}, source='TweetBotCatcher', source_url='https://github.com/TaslimOwolarafe', in_reply_to_status_id=None, in_reply_to_status_id_str=None, in_reply_to_user_id=None, in_reply_to_user_id_str=None, in_reply_to_screen_name=None, author=User(_api=<tweepy.api.API object at 0x000001D5298F71C0>, _json={'id': 1153676762552963072, 'id_str': '1153676762552963072', 'name': 'tas-sama', 'screen_name': 'tasleemm_', 'location': '7.5629° N, 4.5200° E', 'description': 'Nothing to see here yet..', 'url': 'https://t.co/sg7UjOGJt4', 'entities': {'url': {'urls': [{'url': 'https://t.co/sg7UjOGJt4', 'expanded_url': 'https://github.com/TaslimOwolarafe', 'display_url': 'github.com/TaslimOwolarafe', 'indices': [0, 23]}]}, 'description': {'urls': []}}, 'protected': True, 'followers_count': 467, 'friends_count': 440, 'listed_count': 0, 'created_at': 'Tue Jul 23 14:42:29 +0000 2019', 'favourites_count': 10499, 'utc_offset': None, 'time_zone': None, 'geo_enabled': True, 'verified': False, 'statuses_count': 2544, 'lang': None, 'contributors_enabled': False, 'is_translator': False, 'is_translation_enabled': False, 'profile_background_color': 'F5F8FA', 'profile_background_image_url': None, 'profile_background_image_url_https': None, 'profile_background_tile': False, 'profile_image_url': 'http://pbs.twimg.com/profile_images/1490304022678491140/sUhnDBxH_normal.jpg', 'profile_image_url_https': 'https://pbs.twimg.com/profile_images/1490304022678491140/sUhnDBxH_normal.jpg', 'profile_banner_url': 'https://pbs.twimg.com/profile_banners/1153676762552963072/1612275236', 'profile_link_color': '1DA1F2', 'profile_sidebar_border_color': 'C0DEED', 'profile_sidebar_fill_color': 'DDEEF6', 'profile_text_color': '333333', 'profile_use_background_image': True, 'has_extended_profile': True, 'default_profile': True, 'default_profile_image': False, 'following': False, 'follow_request_sent': False, 'notifications': False, 'translator_type': 'none', 'withheld_in_countries': []}, id=1153676762552963072, id_str='1153676762552963072', name='tas-sama', screen_name='tasleemm_', location='7.5629° N, 4.5200° E', description='Nothing to see here yet..', url='https://t.co/sg7UjOGJt4', entities={'url': {'urls': [{'url': 'https://t.co/sg7UjOGJt4', 'expanded_url': 'https://github.com/TaslimOwolarafe', 'display_url': 'github.com/TaslimOwolarafe', 'indices': [0, 23]}]}, 'description': {'urls': []}}, protected=True, followers_count=467, friends_count=440, listed_count=0, created_at=datetime.datetime(2019, 7, 23, 14, 42, 29, tzinfo=datetime.timezone.utc), favourites_count=10499, utc_offset=None, time_zone=None, geo_enabled=True, verified=False, statuses_count=2544, lang=None, contributors_enabled=False, is_translator=False, is_translation_enabled=False, profile_background_color='F5F8FA', profile_background_image_url=None, profile_background_image_url_https=None, profile_background_tile=False, profile_image_url='http://pbs.twimg.com/profile_images/1490304022678491140/sUhnDBxH_normal.jpg', profile_image_url_https='https://pbs.twimg.com/profile_images/1490304022678491140/sUhnDBxH_normal.jpg', profile_banner_url='https://pbs.twimg.com/profile_banners/1153676762552963072/1612275236', profile_link_color='1DA1F2', profile_sidebar_border_color='C0DEED', profile_sidebar_fill_color='DDEEF6', profile_text_color='333333', profile_use_background_image=True, has_extended_profile=True, default_profile=True, default_profile_image=False, following=False, follow_request_sent=False, notifications=False, translator_type='none', withheld_in_countries=[]), user=User(_api=<tweepy.api.API object at 0x000001D5298F71C0>, _json={'id': 1153676762552963072, 'id_str': '1153676762552963072', 'name': 'tas-sama', 'screen_name': 'tasleemm_', 'location': '7.5629° N, 4.5200° E', 'description': 'Nothing to see here yet..', 'url': 'https://t.co/sg7UjOGJt4', 'entities': {'url': {'urls': [{'url': 'https://t.co/sg7UjOGJt4', 'expanded_url': 'https://github.com/TaslimOwolarafe', 'display_url': 'github.com/TaslimOwolarafe', 'indices': [0, 23]}]}, 'description': {'urls': []}}, 'protected': True, 'followers_count': 467, 'friends_count': 440, 'listed_count': 0, 'created_at': 'Tue Jul 23 14:42:29 +0000 2019', 'favourites_count': 10499, 'utc_offset': None, 'time_zone': None, 'geo_enabled': True, 'verified': False, 'statuses_count': 2544, 'lang': None, 'contributors_enabled': False, 'is_translator': False, 'is_translation_enabled': False, 'profile_background_color': 'F5F8FA', 'profile_background_image_url': None, 'profile_background_image_url_https': None, 'profile_background_tile': False, 'profile_image_url': 'http://pbs.twimg.com/profile_images/1490304022678491140/sUhnDBxH_normal.jpg', 'profile_image_url_https': 'https://pbs.twimg.com/profile_images/1490304022678491140/sUhnDBxH_normal.jpg', 'profile_banner_url': 'https://pbs.twimg.com/profile_banners/1153676762552963072/1612275236', 'profile_link_color': '1DA1F2', 'profile_sidebar_border_color': 'C0DEED', 'profile_sidebar_fill_color': 'DDEEF6', 'profile_text_color': '333333', 'profile_use_background_image': True, 'has_extended_profile': True, 'default_profile': True, 'default_profile_image': False, 'following': False, 'follow_request_sent': False, 'notifications': False, 'translator_type': 'none', 'withheld_in_countries': []}, id=1153676762552963072, id_str='1153676762552963072', name='tas-sama', screen_name='tasleemm_', location='7.5629° N, 4.5200° E', description='Nothing to see here yet..', url='https://t.co/sg7UjOGJt4', entities={'url': {'urls': [{'url': 'https://t.co/sg7UjOGJt4', 'expanded_url': 'https://github.com/TaslimOwolarafe', 'display_url': 'github.com/TaslimOwolarafe', 'indices': [0, 23]}]}, 'description': {'urls': []}}, protected=True, followers_count=467, friends_count=440, listed_count=0, created_at=datetime.datetime(2019, 7, 23, 14, 42, 29, tzinfo=datetime.timezone.utc), favourites_count=10499, utc_offset=None, time_zone=None, geo_enabled=True, verified=False, statuses_count=2544, lang=None, contributors_enabled=False, is_translator=False, is_translation_enabled=False, profile_background_color='F5F8FA', profile_background_image_url=None, profile_background_image_url_https=None, profile_background_tile=False, profile_image_url='http://pbs.twimg.com/profile_images/1490304022678491140/sUhnDBxH_normal.jpg', profile_image_url_https='https://pbs.twimg.com/profile_images/1490304022678491140/sUhnDBxH_normal.jpg', profile_banner_url='https://pbs.twimg.com/profile_banners/1153676762552963072/1612275236', profile_link_color='1DA1F2', profile_sidebar_border_color='C0DEED', profile_sidebar_fill_color='DDEEF6', profile_text_color='333333', profile_use_background_image=True, has_extended_profile=True, default_profile=True, default_profile_image=False, following=False, follow_request_sent=False, notifications=False, translator_type='none', withheld_in_countries=[]), geo=None, coordinates=None, place=None, contributors=None, is_quote_status=False, retweet_count=0, favorite_count=0, favorited=False, retweeted=False, lang='en')\n"
     ]
    }
   ],
   "source": [
    "print(new_status)"
   ]
  },
  {
   "cell_type": "code",
   "execution_count": 37,
   "id": "d78e01c9",
   "metadata": {},
   "outputs": [
    {
     "ename": "NotFound",
     "evalue": "404 Not Found\n144 - No status found with that ID.",
     "output_type": "error",
     "traceback": [
      "\u001b[1;31m---------------------------------------------------------------------------\u001b[0m",
      "\u001b[1;31mNotFound\u001b[0m                                  Traceback (most recent call last)",
      "Input \u001b[1;32mIn [37]\u001b[0m, in \u001b[0;36m<cell line: 1>\u001b[1;34m()\u001b[0m\n\u001b[1;32m----> 1\u001b[0m \u001b[43mnew_status\u001b[49m\u001b[38;5;241;43m.\u001b[39;49m\u001b[43mdestroy\u001b[49m\u001b[43m(\u001b[49m\u001b[43m)\u001b[49m\n",
      "File \u001b[1;32m~\\Desktop\\Tweeter\\twitterVenv\\lib\\site-packages\\tweepy\\models.py:362\u001b[0m, in \u001b[0;36mStatus.destroy\u001b[1;34m(self)\u001b[0m\n\u001b[0;32m    361\u001b[0m \u001b[38;5;28;01mdef\u001b[39;00m \u001b[38;5;21mdestroy\u001b[39m(\u001b[38;5;28mself\u001b[39m):\n\u001b[1;32m--> 362\u001b[0m     \u001b[38;5;28;01mreturn\u001b[39;00m \u001b[38;5;28;43mself\u001b[39;49m\u001b[38;5;241;43m.\u001b[39;49m\u001b[43m_api\u001b[49m\u001b[38;5;241;43m.\u001b[39;49m\u001b[43mdestroy_status\u001b[49m\u001b[43m(\u001b[49m\u001b[38;5;28;43mself\u001b[39;49m\u001b[38;5;241;43m.\u001b[39;49m\u001b[43mid\u001b[49m\u001b[43m)\u001b[49m\n",
      "File \u001b[1;32m~\\Desktop\\Tweeter\\twitterVenv\\lib\\site-packages\\tweepy\\api.py:46\u001b[0m, in \u001b[0;36mpayload.<locals>.decorator.<locals>.wrapper\u001b[1;34m(*args, **kwargs)\u001b[0m\n\u001b[0;32m     44\u001b[0m kwargs[\u001b[38;5;124m'\u001b[39m\u001b[38;5;124mpayload_list\u001b[39m\u001b[38;5;124m'\u001b[39m] \u001b[38;5;241m=\u001b[39m payload_list\n\u001b[0;32m     45\u001b[0m kwargs[\u001b[38;5;124m'\u001b[39m\u001b[38;5;124mpayload_type\u001b[39m\u001b[38;5;124m'\u001b[39m] \u001b[38;5;241m=\u001b[39m payload_type\n\u001b[1;32m---> 46\u001b[0m \u001b[38;5;28;01mreturn\u001b[39;00m method(\u001b[38;5;241m*\u001b[39margs, \u001b[38;5;241m*\u001b[39m\u001b[38;5;241m*\u001b[39mkwargs)\n",
      "File \u001b[1;32m~\\Desktop\\Tweeter\\twitterVenv\\lib\\site-packages\\tweepy\\api.py:981\u001b[0m, in \u001b[0;36mAPI.destroy_status\u001b[1;34m(self, id, **kwargs)\u001b[0m\n\u001b[0;32m    959\u001b[0m \u001b[38;5;129m@payload\u001b[39m(\u001b[38;5;124m'\u001b[39m\u001b[38;5;124mstatus\u001b[39m\u001b[38;5;124m'\u001b[39m)\n\u001b[0;32m    960\u001b[0m \u001b[38;5;28;01mdef\u001b[39;00m \u001b[38;5;21mdestroy_status\u001b[39m(\u001b[38;5;28mself\u001b[39m, \u001b[38;5;28mid\u001b[39m, \u001b[38;5;241m*\u001b[39m\u001b[38;5;241m*\u001b[39mkwargs):\n\u001b[0;32m    961\u001b[0m     \u001b[38;5;124;03m\"\"\"destroy_status(id, *, trim_user)\u001b[39;00m\n\u001b[0;32m    962\u001b[0m \n\u001b[0;32m    963\u001b[0m \u001b[38;5;124;03m    Destroy the status specified by the ``id`` parameter. The authenticated\u001b[39;00m\n\u001b[1;32m   (...)\u001b[0m\n\u001b[0;32m    979\u001b[0m \u001b[38;5;124;03m    https://developer.twitter.com/en/docs/twitter-api/v1/tweets/post-and-engage/api-reference/post-statuses-destroy-id\u001b[39;00m\n\u001b[0;32m    980\u001b[0m \u001b[38;5;124;03m    \"\"\"\u001b[39;00m\n\u001b[1;32m--> 981\u001b[0m     \u001b[38;5;28;01mreturn\u001b[39;00m \u001b[38;5;28mself\u001b[39m\u001b[38;5;241m.\u001b[39mrequest(\n\u001b[0;32m    982\u001b[0m         \u001b[38;5;124m'\u001b[39m\u001b[38;5;124mPOST\u001b[39m\u001b[38;5;124m'\u001b[39m, \u001b[38;5;124mf\u001b[39m\u001b[38;5;124m'\u001b[39m\u001b[38;5;124mstatuses/destroy/\u001b[39m\u001b[38;5;132;01m{\u001b[39;00m\u001b[38;5;28mid\u001b[39m\u001b[38;5;132;01m}\u001b[39;00m\u001b[38;5;124m'\u001b[39m, endpoint_parameters\u001b[38;5;241m=\u001b[39m(\n\u001b[0;32m    983\u001b[0m             \u001b[38;5;124m'\u001b[39m\u001b[38;5;124mtrim_user\u001b[39m\u001b[38;5;124m'\u001b[39m,\n\u001b[0;32m    984\u001b[0m         ), \u001b[38;5;241m*\u001b[39m\u001b[38;5;241m*\u001b[39mkwargs\n\u001b[0;32m    985\u001b[0m     )\n",
      "File \u001b[1;32m~\\Desktop\\Tweeter\\twitterVenv\\lib\\site-packages\\tweepy\\api.py:261\u001b[0m, in \u001b[0;36mAPI.request\u001b[1;34m(self, method, endpoint, endpoint_parameters, params, headers, json_payload, parser, payload_list, payload_type, post_data, files, require_auth, return_cursors, upload_api, use_cache, **kwargs)\u001b[0m\n\u001b[0;32m    259\u001b[0m     \u001b[38;5;28;01mraise\u001b[39;00m Forbidden(resp)\n\u001b[0;32m    260\u001b[0m \u001b[38;5;28;01mif\u001b[39;00m resp\u001b[38;5;241m.\u001b[39mstatus_code \u001b[38;5;241m==\u001b[39m \u001b[38;5;241m404\u001b[39m:\n\u001b[1;32m--> 261\u001b[0m     \u001b[38;5;28;01mraise\u001b[39;00m NotFound(resp)\n\u001b[0;32m    262\u001b[0m \u001b[38;5;28;01mif\u001b[39;00m resp\u001b[38;5;241m.\u001b[39mstatus_code \u001b[38;5;241m==\u001b[39m \u001b[38;5;241m429\u001b[39m:\n\u001b[0;32m    263\u001b[0m     \u001b[38;5;28;01mraise\u001b[39;00m TooManyRequests(resp)\n",
      "\u001b[1;31mNotFound\u001b[0m: 404 Not Found\n144 - No status found with that ID."
     ]
    }
   ],
   "source": [
    "new_status.destroy()"
   ]
  },
  {
   "cell_type": "code",
   "execution_count": 24,
   "id": "fb591283",
   "metadata": {},
   "outputs": [
    {
     "data": {
      "text/plain": [
       "['__class__',\n",
       " '__delattr__',\n",
       " '__dict__',\n",
       " '__dir__',\n",
       " '__doc__',\n",
       " '__eq__',\n",
       " '__format__',\n",
       " '__ge__',\n",
       " '__getattribute__',\n",
       " '__getstate__',\n",
       " '__gt__',\n",
       " '__hash__',\n",
       " '__init__',\n",
       " '__init_subclass__',\n",
       " '__le__',\n",
       " '__lt__',\n",
       " '__module__',\n",
       " '__ne__',\n",
       " '__new__',\n",
       " '__reduce__',\n",
       " '__reduce_ex__',\n",
       " '__repr__',\n",
       " '__setattr__',\n",
       " '__sizeof__',\n",
       " '__slots__',\n",
       " '__str__',\n",
       " '__subclasshook__',\n",
       " '__weakref__',\n",
       " '_api',\n",
       " '_json',\n",
       " 'author',\n",
       " 'contributors',\n",
       " 'coordinates',\n",
       " 'created_at',\n",
       " 'destroy',\n",
       " 'entities',\n",
       " 'favorite',\n",
       " 'favorite_count',\n",
       " 'favorited',\n",
       " 'geo',\n",
       " 'id',\n",
       " 'id_str',\n",
       " 'in_reply_to_screen_name',\n",
       " 'in_reply_to_status_id',\n",
       " 'in_reply_to_status_id_str',\n",
       " 'in_reply_to_user_id',\n",
       " 'in_reply_to_user_id_str',\n",
       " 'is_quote_status',\n",
       " 'lang',\n",
       " 'parse',\n",
       " 'parse_list',\n",
       " 'place',\n",
       " 'retweet',\n",
       " 'retweet_count',\n",
       " 'retweeted',\n",
       " 'retweets',\n",
       " 'source',\n",
       " 'source_url',\n",
       " 'text',\n",
       " 'truncated',\n",
       " 'user']"
      ]
     },
     "execution_count": 24,
     "metadata": {},
     "output_type": "execute_result"
    }
   ],
   "source": [
    "dir(new_status)"
   ]
  },
  {
   "cell_type": "code",
   "execution_count": 25,
   "id": "f7de6ce3",
   "metadata": {},
   "outputs": [
    {
     "data": {
      "text/plain": [
       "['__class__',\n",
       " '__delattr__',\n",
       " '__dict__',\n",
       " '__dir__',\n",
       " '__doc__',\n",
       " '__eq__',\n",
       " '__format__',\n",
       " '__ge__',\n",
       " '__getattribute__',\n",
       " '__gt__',\n",
       " '__hash__',\n",
       " '__init__',\n",
       " '__init_subclass__',\n",
       " '__le__',\n",
       " '__lt__',\n",
       " '__module__',\n",
       " '__ne__',\n",
       " '__new__',\n",
       " '__reduce__',\n",
       " '__reduce_ex__',\n",
       " '__repr__',\n",
       " '__setattr__',\n",
       " '__sizeof__',\n",
       " '__str__',\n",
       " '__subclasshook__',\n",
       " '__weakref__',\n",
       " 'add_list_member',\n",
       " 'add_list_members',\n",
       " 'auth',\n",
       " 'available_trends',\n",
       " 'cache',\n",
       " 'cached_result',\n",
       " 'chunked_upload',\n",
       " 'chunked_upload_append',\n",
       " 'chunked_upload_finalize',\n",
       " 'chunked_upload_init',\n",
       " 'closest_trends',\n",
       " 'create_block',\n",
       " 'create_favorite',\n",
       " 'create_friendship',\n",
       " 'create_list',\n",
       " 'create_media_metadata',\n",
       " 'create_mute',\n",
       " 'create_saved_search',\n",
       " 'delete_direct_message',\n",
       " 'destroy_block',\n",
       " 'destroy_favorite',\n",
       " 'destroy_friendship',\n",
       " 'destroy_list',\n",
       " 'destroy_mute',\n",
       " 'destroy_saved_search',\n",
       " 'destroy_status',\n",
       " 'geo_id',\n",
       " 'get_blocked_ids',\n",
       " 'get_blocks',\n",
       " 'get_direct_message',\n",
       " 'get_direct_messages',\n",
       " 'get_favorites',\n",
       " 'get_follower_ids',\n",
       " 'get_followers',\n",
       " 'get_friend_ids',\n",
       " 'get_friends',\n",
       " 'get_friendship',\n",
       " 'get_list',\n",
       " 'get_list_member',\n",
       " 'get_list_members',\n",
       " 'get_list_memberships',\n",
       " 'get_list_ownerships',\n",
       " 'get_list_subscriber',\n",
       " 'get_list_subscribers',\n",
       " 'get_list_subscriptions',\n",
       " 'get_lists',\n",
       " 'get_media_upload_status',\n",
       " 'get_muted_ids',\n",
       " 'get_mutes',\n",
       " 'get_oembed',\n",
       " 'get_place_trends',\n",
       " 'get_profile_banner',\n",
       " 'get_retweeter_ids',\n",
       " 'get_retweets',\n",
       " 'get_retweets_of_me',\n",
       " 'get_saved_search',\n",
       " 'get_saved_searches',\n",
       " 'get_settings',\n",
       " 'get_status',\n",
       " 'get_user',\n",
       " 'home_timeline',\n",
       " 'host',\n",
       " 'incoming_friendships',\n",
       " 'indicate_direct_message_typing',\n",
       " 'last_response',\n",
       " 'list_timeline',\n",
       " 'lookup_friendships',\n",
       " 'lookup_statuses',\n",
       " 'lookup_users',\n",
       " 'mark_direct_message_read',\n",
       " 'media_upload',\n",
       " 'mentions_timeline',\n",
       " 'no_retweets_friendships',\n",
       " 'outgoing_friendships',\n",
       " 'parser',\n",
       " 'proxy',\n",
       " 'rate_limit_status',\n",
       " 'remove_list_member',\n",
       " 'remove_list_members',\n",
       " 'remove_profile_banner',\n",
       " 'report_spam',\n",
       " 'request',\n",
       " 'retry_count',\n",
       " 'retry_delay',\n",
       " 'retry_errors',\n",
       " 'retweet',\n",
       " 'reverse_geocode',\n",
       " 'search_30_day',\n",
       " 'search_full_archive',\n",
       " 'search_geo',\n",
       " 'search_tweets',\n",
       " 'search_users',\n",
       " 'send_direct_message',\n",
       " 'session',\n",
       " 'set_settings',\n",
       " 'simple_upload',\n",
       " 'subscribe_list',\n",
       " 'supported_languages',\n",
       " 'timeout',\n",
       " 'unretweet',\n",
       " 'unsubscribe_list',\n",
       " 'update_friendship',\n",
       " 'update_list',\n",
       " 'update_profile',\n",
       " 'update_profile_banner',\n",
       " 'update_profile_image',\n",
       " 'update_status',\n",
       " 'update_status_with_media',\n",
       " 'upload_host',\n",
       " 'user_agent',\n",
       " 'user_timeline',\n",
       " 'verify_credentials',\n",
       " 'wait_on_rate_limit']"
      ]
     },
     "execution_count": 25,
     "metadata": {},
     "output_type": "execute_result"
    }
   ],
   "source": [
    "dir(api)"
   ]
  },
  {
   "cell_type": "code",
   "execution_count": 26,
   "id": "3f70ebc3",
   "metadata": {},
   "outputs": [],
   "source": [
    "my_timeline = api.home_timeline()"
   ]
  },
  {
   "cell_type": "code",
   "execution_count": 27,
   "id": "c517c757",
   "metadata": {},
   "outputs": [
    {
     "name": "stdout",
     "output_type": "stream",
     "text": [
      "dav_zoid\n",
      "imanie\n",
      "yinkakun\n",
      "thebarakah_\n",
      "thebarakah_\n",
      "theotherfaceofA\n",
      "theotherfaceofA\n",
      "thebarakah_\n",
      "oswvldo_onielll\n",
      "OlayinkaN0\n",
      "inioluwafeolami\n",
      "OlayinkaN0\n",
      "Royaletemi\n",
      "oswvldo_onielll\n",
      "Wize_baba\n",
      "inioluwafeolami\n",
      "_weirdified\n",
      "oswvldo_onielll\n",
      "ManCity\n",
      "thegr8jefe\n"
     ]
    }
   ],
   "source": [
    "import json\n",
    "\n",
    "columns = set()\n",
    "allowed_types = [int, str]\n",
    "tweets_data = []\n",
    "# columns.add('Tweeter')\n",
    "for status in my_timeline:\n",
    "#     print(dict(vars(status)), \"\\n \\n\")\n",
    "    status_dict = dict(vars(status))\n",
    "#     print(vars(status).keys(), \"\\n \\n\")\n",
    "    print(status.user.screen_name)\n",
    "    keys = status_dict.keys()\n",
    "    single_tweet_data = {}\n",
    "    for k in keys:\n",
    "        if type(status_dict[k]) in allowed_types:\n",
    "            columns.add(k)\n",
    "            \n",
    "\n",
    "header_cols = list(columns)\n",
    "header_cols = ['tweeter', 'author'] + header_cols\n",
    "for status in my_timeline:\n",
    "    status_dict = dict(vars(status))\n",
    "    single_tweet_data = {'tweeter': status.user.id, 'author': status.author.screen_name}\n",
    "#     single_tweet_data['Tweeter'] = status.user.screen_name\n",
    "    for h in header_cols[2::]:\n",
    "        try:\n",
    "            single_tweet_data[h] = status_dict[h]\n",
    "        except:\n",
    "            single_tweet_data[h] = \"NaN\"\n",
    "#     print(single_tweet_data)\n",
    "    tweets_data.append(single_tweet_data)\n",
    "\n",
    "tweets_data_list = [[j for j in x.values()] for x in tweets_data]\n"
   ]
  },
  {
   "cell_type": "code",
   "execution_count": 28,
   "id": "9d43b320",
   "metadata": {},
   "outputs": [
    {
     "name": "stdout",
     "output_type": "stream",
     "text": [
      "['tweeter', 'author', 'in_reply_to_user_id', 'text', 'source', 'in_reply_to_status_id_str', 'source_url', 'in_reply_to_user_id_str', 'id_str', 'in_reply_to_screen_name', 'lang', 'in_reply_to_status_id', 'retweet_count', 'quoted_status_id_str', 'id', 'quoted_status_id', 'favorite_count'] \n",
      "\n",
      "[[1207620026251038720, 'dav_zoid', 1153676762552963072, '@tasleemm_ Yes!', 'Twitter for Android', '1567252563874963456', 'http://twitter.com/download/android', '1153676762552963072', '1567424715479711745', 'tasleemm_', 'und', 1567252563874963456, 0, 'NaN', 1567424715479711745, 'NaN', 0], [204132871, 'imanie', None, 'RT @Nubianizm: No one:\\nRica: *smiles awkwardly* https://t.co/9P1oDHSmks', 'Twitter for iPhone', None, 'http://twitter.com/download/iphone', None, '1567424703953764354', None, 'en', None, 7, 'NaN', 1567424703953764354, 'NaN', 0], [814189493867540481, 'yinkakun', None, 'RT @iamdillion: Read my latest: “[DMWN #48] 5 ways to increase your chances of getting interviews” https://t.co/iK21RXtLGW', 'Twitter for iPhone', None, 'http://twitter.com/download/iphone', None, '1567424387594309632', None, 'en', None, 2, 'NaN', 1567424387594309632, 'NaN', 0], [2883751252, 'thebarakah_', None, 'RT @valerian247: A life of ease forever &amp; ever can only happen in heaven, so far we are on earth it is in our place to surmount every chall…', 'Twitter for iPhone', None, 'http://twitter.com/download/iphone', None, '1567423858520498176', None, 'en', None, 2, 'NaN', 1567423858520498176, 'NaN', 0], [2883751252, 'thebarakah_', None, 'Ordinary torch light? Lakuli https://t.co/GOe4KQeoSI', 'Twitter for iPhone', None, 'http://twitter.com/download/iphone', None, '1567423800819449857', None, 'en', None, 0, '1567291742654812166', 1567423800819449857, 1567291742654812166, 0], [2892419643, 'theotherfaceofA', None, 'RT @D_lady_in_hijab: https://t.co/vTVQX4dts2', 'Twitter for Android', None, 'http://twitter.com/download/android', None, '1567423737384804352', None, 'zxx', None, 1, 'NaN', 1567423737384804352, 'NaN', 0], [2892419643, 'theotherfaceofA', None, 'RT @D_lady_in_hijab: Who is ready for #IMTConf22???? Well, I am. \\nKindly drop a feedback or review on this simple countdown page I designed…', 'Twitter for Android', None, 'http://twitter.com/download/android', None, '1567423719525474312', None, 'en', None, 2, 'NaN', 1567423719525474312, 'NaN', 0], [2883751252, 'thebarakah_', None, 'Tobi, stand up, they said we should carry you https://t.co/CEun78EEBa', 'Twitter for iPhone', None, 'http://twitter.com/download/iphone', None, '1567423692958830592', None, 'en', None, 0, '1567423284773326850', 1567423692958830592, 1567423284773326850, 0], [1339881508056739843, 'oswvldo_onielll', None, 'No matter the specie all women are the same. All they do is waste time in making every decision, like woman pick on… https://t.co/1CkZYpHArk', 'Twitter for Android', None, 'http://twitter.com/download/android', None, '1567423381724610560', None, 'en', None, 1, '1567356190916485120', 1567423381724610560, 1567356190916485120, 1], [1171666575084130304, 'OlayinkaN0', None, 'RT @cesc4official: He makes so many good runs but sometimes they either don’t see him or don’t play the pass. Looks fed up sometimes 😂', 'Twitter for Android', None, 'http://twitter.com/download/android', None, '1567423106150449152', None, 'en', None, 1862, '1453698409383219205', 1567423106150449152, 1453698409383219205, 0], [1115064100529242113, 'inioluwafeolami', None, 'RT @MoAdekunleOni: He was pierced for my transgressions. He was crushed for my iniquities, the punishment that brought me peace was on Him…', 'Twitter for Android', None, 'http://twitter.com/download/android', None, '1567423068162740231', None, 'en', None, 328, '1567136809598976002', 1567423068162740231, 1567136809598976002, 0], [1171666575084130304, 'OlayinkaN0', None, 'Tuchel sold Gilmour between🤣🤣🤣🤣 https://t.co/37Yr7DLc1q', 'Twitter for Android', None, 'http://twitter.com/download/android', None, '1567423036717932546', None, 'en', None, 0, '1387317495908945922', 1567423036717932546, 1387317495908945922, 0], [858138740, 'Royaletemi', None, 'RT @lanitas_kitchen: Good morning \\nFor affordable bulk food packs? Contact us today👍🏻\\nWe cater to both social and cooperate events.. https:…', 'Twitter for Android', None, 'http://twitter.com/download/android', None, '1567422989364256769', None, 'en', None, 5, 'NaN', 1567422989364256769, 'NaN', 0], [1339881508056739843, 'oswvldo_onielll', None, 'RT @bongo_bondhu: Men vs Women ( Time they take to shop) https://t.co/7PfDEIfL9j', 'Twitter for Android', None, 'http://twitter.com/download/android', None, '1567422968468312064', None, 'en', None, 196, 'NaN', 1567422968468312064, 'NaN', 0], [4748303717, 'Wize_baba', None, 'RT @_itarex: Chelsea U19  2- 4  Dinamo Zagreb U19\\n\\nChelsea U21  1-4  Dinamo Zagreb U21\\n\\nDinamo Zagreb  1-0  Chelsea\\n\\n   Chelsea lose from t…', 'Twitter for Android', None, 'http://twitter.com/download/android', None, '1567422933265432577', None, 'und', None, 42, 'NaN', 1567422933265432577, 'NaN', 0], [1115064100529242113, 'inioluwafeolami', None, 'RT @MasculineTheory: Men build the world.\\n\\nWomen make it beautiful.', 'Twitter for Android', None, 'http://twitter.com/download/android', None, '1567422909571899393', None, 'en', None, 85, 'NaN', 1567422909571899393, 'NaN', 0], [1058720352812052480, '_weirdified', None, 'RT @thesignature01: Went to check out a flat an agent promised me since last week and on getting there he began coaxing us to take a differ…', 'Twitter for Android', None, 'http://twitter.com/download/android', None, '1567422900914855937', None, 'en', None, 11, 'NaN', 1567422900914855937, 'NaN', 0], [1339881508056739843, 'oswvldo_onielll', None, 'RT @Olamide0fficial: Made In Lagos has set the bar so high. The album is about to spend 100 solid weeks on Billboard World Albums Chart lik…', 'Twitter for Android', None, 'http://twitter.com/download/android', None, '1567422658639273984', None, 'en', None, 83, 'NaN', 1567422658639273984, 'NaN', 0], [14573900, 'ManCity', None, 'Wishing @AlexGreenwood a very Happy Birthday! 🥳💙\\n\\n#ManCity https://t.co/LRY2ry5lp3', 'Twitter Web App', None, 'https://mobile.twitter.com', None, '1567422549130203136', None, 'en', None, 34, 'NaN', 1567422549130203136, 'NaN', 675], [1055603148285509633, 'thegr8jefe', None, 'RT @NaijaMadrid: Good morning Madridistas 🤍🤩🌅 https://t.co/dayxTEufY3', 'Twitter for iPhone', None, 'http://twitter.com/download/iphone', None, '1567422444918415362', None, 'en', None, 5, 'NaN', 1567422444918415362, 'NaN', 0]]\n"
     ]
    }
   ],
   "source": [
    "print(header_cols, \"\\n\")\n",
    "print(tweets_data_list)\n",
    "# print(tweets_data_list)"
   ]
  },
  {
   "cell_type": "code",
   "execution_count": 29,
   "id": "a2e5991b",
   "metadata": {},
   "outputs": [],
   "source": [
    "# print(tweets_data)\n",
    "with open('timeline_data.csv', 'w', encoding='UTF8', newline='\\n') as f:\n",
    "    writer = csv.writer(f)\n",
    "    writer.writerow(header_cols)\n",
    "    writer.writerows(tweets_data_list)"
   ]
  },
  {
   "cell_type": "code",
   "execution_count": 30,
   "id": "975fb679",
   "metadata": {},
   "outputs": [
    {
     "data": {
      "text/html": [
       "<div>\n",
       "<style scoped>\n",
       "    .dataframe tbody tr th:only-of-type {\n",
       "        vertical-align: middle;\n",
       "    }\n",
       "\n",
       "    .dataframe tbody tr th {\n",
       "        vertical-align: top;\n",
       "    }\n",
       "\n",
       "    .dataframe thead th {\n",
       "        text-align: right;\n",
       "    }\n",
       "</style>\n",
       "<table border=\"1\" class=\"dataframe\">\n",
       "  <thead>\n",
       "    <tr style=\"text-align: right;\">\n",
       "      <th></th>\n",
       "      <th>tweeter</th>\n",
       "      <th>author</th>\n",
       "      <th>in_reply_to_user_id</th>\n",
       "      <th>text</th>\n",
       "      <th>source</th>\n",
       "      <th>in_reply_to_status_id_str</th>\n",
       "      <th>source_url</th>\n",
       "      <th>in_reply_to_user_id_str</th>\n",
       "      <th>id_str</th>\n",
       "      <th>in_reply_to_screen_name</th>\n",
       "      <th>lang</th>\n",
       "      <th>in_reply_to_status_id</th>\n",
       "      <th>retweet_count</th>\n",
       "      <th>quoted_status_id_str</th>\n",
       "      <th>id</th>\n",
       "      <th>quoted_status_id</th>\n",
       "      <th>favorite_count</th>\n",
       "    </tr>\n",
       "  </thead>\n",
       "  <tbody>\n",
       "    <tr>\n",
       "      <th>0</th>\n",
       "      <td>1207620026251038720</td>\n",
       "      <td>dav_zoid</td>\n",
       "      <td>1.153677e+18</td>\n",
       "      <td>@tasleemm_ Yes!</td>\n",
       "      <td>Twitter for Android</td>\n",
       "      <td>1567252563874963456</td>\n",
       "      <td>http://twitter.com/download/android</td>\n",
       "      <td>1153676762552963072</td>\n",
       "      <td>1567424715479711745</td>\n",
       "      <td>tasleemm_</td>\n",
       "      <td>und</td>\n",
       "      <td>1.567253e+18</td>\n",
       "      <td>0</td>\n",
       "      <td>NaN</td>\n",
       "      <td>1567424715479711745</td>\n",
       "      <td>NaN</td>\n",
       "      <td>0</td>\n",
       "    </tr>\n",
       "    <tr>\n",
       "      <th>1</th>\n",
       "      <td>204132871</td>\n",
       "      <td>imanie</td>\n",
       "      <td>NaN</td>\n",
       "      <td>RT @Nubianizm: No one:\\nRica: *smiles awkwardl...</td>\n",
       "      <td>Twitter for iPhone</td>\n",
       "      <td>None</td>\n",
       "      <td>http://twitter.com/download/iphone</td>\n",
       "      <td>None</td>\n",
       "      <td>1567424703953764354</td>\n",
       "      <td>None</td>\n",
       "      <td>en</td>\n",
       "      <td>NaN</td>\n",
       "      <td>7</td>\n",
       "      <td>NaN</td>\n",
       "      <td>1567424703953764354</td>\n",
       "      <td>NaN</td>\n",
       "      <td>0</td>\n",
       "    </tr>\n",
       "    <tr>\n",
       "      <th>2</th>\n",
       "      <td>814189493867540481</td>\n",
       "      <td>yinkakun</td>\n",
       "      <td>NaN</td>\n",
       "      <td>RT @iamdillion: Read my latest: “[DMWN #48] 5 ...</td>\n",
       "      <td>Twitter for iPhone</td>\n",
       "      <td>None</td>\n",
       "      <td>http://twitter.com/download/iphone</td>\n",
       "      <td>None</td>\n",
       "      <td>1567424387594309632</td>\n",
       "      <td>None</td>\n",
       "      <td>en</td>\n",
       "      <td>NaN</td>\n",
       "      <td>2</td>\n",
       "      <td>NaN</td>\n",
       "      <td>1567424387594309632</td>\n",
       "      <td>NaN</td>\n",
       "      <td>0</td>\n",
       "    </tr>\n",
       "    <tr>\n",
       "      <th>3</th>\n",
       "      <td>2883751252</td>\n",
       "      <td>thebarakah_</td>\n",
       "      <td>NaN</td>\n",
       "      <td>RT @valerian247: A life of ease forever &amp;amp; ...</td>\n",
       "      <td>Twitter for iPhone</td>\n",
       "      <td>None</td>\n",
       "      <td>http://twitter.com/download/iphone</td>\n",
       "      <td>None</td>\n",
       "      <td>1567423858520498176</td>\n",
       "      <td>None</td>\n",
       "      <td>en</td>\n",
       "      <td>NaN</td>\n",
       "      <td>2</td>\n",
       "      <td>NaN</td>\n",
       "      <td>1567423858520498176</td>\n",
       "      <td>NaN</td>\n",
       "      <td>0</td>\n",
       "    </tr>\n",
       "    <tr>\n",
       "      <th>4</th>\n",
       "      <td>2883751252</td>\n",
       "      <td>thebarakah_</td>\n",
       "      <td>NaN</td>\n",
       "      <td>Ordinary torch light? Lakuli https://t.co/GOe4...</td>\n",
       "      <td>Twitter for iPhone</td>\n",
       "      <td>None</td>\n",
       "      <td>http://twitter.com/download/iphone</td>\n",
       "      <td>None</td>\n",
       "      <td>1567423800819449857</td>\n",
       "      <td>None</td>\n",
       "      <td>en</td>\n",
       "      <td>NaN</td>\n",
       "      <td>0</td>\n",
       "      <td>1567291742654812166</td>\n",
       "      <td>1567423800819449857</td>\n",
       "      <td>1567291742654812166</td>\n",
       "      <td>0</td>\n",
       "    </tr>\n",
       "  </tbody>\n",
       "</table>\n",
       "</div>"
      ],
      "text/plain": [
       "               tweeter       author  in_reply_to_user_id  \\\n",
       "0  1207620026251038720     dav_zoid         1.153677e+18   \n",
       "1            204132871       imanie                  NaN   \n",
       "2   814189493867540481     yinkakun                  NaN   \n",
       "3           2883751252  thebarakah_                  NaN   \n",
       "4           2883751252  thebarakah_                  NaN   \n",
       "\n",
       "                                                text               source  \\\n",
       "0                                    @tasleemm_ Yes!  Twitter for Android   \n",
       "1  RT @Nubianizm: No one:\\nRica: *smiles awkwardl...   Twitter for iPhone   \n",
       "2  RT @iamdillion: Read my latest: “[DMWN #48] 5 ...   Twitter for iPhone   \n",
       "3  RT @valerian247: A life of ease forever &amp; ...   Twitter for iPhone   \n",
       "4  Ordinary torch light? Lakuli https://t.co/GOe4...   Twitter for iPhone   \n",
       "\n",
       "  in_reply_to_status_id_str                           source_url  \\\n",
       "0       1567252563874963456  http://twitter.com/download/android   \n",
       "1                      None   http://twitter.com/download/iphone   \n",
       "2                      None   http://twitter.com/download/iphone   \n",
       "3                      None   http://twitter.com/download/iphone   \n",
       "4                      None   http://twitter.com/download/iphone   \n",
       "\n",
       "  in_reply_to_user_id_str               id_str in_reply_to_screen_name lang  \\\n",
       "0     1153676762552963072  1567424715479711745               tasleemm_  und   \n",
       "1                    None  1567424703953764354                    None   en   \n",
       "2                    None  1567424387594309632                    None   en   \n",
       "3                    None  1567423858520498176                    None   en   \n",
       "4                    None  1567423800819449857                    None   en   \n",
       "\n",
       "   in_reply_to_status_id  retweet_count quoted_status_id_str  \\\n",
       "0           1.567253e+18              0                  NaN   \n",
       "1                    NaN              7                  NaN   \n",
       "2                    NaN              2                  NaN   \n",
       "3                    NaN              2                  NaN   \n",
       "4                    NaN              0  1567291742654812166   \n",
       "\n",
       "                    id     quoted_status_id  favorite_count  \n",
       "0  1567424715479711745                  NaN               0  \n",
       "1  1567424703953764354                  NaN               0  \n",
       "2  1567424387594309632                  NaN               0  \n",
       "3  1567423858520498176                  NaN               0  \n",
       "4  1567423800819449857  1567291742654812166               0  "
      ]
     },
     "execution_count": 30,
     "metadata": {},
     "output_type": "execute_result"
    }
   ],
   "source": [
    "df = pd.DataFrame(tweets_data, columns=header_cols)\n",
    "df.head()"
   ]
  },
  {
   "cell_type": "code",
   "execution_count": 31,
   "id": "1dc31602",
   "metadata": {},
   "outputs": [],
   "source": [
    "def extract_timeline_as_df(timeline_list):\n",
    "    columns = set()\n",
    "    allowed_types = [int, str]\n",
    "    tweets_data = []\n",
    "    # columns.add('Tweeter')\n",
    "    for status in timeline_list:\n",
    "    #     print(dict(vars(status)), \"\\n \\n\")\n",
    "        status_dict = dict(vars(status))\n",
    "    #     print(vars(status).keys(), \"\\n \\n\")\n",
    "#         print(status.user.screen_name)\n",
    "        keys = status_dict.keys()\n",
    "        single_tweet_data = {}\n",
    "        for k in keys:\n",
    "            if type(status_dict[k]) in allowed_types:\n",
    "                columns.add(k)\n",
    "\n",
    "    header_cols = list(columns)\n",
    "    header_cols = ['tweeter', 'author'] + header_cols\n",
    "    for status in timeline_list:\n",
    "        status_dict = dict(vars(status))\n",
    "        single_tweet_data = {'tweeter': status.user.id_str, 'author': status.author.screen_name}\n",
    "    #     single_tweet_data['Tweeter'] = status.user.screen_name\n",
    "        for h in header_cols[2::]:\n",
    "            try:\n",
    "                single_tweet_data[h] = status_dict[h]\n",
    "            except:\n",
    "                single_tweet_data[h] = \"NaN\"\n",
    "    #     print(single_tweet_data)\n",
    "        tweets_data.append(single_tweet_data)\n",
    "\n",
    "    tweets_data_list = [[j for j in x.values()] for x in tweets_data]\n",
    "    df = pd.DataFrame(tweets_data, columns=header_cols)\n",
    "    return df"
   ]
  },
  {
   "cell_type": "code",
   "execution_count": 32,
   "id": "c2693a98",
   "metadata": {},
   "outputs": [
    {
     "data": {
      "text/html": [
       "<div>\n",
       "<style scoped>\n",
       "    .dataframe tbody tr th:only-of-type {\n",
       "        vertical-align: middle;\n",
       "    }\n",
       "\n",
       "    .dataframe tbody tr th {\n",
       "        vertical-align: top;\n",
       "    }\n",
       "\n",
       "    .dataframe thead th {\n",
       "        text-align: right;\n",
       "    }\n",
       "</style>\n",
       "<table border=\"1\" class=\"dataframe\">\n",
       "  <thead>\n",
       "    <tr style=\"text-align: right;\">\n",
       "      <th></th>\n",
       "      <th>tweeter</th>\n",
       "      <th>author</th>\n",
       "      <th>in_reply_to_user_id</th>\n",
       "      <th>text</th>\n",
       "      <th>source</th>\n",
       "      <th>in_reply_to_status_id_str</th>\n",
       "      <th>source_url</th>\n",
       "      <th>in_reply_to_user_id_str</th>\n",
       "      <th>id_str</th>\n",
       "      <th>in_reply_to_screen_name</th>\n",
       "      <th>lang</th>\n",
       "      <th>in_reply_to_status_id</th>\n",
       "      <th>retweet_count</th>\n",
       "      <th>quoted_status_id_str</th>\n",
       "      <th>id</th>\n",
       "      <th>quoted_status_id</th>\n",
       "      <th>favorite_count</th>\n",
       "    </tr>\n",
       "  </thead>\n",
       "  <tbody>\n",
       "    <tr>\n",
       "      <th>0</th>\n",
       "      <td>204132871</td>\n",
       "      <td>imanie</td>\n",
       "      <td>NaN</td>\n",
       "      <td>RT @Nubianizm: No one:\\nRica: *smiles awkwardl...</td>\n",
       "      <td>Twitter for iPhone</td>\n",
       "      <td>None</td>\n",
       "      <td>http://twitter.com/download/iphone</td>\n",
       "      <td>None</td>\n",
       "      <td>1567424703953764354</td>\n",
       "      <td>None</td>\n",
       "      <td>en</td>\n",
       "      <td>NaN</td>\n",
       "      <td>7</td>\n",
       "      <td>NaN</td>\n",
       "      <td>1567424703953764354</td>\n",
       "      <td>NaN</td>\n",
       "      <td>0</td>\n",
       "    </tr>\n",
       "    <tr>\n",
       "      <th>1</th>\n",
       "      <td>204132871</td>\n",
       "      <td>imanie</td>\n",
       "      <td>NaN</td>\n",
       "      <td>RT @Abigail__Israel: So, for your protection, ...</td>\n",
       "      <td>Twitter for iPhone</td>\n",
       "      <td>None</td>\n",
       "      <td>http://twitter.com/download/iphone</td>\n",
       "      <td>None</td>\n",
       "      <td>1567397056192417792</td>\n",
       "      <td>None</td>\n",
       "      <td>en</td>\n",
       "      <td>NaN</td>\n",
       "      <td>42</td>\n",
       "      <td>NaN</td>\n",
       "      <td>1567397056192417792</td>\n",
       "      <td>NaN</td>\n",
       "      <td>0</td>\n",
       "    </tr>\n",
       "    <tr>\n",
       "      <th>2</th>\n",
       "      <td>204132871</td>\n",
       "      <td>imanie</td>\n",
       "      <td>NaN</td>\n",
       "      <td>RT @queencuratorr: What he doing man??? https:...</td>\n",
       "      <td>Twitter for iPhone</td>\n",
       "      <td>None</td>\n",
       "      <td>http://twitter.com/download/iphone</td>\n",
       "      <td>None</td>\n",
       "      <td>1567396684652494849</td>\n",
       "      <td>None</td>\n",
       "      <td>en</td>\n",
       "      <td>NaN</td>\n",
       "      <td>26</td>\n",
       "      <td>NaN</td>\n",
       "      <td>1567396684652494849</td>\n",
       "      <td>NaN</td>\n",
       "      <td>0</td>\n",
       "    </tr>\n",
       "    <tr>\n",
       "      <th>3</th>\n",
       "      <td>204132871</td>\n",
       "      <td>imanie</td>\n",
       "      <td>NaN</td>\n",
       "      <td>RT @westsiriss: vanity fair is messy as hell 😭...</td>\n",
       "      <td>Twitter for iPhone</td>\n",
       "      <td>None</td>\n",
       "      <td>http://twitter.com/download/iphone</td>\n",
       "      <td>None</td>\n",
       "      <td>1567396514900623360</td>\n",
       "      <td>None</td>\n",
       "      <td>en</td>\n",
       "      <td>NaN</td>\n",
       "      <td>3239</td>\n",
       "      <td>NaN</td>\n",
       "      <td>1567396514900623360</td>\n",
       "      <td>NaN</td>\n",
       "      <td>0</td>\n",
       "    </tr>\n",
       "    <tr>\n",
       "      <th>4</th>\n",
       "      <td>204132871</td>\n",
       "      <td>imanie</td>\n",
       "      <td>NaN</td>\n",
       "      <td>RT @iramadisonthree: \"here’s a picture of my d...</td>\n",
       "      <td>Twitter for iPhone</td>\n",
       "      <td>None</td>\n",
       "      <td>http://twitter.com/download/iphone</td>\n",
       "      <td>None</td>\n",
       "      <td>1567391580683632645</td>\n",
       "      <td>None</td>\n",
       "      <td>en</td>\n",
       "      <td>NaN</td>\n",
       "      <td>4502</td>\n",
       "      <td>NaN</td>\n",
       "      <td>1567391580683632645</td>\n",
       "      <td>NaN</td>\n",
       "      <td>0</td>\n",
       "    </tr>\n",
       "  </tbody>\n",
       "</table>\n",
       "</div>"
      ],
      "text/plain": [
       "     tweeter  author  in_reply_to_user_id  \\\n",
       "0  204132871  imanie                  NaN   \n",
       "1  204132871  imanie                  NaN   \n",
       "2  204132871  imanie                  NaN   \n",
       "3  204132871  imanie                  NaN   \n",
       "4  204132871  imanie                  NaN   \n",
       "\n",
       "                                                text              source  \\\n",
       "0  RT @Nubianizm: No one:\\nRica: *smiles awkwardl...  Twitter for iPhone   \n",
       "1  RT @Abigail__Israel: So, for your protection, ...  Twitter for iPhone   \n",
       "2  RT @queencuratorr: What he doing man??? https:...  Twitter for iPhone   \n",
       "3  RT @westsiriss: vanity fair is messy as hell 😭...  Twitter for iPhone   \n",
       "4  RT @iramadisonthree: \"here’s a picture of my d...  Twitter for iPhone   \n",
       "\n",
       "  in_reply_to_status_id_str                          source_url  \\\n",
       "0                      None  http://twitter.com/download/iphone   \n",
       "1                      None  http://twitter.com/download/iphone   \n",
       "2                      None  http://twitter.com/download/iphone   \n",
       "3                      None  http://twitter.com/download/iphone   \n",
       "4                      None  http://twitter.com/download/iphone   \n",
       "\n",
       "  in_reply_to_user_id_str               id_str in_reply_to_screen_name lang  \\\n",
       "0                    None  1567424703953764354                    None   en   \n",
       "1                    None  1567397056192417792                    None   en   \n",
       "2                    None  1567396684652494849                    None   en   \n",
       "3                    None  1567396514900623360                    None   en   \n",
       "4                    None  1567391580683632645                    None   en   \n",
       "\n",
       "   in_reply_to_status_id  retweet_count quoted_status_id_str  \\\n",
       "0                    NaN              7                  NaN   \n",
       "1                    NaN             42                  NaN   \n",
       "2                    NaN             26                  NaN   \n",
       "3                    NaN           3239                  NaN   \n",
       "4                    NaN           4502                  NaN   \n",
       "\n",
       "                    id quoted_status_id  favorite_count  \n",
       "0  1567424703953764354              NaN               0  \n",
       "1  1567397056192417792              NaN               0  \n",
       "2  1567396684652494849              NaN               0  \n",
       "3  1567396514900623360              NaN               0  \n",
       "4  1567391580683632645              NaN               0  "
      ]
     },
     "execution_count": 32,
     "metadata": {},
     "output_type": "execute_result"
    }
   ],
   "source": [
    "imanie = api.get_user(screen_name=\"imanie\")\n",
    "imanie_timeline = imanie.timeline()\n",
    "df1 = extract_timeline_as_df(imanie_timeline)\n",
    "df1.head()"
   ]
  },
  {
   "cell_type": "code",
   "execution_count": 34,
   "id": "21acfdd3",
   "metadata": {},
   "outputs": [],
   "source": [
    "SSport = api.get_user(screen_name=\"SuperSportTV\")"
   ]
  },
  {
   "cell_type": "code",
   "execution_count": 39,
   "id": "f9fadc35",
   "metadata": {},
   "outputs": [],
   "source": [
    "SSport_tl = SSport.timeline()"
   ]
  },
  {
   "cell_type": "markdown",
   "id": "eb3a08a9",
   "metadata": {},
   "source": [
    "df2 = extract_timeline_as_df(SSport_tl)\n",
    "df2.head()"
   ]
  },
  {
   "cell_type": "code",
   "execution_count": 40,
   "id": "7a0da22b",
   "metadata": {},
   "outputs": [
    {
     "data": {
      "text/html": [
       "<div>\n",
       "<style scoped>\n",
       "    .dataframe tbody tr th:only-of-type {\n",
       "        vertical-align: middle;\n",
       "    }\n",
       "\n",
       "    .dataframe tbody tr th {\n",
       "        vertical-align: top;\n",
       "    }\n",
       "\n",
       "    .dataframe thead th {\n",
       "        text-align: right;\n",
       "    }\n",
       "</style>\n",
       "<table border=\"1\" class=\"dataframe\">\n",
       "  <thead>\n",
       "    <tr style=\"text-align: right;\">\n",
       "      <th></th>\n",
       "      <th>tweeter</th>\n",
       "      <th>author</th>\n",
       "      <th>text</th>\n",
       "      <th>source</th>\n",
       "      <th>source_url</th>\n",
       "      <th>id_str</th>\n",
       "      <th>lang</th>\n",
       "      <th>retweet_count</th>\n",
       "      <th>id</th>\n",
       "      <th>favorite_count</th>\n",
       "    </tr>\n",
       "  </thead>\n",
       "  <tbody>\n",
       "    <tr>\n",
       "      <th>0</th>\n",
       "      <td>29930178</td>\n",
       "      <td>SuperSportTV</td>\n",
       "      <td>We've listed every single African footballer w...</td>\n",
       "      <td>Twitter for Advertisers</td>\n",
       "      <td>https://twitter.com</td>\n",
       "      <td>1567422429298819073</td>\n",
       "      <td>en</td>\n",
       "      <td>3</td>\n",
       "      <td>1567422429298819073</td>\n",
       "      <td>33</td>\n",
       "    </tr>\n",
       "    <tr>\n",
       "      <th>1</th>\n",
       "      <td>29930178</td>\n",
       "      <td>SuperSportTV</td>\n",
       "      <td>📞 \"My country called and I had to answer.”\\n\\n...</td>\n",
       "      <td>Twitter for Advertisers</td>\n",
       "      <td>https://twitter.com</td>\n",
       "      <td>1567407449069461505</td>\n",
       "      <td>en</td>\n",
       "      <td>3</td>\n",
       "      <td>1567407449069461505</td>\n",
       "      <td>45</td>\n",
       "    </tr>\n",
       "    <tr>\n",
       "      <th>2</th>\n",
       "      <td>29930178</td>\n",
       "      <td>SuperSportTV</td>\n",
       "      <td>🇹🇳 Tunisia's Ons Jabeur became the first Afric...</td>\n",
       "      <td>Twitter for Advertisers</td>\n",
       "      <td>https://twitter.com</td>\n",
       "      <td>1567392346190249987</td>\n",
       "      <td>en</td>\n",
       "      <td>20</td>\n",
       "      <td>1567392346190249987</td>\n",
       "      <td>120</td>\n",
       "    </tr>\n",
       "    <tr>\n",
       "      <th>3</th>\n",
       "      <td>29930178</td>\n",
       "      <td>SuperSportTV</td>\n",
       "      <td>👻 Casper Ruud reached his second major semifin...</td>\n",
       "      <td>Twitter for Advertisers</td>\n",
       "      <td>https://twitter.com</td>\n",
       "      <td>1567388568670068737</td>\n",
       "      <td>en</td>\n",
       "      <td>5</td>\n",
       "      <td>1567388568670068737</td>\n",
       "      <td>35</td>\n",
       "    </tr>\n",
       "    <tr>\n",
       "      <th>4</th>\n",
       "      <td>29930178</td>\n",
       "      <td>SuperSportTV</td>\n",
       "      <td>🗣️ \"First away game is important, you have to ...</td>\n",
       "      <td>Twitter for Advertisers</td>\n",
       "      <td>https://twitter.com</td>\n",
       "      <td>1567259216406085634</td>\n",
       "      <td>en</td>\n",
       "      <td>27</td>\n",
       "      <td>1567259216406085634</td>\n",
       "      <td>294</td>\n",
       "    </tr>\n",
       "  </tbody>\n",
       "</table>\n",
       "</div>"
      ],
      "text/plain": [
       "    tweeter        author                                               text  \\\n",
       "0  29930178  SuperSportTV  We've listed every single African footballer w...   \n",
       "1  29930178  SuperSportTV  📞 \"My country called and I had to answer.”\\n\\n...   \n",
       "2  29930178  SuperSportTV  🇹🇳 Tunisia's Ons Jabeur became the first Afric...   \n",
       "3  29930178  SuperSportTV  👻 Casper Ruud reached his second major semifin...   \n",
       "4  29930178  SuperSportTV  🗣️ \"First away game is important, you have to ...   \n",
       "\n",
       "                    source           source_url               id_str lang  \\\n",
       "0  Twitter for Advertisers  https://twitter.com  1567422429298819073   en   \n",
       "1  Twitter for Advertisers  https://twitter.com  1567407449069461505   en   \n",
       "2  Twitter for Advertisers  https://twitter.com  1567392346190249987   en   \n",
       "3  Twitter for Advertisers  https://twitter.com  1567388568670068737   en   \n",
       "4  Twitter for Advertisers  https://twitter.com  1567259216406085634   en   \n",
       "\n",
       "   retweet_count                   id  favorite_count  \n",
       "0              3  1567422429298819073              33  \n",
       "1              3  1567407449069461505              45  \n",
       "2             20  1567392346190249987             120  \n",
       "3              5  1567388568670068737              35  \n",
       "4             27  1567259216406085634             294  "
      ]
     },
     "execution_count": 40,
     "metadata": {},
     "output_type": "execute_result"
    }
   ],
   "source": [
    "df2 = extract_timeline_as_df(SSport_tl)\n",
    "df2.head()"
   ]
  },
  {
   "cell_type": "code",
   "execution_count": 41,
   "id": "ed0c5f1a",
   "metadata": {},
   "outputs": [],
   "source": [
    "status_obj = api.get_status(\"1567422429298819073\")"
   ]
  },
  {
   "cell_type": "code",
   "execution_count": 42,
   "id": "26bb3ea3",
   "metadata": {},
   "outputs": [
    {
     "data": {
      "text/plain": [
       "\"We've listed every single African footballer who will be in action in the Champions League this season. \\n\\nWho will… https://t.co/CVICKCRXt0\""
      ]
     },
     "execution_count": 42,
     "metadata": {},
     "output_type": "execute_result"
    }
   ],
   "source": [
    "status_obj.text"
   ]
  },
  {
   "cell_type": "code",
   "execution_count": 52,
   "id": "d0f2aba1",
   "metadata": {},
   "outputs": [
    {
     "name": "stdout",
     "output_type": "stream",
     "text": [
      "1567259216406085634\n",
      "https://twitter.com/SuperSportTV/status/1567259216406085634\n"
     ]
    }
   ],
   "source": [
    "status_tl = SSport_tl[4]\n",
    "print(status_tl.id)\n",
    "print(f\"{status_tl.source_url}/{status_tl.user.screen_name}/status/{status_tl.id}\")"
   ]
  },
  {
   "cell_type": "code",
   "execution_count": 53,
   "id": "602a76c4",
   "metadata": {},
   "outputs": [
    {
     "data": {
      "text/plain": [
       "Status(_api=<tweepy.api.API object at 0x000001D5298F71C0>, _json={'created_at': 'Wed Sep 07 08:56:03 +0000 2022', 'id': 1567436522466459649, 'id_str': '1567436522466459649', 'text': 'RT @SuperSportTV: 🗣️ \"First away game is important, you have to set the tone!\"\\n\\nKevin de Bruyne and Manuel Akanji react to Man City\\'s #UCL…', 'truncated': False, 'entities': {'hashtags': [{'text': 'UCL', 'indices': [134, 138]}], 'symbols': [], 'user_mentions': [{'screen_name': 'SuperSportTV', 'name': 'SuperSport 🏆', 'id': 29930178, 'id_str': '29930178', 'indices': [3, 16]}], 'urls': []}, 'source': '<a href=\"https://github.com/TaslimOwolarafe\" rel=\"nofollow\">TweetBotCatcher</a>', 'in_reply_to_status_id': None, 'in_reply_to_status_id_str': None, 'in_reply_to_user_id': None, 'in_reply_to_user_id_str': None, 'in_reply_to_screen_name': None, 'user': {'id': 1153676762552963072, 'id_str': '1153676762552963072', 'name': 'tas-sama', 'screen_name': 'tasleemm_', 'location': '7.5629° N, 4.5200° E', 'description': 'Nothing to see here yet..', 'url': 'https://t.co/sg7UjOGJt4', 'entities': {'url': {'urls': [{'url': 'https://t.co/sg7UjOGJt4', 'expanded_url': 'https://github.com/TaslimOwolarafe', 'display_url': 'github.com/TaslimOwolarafe', 'indices': [0, 23]}]}, 'description': {'urls': []}}, 'protected': True, 'followers_count': 467, 'friends_count': 440, 'listed_count': 0, 'created_at': 'Tue Jul 23 14:42:29 +0000 2019', 'favourites_count': 10499, 'utc_offset': None, 'time_zone': None, 'geo_enabled': True, 'verified': False, 'statuses_count': 2545, 'lang': None, 'contributors_enabled': False, 'is_translator': False, 'is_translation_enabled': False, 'profile_background_color': 'F5F8FA', 'profile_background_image_url': None, 'profile_background_image_url_https': None, 'profile_background_tile': False, 'profile_image_url': 'http://pbs.twimg.com/profile_images/1490304022678491140/sUhnDBxH_normal.jpg', 'profile_image_url_https': 'https://pbs.twimg.com/profile_images/1490304022678491140/sUhnDBxH_normal.jpg', 'profile_banner_url': 'https://pbs.twimg.com/profile_banners/1153676762552963072/1612275236', 'profile_link_color': '1DA1F2', 'profile_sidebar_border_color': 'C0DEED', 'profile_sidebar_fill_color': 'DDEEF6', 'profile_text_color': '333333', 'profile_use_background_image': True, 'has_extended_profile': True, 'default_profile': True, 'default_profile_image': False, 'following': False, 'follow_request_sent': False, 'notifications': False, 'translator_type': 'none', 'withheld_in_countries': []}, 'geo': None, 'coordinates': None, 'place': None, 'contributors': None, 'retweeted_status': {'created_at': 'Tue Sep 06 21:11:30 +0000 2022', 'id': 1567259216406085634, 'id_str': '1567259216406085634', 'text': '🗣️ \"First away game is important, you have to set the tone!\"\\n\\nKevin de Bruyne and Manuel Akanji react to Man City\\'s #UCL win tonight.', 'truncated': False, 'entities': {'hashtags': [{'text': 'UCL', 'indices': [116, 120]}], 'symbols': [], 'user_mentions': [], 'urls': []}, 'source': '<a href=\"https://twitter.com\" rel=\"nofollow\">Twitter for Advertisers</a>', 'in_reply_to_status_id': None, 'in_reply_to_status_id_str': None, 'in_reply_to_user_id': None, 'in_reply_to_user_id_str': None, 'in_reply_to_screen_name': None, 'user': {'id': 29930178, 'id_str': '29930178', 'name': 'SuperSport 🏆', 'screen_name': 'SuperSportTV', 'location': 'Africa', 'description': 'Join your World of Champions for all the latest sports news & updates', 'url': 'https://t.co/c5kSsvASy3', 'entities': {'url': {'urls': [{'url': 'https://t.co/c5kSsvASy3', 'expanded_url': 'http://www.supersport.com', 'display_url': 'supersport.com', 'indices': [0, 23]}]}, 'description': {'urls': []}}, 'protected': False, 'followers_count': 3112260, 'friends_count': 601, 'listed_count': 3548, 'created_at': 'Thu Apr 09 05:33:58 +0000 2009', 'favourites_count': 1932, 'utc_offset': None, 'time_zone': None, 'geo_enabled': True, 'verified': True, 'statuses_count': 338730, 'lang': None, 'contributors_enabled': False, 'is_translator': False, 'is_translation_enabled': False, 'profile_background_color': '000000', 'profile_background_image_url': 'http://abs.twimg.com/images/themes/theme4/bg.gif', 'profile_background_image_url_https': 'https://abs.twimg.com/images/themes/theme4/bg.gif', 'profile_background_tile': False, 'profile_image_url': 'http://pbs.twimg.com/profile_images/709394411168407552/p_5OEYc0_normal.jpg', 'profile_image_url_https': 'https://pbs.twimg.com/profile_images/709394411168407552/p_5OEYc0_normal.jpg', 'profile_banner_url': 'https://pbs.twimg.com/profile_banners/29930178/1659966693', 'profile_link_color': '0A1667', 'profile_sidebar_border_color': 'FFFFFF', 'profile_sidebar_fill_color': 'E9FBFB', 'profile_text_color': 'F91A28', 'profile_use_background_image': True, 'has_extended_profile': False, 'default_profile': False, 'default_profile_image': False, 'following': True, 'follow_request_sent': False, 'notifications': False, 'translator_type': 'none', 'withheld_in_countries': []}, 'geo': None, 'coordinates': None, 'place': None, 'contributors': None, 'is_quote_status': False, 'retweet_count': 28, 'favorite_count': 295, 'favorited': False, 'retweeted': True, 'lang': 'en'}, 'is_quote_status': False, 'retweet_count': 28, 'favorite_count': 0, 'favorited': False, 'retweeted': True, 'lang': 'en'}, created_at=datetime.datetime(2022, 9, 7, 8, 56, 3, tzinfo=datetime.timezone.utc), id=1567436522466459649, id_str='1567436522466459649', text='RT @SuperSportTV: 🗣️ \"First away game is important, you have to set the tone!\"\\n\\nKevin de Bruyne and Manuel Akanji react to Man City\\'s #UCL…', truncated=False, entities={'hashtags': [{'text': 'UCL', 'indices': [134, 138]}], 'symbols': [], 'user_mentions': [{'screen_name': 'SuperSportTV', 'name': 'SuperSport 🏆', 'id': 29930178, 'id_str': '29930178', 'indices': [3, 16]}], 'urls': []}, source='TweetBotCatcher', source_url='https://github.com/TaslimOwolarafe', in_reply_to_status_id=None, in_reply_to_status_id_str=None, in_reply_to_user_id=None, in_reply_to_user_id_str=None, in_reply_to_screen_name=None, author=User(_api=<tweepy.api.API object at 0x000001D5298F71C0>, _json={'id': 1153676762552963072, 'id_str': '1153676762552963072', 'name': 'tas-sama', 'screen_name': 'tasleemm_', 'location': '7.5629° N, 4.5200° E', 'description': 'Nothing to see here yet..', 'url': 'https://t.co/sg7UjOGJt4', 'entities': {'url': {'urls': [{'url': 'https://t.co/sg7UjOGJt4', 'expanded_url': 'https://github.com/TaslimOwolarafe', 'display_url': 'github.com/TaslimOwolarafe', 'indices': [0, 23]}]}, 'description': {'urls': []}}, 'protected': True, 'followers_count': 467, 'friends_count': 440, 'listed_count': 0, 'created_at': 'Tue Jul 23 14:42:29 +0000 2019', 'favourites_count': 10499, 'utc_offset': None, 'time_zone': None, 'geo_enabled': True, 'verified': False, 'statuses_count': 2545, 'lang': None, 'contributors_enabled': False, 'is_translator': False, 'is_translation_enabled': False, 'profile_background_color': 'F5F8FA', 'profile_background_image_url': None, 'profile_background_image_url_https': None, 'profile_background_tile': False, 'profile_image_url': 'http://pbs.twimg.com/profile_images/1490304022678491140/sUhnDBxH_normal.jpg', 'profile_image_url_https': 'https://pbs.twimg.com/profile_images/1490304022678491140/sUhnDBxH_normal.jpg', 'profile_banner_url': 'https://pbs.twimg.com/profile_banners/1153676762552963072/1612275236', 'profile_link_color': '1DA1F2', 'profile_sidebar_border_color': 'C0DEED', 'profile_sidebar_fill_color': 'DDEEF6', 'profile_text_color': '333333', 'profile_use_background_image': True, 'has_extended_profile': True, 'default_profile': True, 'default_profile_image': False, 'following': False, 'follow_request_sent': False, 'notifications': False, 'translator_type': 'none', 'withheld_in_countries': []}, id=1153676762552963072, id_str='1153676762552963072', name='tas-sama', screen_name='tasleemm_', location='7.5629° N, 4.5200° E', description='Nothing to see here yet..', url='https://t.co/sg7UjOGJt4', entities={'url': {'urls': [{'url': 'https://t.co/sg7UjOGJt4', 'expanded_url': 'https://github.com/TaslimOwolarafe', 'display_url': 'github.com/TaslimOwolarafe', 'indices': [0, 23]}]}, 'description': {'urls': []}}, protected=True, followers_count=467, friends_count=440, listed_count=0, created_at=datetime.datetime(2019, 7, 23, 14, 42, 29, tzinfo=datetime.timezone.utc), favourites_count=10499, utc_offset=None, time_zone=None, geo_enabled=True, verified=False, statuses_count=2545, lang=None, contributors_enabled=False, is_translator=False, is_translation_enabled=False, profile_background_color='F5F8FA', profile_background_image_url=None, profile_background_image_url_https=None, profile_background_tile=False, profile_image_url='http://pbs.twimg.com/profile_images/1490304022678491140/sUhnDBxH_normal.jpg', profile_image_url_https='https://pbs.twimg.com/profile_images/1490304022678491140/sUhnDBxH_normal.jpg', profile_banner_url='https://pbs.twimg.com/profile_banners/1153676762552963072/1612275236', profile_link_color='1DA1F2', profile_sidebar_border_color='C0DEED', profile_sidebar_fill_color='DDEEF6', profile_text_color='333333', profile_use_background_image=True, has_extended_profile=True, default_profile=True, default_profile_image=False, following=False, follow_request_sent=False, notifications=False, translator_type='none', withheld_in_countries=[]), user=User(_api=<tweepy.api.API object at 0x000001D5298F71C0>, _json={'id': 1153676762552963072, 'id_str': '1153676762552963072', 'name': 'tas-sama', 'screen_name': 'tasleemm_', 'location': '7.5629° N, 4.5200° E', 'description': 'Nothing to see here yet..', 'url': 'https://t.co/sg7UjOGJt4', 'entities': {'url': {'urls': [{'url': 'https://t.co/sg7UjOGJt4', 'expanded_url': 'https://github.com/TaslimOwolarafe', 'display_url': 'github.com/TaslimOwolarafe', 'indices': [0, 23]}]}, 'description': {'urls': []}}, 'protected': True, 'followers_count': 467, 'friends_count': 440, 'listed_count': 0, 'created_at': 'Tue Jul 23 14:42:29 +0000 2019', 'favourites_count': 10499, 'utc_offset': None, 'time_zone': None, 'geo_enabled': True, 'verified': False, 'statuses_count': 2545, 'lang': None, 'contributors_enabled': False, 'is_translator': False, 'is_translation_enabled': False, 'profile_background_color': 'F5F8FA', 'profile_background_image_url': None, 'profile_background_image_url_https': None, 'profile_background_tile': False, 'profile_image_url': 'http://pbs.twimg.com/profile_images/1490304022678491140/sUhnDBxH_normal.jpg', 'profile_image_url_https': 'https://pbs.twimg.com/profile_images/1490304022678491140/sUhnDBxH_normal.jpg', 'profile_banner_url': 'https://pbs.twimg.com/profile_banners/1153676762552963072/1612275236', 'profile_link_color': '1DA1F2', 'profile_sidebar_border_color': 'C0DEED', 'profile_sidebar_fill_color': 'DDEEF6', 'profile_text_color': '333333', 'profile_use_background_image': True, 'has_extended_profile': True, 'default_profile': True, 'default_profile_image': False, 'following': False, 'follow_request_sent': False, 'notifications': False, 'translator_type': 'none', 'withheld_in_countries': []}, id=1153676762552963072, id_str='1153676762552963072', name='tas-sama', screen_name='tasleemm_', location='7.5629° N, 4.5200° E', description='Nothing to see here yet..', url='https://t.co/sg7UjOGJt4', entities={'url': {'urls': [{'url': 'https://t.co/sg7UjOGJt4', 'expanded_url': 'https://github.com/TaslimOwolarafe', 'display_url': 'github.com/TaslimOwolarafe', 'indices': [0, 23]}]}, 'description': {'urls': []}}, protected=True, followers_count=467, friends_count=440, listed_count=0, created_at=datetime.datetime(2019, 7, 23, 14, 42, 29, tzinfo=datetime.timezone.utc), favourites_count=10499, utc_offset=None, time_zone=None, geo_enabled=True, verified=False, statuses_count=2545, lang=None, contributors_enabled=False, is_translator=False, is_translation_enabled=False, profile_background_color='F5F8FA', profile_background_image_url=None, profile_background_image_url_https=None, profile_background_tile=False, profile_image_url='http://pbs.twimg.com/profile_images/1490304022678491140/sUhnDBxH_normal.jpg', profile_image_url_https='https://pbs.twimg.com/profile_images/1490304022678491140/sUhnDBxH_normal.jpg', profile_banner_url='https://pbs.twimg.com/profile_banners/1153676762552963072/1612275236', profile_link_color='1DA1F2', profile_sidebar_border_color='C0DEED', profile_sidebar_fill_color='DDEEF6', profile_text_color='333333', profile_use_background_image=True, has_extended_profile=True, default_profile=True, default_profile_image=False, following=False, follow_request_sent=False, notifications=False, translator_type='none', withheld_in_countries=[]), geo=None, coordinates=None, place=None, contributors=None, retweeted_status=Status(_api=<tweepy.api.API object at 0x000001D5298F71C0>, _json={'created_at': 'Tue Sep 06 21:11:30 +0000 2022', 'id': 1567259216406085634, 'id_str': '1567259216406085634', 'text': '🗣️ \"First away game is important, you have to set the tone!\"\\n\\nKevin de Bruyne and Manuel Akanji react to Man City\\'s #UCL win tonight.', 'truncated': False, 'entities': {'hashtags': [{'text': 'UCL', 'indices': [116, 120]}], 'symbols': [], 'user_mentions': [], 'urls': []}, 'source': '<a href=\"https://twitter.com\" rel=\"nofollow\">Twitter for Advertisers</a>', 'in_reply_to_status_id': None, 'in_reply_to_status_id_str': None, 'in_reply_to_user_id': None, 'in_reply_to_user_id_str': None, 'in_reply_to_screen_name': None, 'user': {'id': 29930178, 'id_str': '29930178', 'name': 'SuperSport 🏆', 'screen_name': 'SuperSportTV', 'location': 'Africa', 'description': 'Join your World of Champions for all the latest sports news & updates', 'url': 'https://t.co/c5kSsvASy3', 'entities': {'url': {'urls': [{'url': 'https://t.co/c5kSsvASy3', 'expanded_url': 'http://www.supersport.com', 'display_url': 'supersport.com', 'indices': [0, 23]}]}, 'description': {'urls': []}}, 'protected': False, 'followers_count': 3112260, 'friends_count': 601, 'listed_count': 3548, 'created_at': 'Thu Apr 09 05:33:58 +0000 2009', 'favourites_count': 1932, 'utc_offset': None, 'time_zone': None, 'geo_enabled': True, 'verified': True, 'statuses_count': 338730, 'lang': None, 'contributors_enabled': False, 'is_translator': False, 'is_translation_enabled': False, 'profile_background_color': '000000', 'profile_background_image_url': 'http://abs.twimg.com/images/themes/theme4/bg.gif', 'profile_background_image_url_https': 'https://abs.twimg.com/images/themes/theme4/bg.gif', 'profile_background_tile': False, 'profile_image_url': 'http://pbs.twimg.com/profile_images/709394411168407552/p_5OEYc0_normal.jpg', 'profile_image_url_https': 'https://pbs.twimg.com/profile_images/709394411168407552/p_5OEYc0_normal.jpg', 'profile_banner_url': 'https://pbs.twimg.com/profile_banners/29930178/1659966693', 'profile_link_color': '0A1667', 'profile_sidebar_border_color': 'FFFFFF', 'profile_sidebar_fill_color': 'E9FBFB', 'profile_text_color': 'F91A28', 'profile_use_background_image': True, 'has_extended_profile': False, 'default_profile': False, 'default_profile_image': False, 'following': True, 'follow_request_sent': False, 'notifications': False, 'translator_type': 'none', 'withheld_in_countries': []}, 'geo': None, 'coordinates': None, 'place': None, 'contributors': None, 'is_quote_status': False, 'retweet_count': 28, 'favorite_count': 295, 'favorited': False, 'retweeted': True, 'lang': 'en'}, created_at=datetime.datetime(2022, 9, 6, 21, 11, 30, tzinfo=datetime.timezone.utc), id=1567259216406085634, id_str='1567259216406085634', text='🗣️ \"First away game is important, you have to set the tone!\"\\n\\nKevin de Bruyne and Manuel Akanji react to Man City\\'s #UCL win tonight.', truncated=False, entities={'hashtags': [{'text': 'UCL', 'indices': [116, 120]}], 'symbols': [], 'user_mentions': [], 'urls': []}, source='Twitter for Advertisers', source_url='https://twitter.com', in_reply_to_status_id=None, in_reply_to_status_id_str=None, in_reply_to_user_id=None, in_reply_to_user_id_str=None, in_reply_to_screen_name=None, author=User(_api=<tweepy.api.API object at 0x000001D5298F71C0>, _json={'id': 29930178, 'id_str': '29930178', 'name': 'SuperSport 🏆', 'screen_name': 'SuperSportTV', 'location': 'Africa', 'description': 'Join your World of Champions for all the latest sports news & updates', 'url': 'https://t.co/c5kSsvASy3', 'entities': {'url': {'urls': [{'url': 'https://t.co/c5kSsvASy3', 'expanded_url': 'http://www.supersport.com', 'display_url': 'supersport.com', 'indices': [0, 23]}]}, 'description': {'urls': []}}, 'protected': False, 'followers_count': 3112260, 'friends_count': 601, 'listed_count': 3548, 'created_at': 'Thu Apr 09 05:33:58 +0000 2009', 'favourites_count': 1932, 'utc_offset': None, 'time_zone': None, 'geo_enabled': True, 'verified': True, 'statuses_count': 338730, 'lang': None, 'contributors_enabled': False, 'is_translator': False, 'is_translation_enabled': False, 'profile_background_color': '000000', 'profile_background_image_url': 'http://abs.twimg.com/images/themes/theme4/bg.gif', 'profile_background_image_url_https': 'https://abs.twimg.com/images/themes/theme4/bg.gif', 'profile_background_tile': False, 'profile_image_url': 'http://pbs.twimg.com/profile_images/709394411168407552/p_5OEYc0_normal.jpg', 'profile_image_url_https': 'https://pbs.twimg.com/profile_images/709394411168407552/p_5OEYc0_normal.jpg', 'profile_banner_url': 'https://pbs.twimg.com/profile_banners/29930178/1659966693', 'profile_link_color': '0A1667', 'profile_sidebar_border_color': 'FFFFFF', 'profile_sidebar_fill_color': 'E9FBFB', 'profile_text_color': 'F91A28', 'profile_use_background_image': True, 'has_extended_profile': False, 'default_profile': False, 'default_profile_image': False, 'following': True, 'follow_request_sent': False, 'notifications': False, 'translator_type': 'none', 'withheld_in_countries': []}, id=29930178, id_str='29930178', name='SuperSport 🏆', screen_name='SuperSportTV', location='Africa', description='Join your World of Champions for all the latest sports news & updates', url='https://t.co/c5kSsvASy3', entities={'url': {'urls': [{'url': 'https://t.co/c5kSsvASy3', 'expanded_url': 'http://www.supersport.com', 'display_url': 'supersport.com', 'indices': [0, 23]}]}, 'description': {'urls': []}}, protected=False, followers_count=3112260, friends_count=601, listed_count=3548, created_at=datetime.datetime(2009, 4, 9, 5, 33, 58, tzinfo=datetime.timezone.utc), favourites_count=1932, utc_offset=None, time_zone=None, geo_enabled=True, verified=True, statuses_count=338730, lang=None, contributors_enabled=False, is_translator=False, is_translation_enabled=False, profile_background_color='000000', profile_background_image_url='http://abs.twimg.com/images/themes/theme4/bg.gif', profile_background_image_url_https='https://abs.twimg.com/images/themes/theme4/bg.gif', profile_background_tile=False, profile_image_url='http://pbs.twimg.com/profile_images/709394411168407552/p_5OEYc0_normal.jpg', profile_image_url_https='https://pbs.twimg.com/profile_images/709394411168407552/p_5OEYc0_normal.jpg', profile_banner_url='https://pbs.twimg.com/profile_banners/29930178/1659966693', profile_link_color='0A1667', profile_sidebar_border_color='FFFFFF', profile_sidebar_fill_color='E9FBFB', profile_text_color='F91A28', profile_use_background_image=True, has_extended_profile=False, default_profile=False, default_profile_image=False, following=True, follow_request_sent=False, notifications=False, translator_type='none', withheld_in_countries=[]), user=User(_api=<tweepy.api.API object at 0x000001D5298F71C0>, _json={'id': 29930178, 'id_str': '29930178', 'name': 'SuperSport 🏆', 'screen_name': 'SuperSportTV', 'location': 'Africa', 'description': 'Join your World of Champions for all the latest sports news & updates', 'url': 'https://t.co/c5kSsvASy3', 'entities': {'url': {'urls': [{'url': 'https://t.co/c5kSsvASy3', 'expanded_url': 'http://www.supersport.com', 'display_url': 'supersport.com', 'indices': [0, 23]}]}, 'description': {'urls': []}}, 'protected': False, 'followers_count': 3112260, 'friends_count': 601, 'listed_count': 3548, 'created_at': 'Thu Apr 09 05:33:58 +0000 2009', 'favourites_count': 1932, 'utc_offset': None, 'time_zone': None, 'geo_enabled': True, 'verified': True, 'statuses_count': 338730, 'lang': None, 'contributors_enabled': False, 'is_translator': False, 'is_translation_enabled': False, 'profile_background_color': '000000', 'profile_background_image_url': 'http://abs.twimg.com/images/themes/theme4/bg.gif', 'profile_background_image_url_https': 'https://abs.twimg.com/images/themes/theme4/bg.gif', 'profile_background_tile': False, 'profile_image_url': 'http://pbs.twimg.com/profile_images/709394411168407552/p_5OEYc0_normal.jpg', 'profile_image_url_https': 'https://pbs.twimg.com/profile_images/709394411168407552/p_5OEYc0_normal.jpg', 'profile_banner_url': 'https://pbs.twimg.com/profile_banners/29930178/1659966693', 'profile_link_color': '0A1667', 'profile_sidebar_border_color': 'FFFFFF', 'profile_sidebar_fill_color': 'E9FBFB', 'profile_text_color': 'F91A28', 'profile_use_background_image': True, 'has_extended_profile': False, 'default_profile': False, 'default_profile_image': False, 'following': True, 'follow_request_sent': False, 'notifications': False, 'translator_type': 'none', 'withheld_in_countries': []}, id=29930178, id_str='29930178', name='SuperSport 🏆', screen_name='SuperSportTV', location='Africa', description='Join your World of Champions for all the latest sports news & updates', url='https://t.co/c5kSsvASy3', entities={'url': {'urls': [{'url': 'https://t.co/c5kSsvASy3', 'expanded_url': 'http://www.supersport.com', 'display_url': 'supersport.com', 'indices': [0, 23]}]}, 'description': {'urls': []}}, protected=False, followers_count=3112260, friends_count=601, listed_count=3548, created_at=datetime.datetime(2009, 4, 9, 5, 33, 58, tzinfo=datetime.timezone.utc), favourites_count=1932, utc_offset=None, time_zone=None, geo_enabled=True, verified=True, statuses_count=338730, lang=None, contributors_enabled=False, is_translator=False, is_translation_enabled=False, profile_background_color='000000', profile_background_image_url='http://abs.twimg.com/images/themes/theme4/bg.gif', profile_background_image_url_https='https://abs.twimg.com/images/themes/theme4/bg.gif', profile_background_tile=False, profile_image_url='http://pbs.twimg.com/profile_images/709394411168407552/p_5OEYc0_normal.jpg', profile_image_url_https='https://pbs.twimg.com/profile_images/709394411168407552/p_5OEYc0_normal.jpg', profile_banner_url='https://pbs.twimg.com/profile_banners/29930178/1659966693', profile_link_color='0A1667', profile_sidebar_border_color='FFFFFF', profile_sidebar_fill_color='E9FBFB', profile_text_color='F91A28', profile_use_background_image=True, has_extended_profile=False, default_profile=False, default_profile_image=False, following=True, follow_request_sent=False, notifications=False, translator_type='none', withheld_in_countries=[]), geo=None, coordinates=None, place=None, contributors=None, is_quote_status=False, retweet_count=28, favorite_count=295, favorited=False, retweeted=True, lang='en'), is_quote_status=False, retweet_count=28, favorite_count=0, favorited=False, retweeted=True, lang='en')"
      ]
     },
     "execution_count": 53,
     "metadata": {},
     "output_type": "execute_result"
    }
   ],
   "source": [
    "api.retweet(status_tl.id)"
   ]
  },
  {
   "cell_type": "code",
   "execution_count": 54,
   "id": "a2439e72",
   "metadata": {},
   "outputs": [
    {
     "data": {
      "text/plain": [
       "Status(_api=<tweepy.api.API object at 0x000001D5298F71C0>, _json={'created_at': 'Tue Sep 06 21:11:30 +0000 2022', 'id': 1567259216406085634, 'id_str': '1567259216406085634', 'text': '🗣️ \"First away game is important, you have to set the tone!\"\\n\\nKevin de Bruyne and Manuel Akanji react to Man City\\'s #UCL win tonight.', 'truncated': False, 'entities': {'hashtags': [{'text': 'UCL', 'indices': [116, 120]}], 'symbols': [], 'user_mentions': [], 'urls': []}, 'source': '<a href=\"https://twitter.com\" rel=\"nofollow\">Twitter for Advertisers</a>', 'in_reply_to_status_id': None, 'in_reply_to_status_id_str': None, 'in_reply_to_user_id': None, 'in_reply_to_user_id_str': None, 'in_reply_to_screen_name': None, 'user': {'id': 29930178, 'id_str': '29930178', 'name': 'SuperSport 🏆', 'screen_name': 'SuperSportTV', 'location': 'Africa', 'description': 'Join your World of Champions for all the latest sports news & updates', 'url': 'https://t.co/c5kSsvASy3', 'entities': {'url': {'urls': [{'url': 'https://t.co/c5kSsvASy3', 'expanded_url': 'http://www.supersport.com', 'display_url': 'supersport.com', 'indices': [0, 23]}]}, 'description': {'urls': []}}, 'protected': False, 'followers_count': 3112274, 'friends_count': 601, 'listed_count': 3548, 'created_at': 'Thu Apr 09 05:33:58 +0000 2009', 'favourites_count': 1932, 'utc_offset': None, 'time_zone': None, 'geo_enabled': True, 'verified': True, 'statuses_count': 338730, 'lang': None, 'contributors_enabled': False, 'is_translator': False, 'is_translation_enabled': False, 'profile_background_color': '000000', 'profile_background_image_url': 'http://abs.twimg.com/images/themes/theme4/bg.gif', 'profile_background_image_url_https': 'https://abs.twimg.com/images/themes/theme4/bg.gif', 'profile_background_tile': False, 'profile_image_url': 'http://pbs.twimg.com/profile_images/709394411168407552/p_5OEYc0_normal.jpg', 'profile_image_url_https': 'https://pbs.twimg.com/profile_images/709394411168407552/p_5OEYc0_normal.jpg', 'profile_banner_url': 'https://pbs.twimg.com/profile_banners/29930178/1659966693', 'profile_link_color': '0A1667', 'profile_sidebar_border_color': 'FFFFFF', 'profile_sidebar_fill_color': 'E9FBFB', 'profile_text_color': 'F91A28', 'profile_use_background_image': True, 'has_extended_profile': False, 'default_profile': False, 'default_profile_image': False, 'following': True, 'follow_request_sent': False, 'notifications': False, 'translator_type': 'none', 'withheld_in_countries': []}, 'geo': None, 'coordinates': None, 'place': None, 'contributors': None, 'is_quote_status': False, 'retweet_count': 28, 'favorite_count': 296, 'favorited': True, 'retweeted': True, 'lang': 'en'}, created_at=datetime.datetime(2022, 9, 6, 21, 11, 30, tzinfo=datetime.timezone.utc), id=1567259216406085634, id_str='1567259216406085634', text='🗣️ \"First away game is important, you have to set the tone!\"\\n\\nKevin de Bruyne and Manuel Akanji react to Man City\\'s #UCL win tonight.', truncated=False, entities={'hashtags': [{'text': 'UCL', 'indices': [116, 120]}], 'symbols': [], 'user_mentions': [], 'urls': []}, source='Twitter for Advertisers', source_url='https://twitter.com', in_reply_to_status_id=None, in_reply_to_status_id_str=None, in_reply_to_user_id=None, in_reply_to_user_id_str=None, in_reply_to_screen_name=None, author=User(_api=<tweepy.api.API object at 0x000001D5298F71C0>, _json={'id': 29930178, 'id_str': '29930178', 'name': 'SuperSport 🏆', 'screen_name': 'SuperSportTV', 'location': 'Africa', 'description': 'Join your World of Champions for all the latest sports news & updates', 'url': 'https://t.co/c5kSsvASy3', 'entities': {'url': {'urls': [{'url': 'https://t.co/c5kSsvASy3', 'expanded_url': 'http://www.supersport.com', 'display_url': 'supersport.com', 'indices': [0, 23]}]}, 'description': {'urls': []}}, 'protected': False, 'followers_count': 3112274, 'friends_count': 601, 'listed_count': 3548, 'created_at': 'Thu Apr 09 05:33:58 +0000 2009', 'favourites_count': 1932, 'utc_offset': None, 'time_zone': None, 'geo_enabled': True, 'verified': True, 'statuses_count': 338730, 'lang': None, 'contributors_enabled': False, 'is_translator': False, 'is_translation_enabled': False, 'profile_background_color': '000000', 'profile_background_image_url': 'http://abs.twimg.com/images/themes/theme4/bg.gif', 'profile_background_image_url_https': 'https://abs.twimg.com/images/themes/theme4/bg.gif', 'profile_background_tile': False, 'profile_image_url': 'http://pbs.twimg.com/profile_images/709394411168407552/p_5OEYc0_normal.jpg', 'profile_image_url_https': 'https://pbs.twimg.com/profile_images/709394411168407552/p_5OEYc0_normal.jpg', 'profile_banner_url': 'https://pbs.twimg.com/profile_banners/29930178/1659966693', 'profile_link_color': '0A1667', 'profile_sidebar_border_color': 'FFFFFF', 'profile_sidebar_fill_color': 'E9FBFB', 'profile_text_color': 'F91A28', 'profile_use_background_image': True, 'has_extended_profile': False, 'default_profile': False, 'default_profile_image': False, 'following': True, 'follow_request_sent': False, 'notifications': False, 'translator_type': 'none', 'withheld_in_countries': []}, id=29930178, id_str='29930178', name='SuperSport 🏆', screen_name='SuperSportTV', location='Africa', description='Join your World of Champions for all the latest sports news & updates', url='https://t.co/c5kSsvASy3', entities={'url': {'urls': [{'url': 'https://t.co/c5kSsvASy3', 'expanded_url': 'http://www.supersport.com', 'display_url': 'supersport.com', 'indices': [0, 23]}]}, 'description': {'urls': []}}, protected=False, followers_count=3112274, friends_count=601, listed_count=3548, created_at=datetime.datetime(2009, 4, 9, 5, 33, 58, tzinfo=datetime.timezone.utc), favourites_count=1932, utc_offset=None, time_zone=None, geo_enabled=True, verified=True, statuses_count=338730, lang=None, contributors_enabled=False, is_translator=False, is_translation_enabled=False, profile_background_color='000000', profile_background_image_url='http://abs.twimg.com/images/themes/theme4/bg.gif', profile_background_image_url_https='https://abs.twimg.com/images/themes/theme4/bg.gif', profile_background_tile=False, profile_image_url='http://pbs.twimg.com/profile_images/709394411168407552/p_5OEYc0_normal.jpg', profile_image_url_https='https://pbs.twimg.com/profile_images/709394411168407552/p_5OEYc0_normal.jpg', profile_banner_url='https://pbs.twimg.com/profile_banners/29930178/1659966693', profile_link_color='0A1667', profile_sidebar_border_color='FFFFFF', profile_sidebar_fill_color='E9FBFB', profile_text_color='F91A28', profile_use_background_image=True, has_extended_profile=False, default_profile=False, default_profile_image=False, following=True, follow_request_sent=False, notifications=False, translator_type='none', withheld_in_countries=[]), user=User(_api=<tweepy.api.API object at 0x000001D5298F71C0>, _json={'id': 29930178, 'id_str': '29930178', 'name': 'SuperSport 🏆', 'screen_name': 'SuperSportTV', 'location': 'Africa', 'description': 'Join your World of Champions for all the latest sports news & updates', 'url': 'https://t.co/c5kSsvASy3', 'entities': {'url': {'urls': [{'url': 'https://t.co/c5kSsvASy3', 'expanded_url': 'http://www.supersport.com', 'display_url': 'supersport.com', 'indices': [0, 23]}]}, 'description': {'urls': []}}, 'protected': False, 'followers_count': 3112274, 'friends_count': 601, 'listed_count': 3548, 'created_at': 'Thu Apr 09 05:33:58 +0000 2009', 'favourites_count': 1932, 'utc_offset': None, 'time_zone': None, 'geo_enabled': True, 'verified': True, 'statuses_count': 338730, 'lang': None, 'contributors_enabled': False, 'is_translator': False, 'is_translation_enabled': False, 'profile_background_color': '000000', 'profile_background_image_url': 'http://abs.twimg.com/images/themes/theme4/bg.gif', 'profile_background_image_url_https': 'https://abs.twimg.com/images/themes/theme4/bg.gif', 'profile_background_tile': False, 'profile_image_url': 'http://pbs.twimg.com/profile_images/709394411168407552/p_5OEYc0_normal.jpg', 'profile_image_url_https': 'https://pbs.twimg.com/profile_images/709394411168407552/p_5OEYc0_normal.jpg', 'profile_banner_url': 'https://pbs.twimg.com/profile_banners/29930178/1659966693', 'profile_link_color': '0A1667', 'profile_sidebar_border_color': 'FFFFFF', 'profile_sidebar_fill_color': 'E9FBFB', 'profile_text_color': 'F91A28', 'profile_use_background_image': True, 'has_extended_profile': False, 'default_profile': False, 'default_profile_image': False, 'following': True, 'follow_request_sent': False, 'notifications': False, 'translator_type': 'none', 'withheld_in_countries': []}, id=29930178, id_str='29930178', name='SuperSport 🏆', screen_name='SuperSportTV', location='Africa', description='Join your World of Champions for all the latest sports news & updates', url='https://t.co/c5kSsvASy3', entities={'url': {'urls': [{'url': 'https://t.co/c5kSsvASy3', 'expanded_url': 'http://www.supersport.com', 'display_url': 'supersport.com', 'indices': [0, 23]}]}, 'description': {'urls': []}}, protected=False, followers_count=3112274, friends_count=601, listed_count=3548, created_at=datetime.datetime(2009, 4, 9, 5, 33, 58, tzinfo=datetime.timezone.utc), favourites_count=1932, utc_offset=None, time_zone=None, geo_enabled=True, verified=True, statuses_count=338730, lang=None, contributors_enabled=False, is_translator=False, is_translation_enabled=False, profile_background_color='000000', profile_background_image_url='http://abs.twimg.com/images/themes/theme4/bg.gif', profile_background_image_url_https='https://abs.twimg.com/images/themes/theme4/bg.gif', profile_background_tile=False, profile_image_url='http://pbs.twimg.com/profile_images/709394411168407552/p_5OEYc0_normal.jpg', profile_image_url_https='https://pbs.twimg.com/profile_images/709394411168407552/p_5OEYc0_normal.jpg', profile_banner_url='https://pbs.twimg.com/profile_banners/29930178/1659966693', profile_link_color='0A1667', profile_sidebar_border_color='FFFFFF', profile_sidebar_fill_color='E9FBFB', profile_text_color='F91A28', profile_use_background_image=True, has_extended_profile=False, default_profile=False, default_profile_image=False, following=True, follow_request_sent=False, notifications=False, translator_type='none', withheld_in_countries=[]), geo=None, coordinates=None, place=None, contributors=None, is_quote_status=False, retweet_count=28, favorite_count=296, favorited=True, retweeted=True, lang='en')"
      ]
     },
     "execution_count": 54,
     "metadata": {},
     "output_type": "execute_result"
    }
   ],
   "source": [
    "api.create_favorite(status_tl.id)"
   ]
  },
  {
   "cell_type": "code",
   "execution_count": 60,
   "id": "65eea66a",
   "metadata": {},
   "outputs": [],
   "source": [
    "recent_mention = api.mentions_timeline()[0]"
   ]
  },
  {
   "cell_type": "code",
   "execution_count": 63,
   "id": "1e12abe2",
   "metadata": {},
   "outputs": [],
   "source": [
    "my_reply = api.update_status(status = f\"@{recent_mention.user.screen_name} Hello World!\",  in_reply_to_status_id =recent_mention.id)"
   ]
  },
  {
   "cell_type": "code",
   "execution_count": 65,
   "id": "40ca9717",
   "metadata": {},
   "outputs": [
    {
     "data": {
      "text/plain": [
       "Status(_api=<tweepy.api.API object at 0x000001D5298F71C0>, _json={'created_at': 'Wed Sep 07 09:45:07 +0000 2022', 'id': 1567448873391513603, 'id_str': '1567448873391513603', 'text': '@dav_zoid Hello World!', 'truncated': False, 'entities': {'hashtags': [], 'symbols': [], 'user_mentions': [{'screen_name': 'dav_zoid', 'name': 'Olatunji || Startups Designer', 'id': 1207620026251038720, 'id_str': '1207620026251038720', 'indices': [0, 9]}], 'urls': []}, 'source': '<a href=\"https://github.com/TaslimOwolarafe\" rel=\"nofollow\">TweetBotCatcher</a>', 'in_reply_to_status_id': 1567424715479711745, 'in_reply_to_status_id_str': '1567424715479711745', 'in_reply_to_user_id': 1207620026251038720, 'in_reply_to_user_id_str': '1207620026251038720', 'in_reply_to_screen_name': 'dav_zoid', 'user': {'id': 1153676762552963072, 'id_str': '1153676762552963072', 'name': 'tas-sama', 'screen_name': 'tasleemm_', 'location': '7.5629° N, 4.5200° E', 'description': 'Nothing to see here yet..', 'url': 'https://t.co/sg7UjOGJt4', 'entities': {'url': {'urls': [{'url': 'https://t.co/sg7UjOGJt4', 'expanded_url': 'https://github.com/TaslimOwolarafe', 'display_url': 'github.com/TaslimOwolarafe', 'indices': [0, 23]}]}, 'description': {'urls': []}}, 'protected': True, 'followers_count': 467, 'friends_count': 440, 'listed_count': 0, 'created_at': 'Tue Jul 23 14:42:29 +0000 2019', 'favourites_count': 10500, 'utc_offset': None, 'time_zone': None, 'geo_enabled': True, 'verified': False, 'statuses_count': 2546, 'lang': None, 'contributors_enabled': False, 'is_translator': False, 'is_translation_enabled': False, 'profile_background_color': 'F5F8FA', 'profile_background_image_url': None, 'profile_background_image_url_https': None, 'profile_background_tile': False, 'profile_image_url': 'http://pbs.twimg.com/profile_images/1490304022678491140/sUhnDBxH_normal.jpg', 'profile_image_url_https': 'https://pbs.twimg.com/profile_images/1490304022678491140/sUhnDBxH_normal.jpg', 'profile_banner_url': 'https://pbs.twimg.com/profile_banners/1153676762552963072/1612275236', 'profile_link_color': '1DA1F2', 'profile_sidebar_border_color': 'C0DEED', 'profile_sidebar_fill_color': 'DDEEF6', 'profile_text_color': '333333', 'profile_use_background_image': True, 'has_extended_profile': True, 'default_profile': True, 'default_profile_image': False, 'following': False, 'follow_request_sent': False, 'notifications': False, 'translator_type': 'none', 'withheld_in_countries': []}, 'geo': None, 'coordinates': None, 'place': None, 'contributors': None, 'is_quote_status': False, 'retweet_count': 0, 'favorite_count': 0, 'favorited': False, 'retweeted': False, 'lang': 'en'}, created_at=datetime.datetime(2022, 9, 7, 9, 45, 7, tzinfo=datetime.timezone.utc), id=1567448873391513603, id_str='1567448873391513603', text='@dav_zoid Hello World!', truncated=False, entities={'hashtags': [], 'symbols': [], 'user_mentions': [{'screen_name': 'dav_zoid', 'name': 'Olatunji || Startups Designer', 'id': 1207620026251038720, 'id_str': '1207620026251038720', 'indices': [0, 9]}], 'urls': []}, source='TweetBotCatcher', source_url='https://github.com/TaslimOwolarafe', in_reply_to_status_id=1567424715479711745, in_reply_to_status_id_str='1567424715479711745', in_reply_to_user_id=1207620026251038720, in_reply_to_user_id_str='1207620026251038720', in_reply_to_screen_name='dav_zoid', author=User(_api=<tweepy.api.API object at 0x000001D5298F71C0>, _json={'id': 1153676762552963072, 'id_str': '1153676762552963072', 'name': 'tas-sama', 'screen_name': 'tasleemm_', 'location': '7.5629° N, 4.5200° E', 'description': 'Nothing to see here yet..', 'url': 'https://t.co/sg7UjOGJt4', 'entities': {'url': {'urls': [{'url': 'https://t.co/sg7UjOGJt4', 'expanded_url': 'https://github.com/TaslimOwolarafe', 'display_url': 'github.com/TaslimOwolarafe', 'indices': [0, 23]}]}, 'description': {'urls': []}}, 'protected': True, 'followers_count': 467, 'friends_count': 440, 'listed_count': 0, 'created_at': 'Tue Jul 23 14:42:29 +0000 2019', 'favourites_count': 10500, 'utc_offset': None, 'time_zone': None, 'geo_enabled': True, 'verified': False, 'statuses_count': 2546, 'lang': None, 'contributors_enabled': False, 'is_translator': False, 'is_translation_enabled': False, 'profile_background_color': 'F5F8FA', 'profile_background_image_url': None, 'profile_background_image_url_https': None, 'profile_background_tile': False, 'profile_image_url': 'http://pbs.twimg.com/profile_images/1490304022678491140/sUhnDBxH_normal.jpg', 'profile_image_url_https': 'https://pbs.twimg.com/profile_images/1490304022678491140/sUhnDBxH_normal.jpg', 'profile_banner_url': 'https://pbs.twimg.com/profile_banners/1153676762552963072/1612275236', 'profile_link_color': '1DA1F2', 'profile_sidebar_border_color': 'C0DEED', 'profile_sidebar_fill_color': 'DDEEF6', 'profile_text_color': '333333', 'profile_use_background_image': True, 'has_extended_profile': True, 'default_profile': True, 'default_profile_image': False, 'following': False, 'follow_request_sent': False, 'notifications': False, 'translator_type': 'none', 'withheld_in_countries': []}, id=1153676762552963072, id_str='1153676762552963072', name='tas-sama', screen_name='tasleemm_', location='7.5629° N, 4.5200° E', description='Nothing to see here yet..', url='https://t.co/sg7UjOGJt4', entities={'url': {'urls': [{'url': 'https://t.co/sg7UjOGJt4', 'expanded_url': 'https://github.com/TaslimOwolarafe', 'display_url': 'github.com/TaslimOwolarafe', 'indices': [0, 23]}]}, 'description': {'urls': []}}, protected=True, followers_count=467, friends_count=440, listed_count=0, created_at=datetime.datetime(2019, 7, 23, 14, 42, 29, tzinfo=datetime.timezone.utc), favourites_count=10500, utc_offset=None, time_zone=None, geo_enabled=True, verified=False, statuses_count=2546, lang=None, contributors_enabled=False, is_translator=False, is_translation_enabled=False, profile_background_color='F5F8FA', profile_background_image_url=None, profile_background_image_url_https=None, profile_background_tile=False, profile_image_url='http://pbs.twimg.com/profile_images/1490304022678491140/sUhnDBxH_normal.jpg', profile_image_url_https='https://pbs.twimg.com/profile_images/1490304022678491140/sUhnDBxH_normal.jpg', profile_banner_url='https://pbs.twimg.com/profile_banners/1153676762552963072/1612275236', profile_link_color='1DA1F2', profile_sidebar_border_color='C0DEED', profile_sidebar_fill_color='DDEEF6', profile_text_color='333333', profile_use_background_image=True, has_extended_profile=True, default_profile=True, default_profile_image=False, following=False, follow_request_sent=False, notifications=False, translator_type='none', withheld_in_countries=[]), user=User(_api=<tweepy.api.API object at 0x000001D5298F71C0>, _json={'id': 1153676762552963072, 'id_str': '1153676762552963072', 'name': 'tas-sama', 'screen_name': 'tasleemm_', 'location': '7.5629° N, 4.5200° E', 'description': 'Nothing to see here yet..', 'url': 'https://t.co/sg7UjOGJt4', 'entities': {'url': {'urls': [{'url': 'https://t.co/sg7UjOGJt4', 'expanded_url': 'https://github.com/TaslimOwolarafe', 'display_url': 'github.com/TaslimOwolarafe', 'indices': [0, 23]}]}, 'description': {'urls': []}}, 'protected': True, 'followers_count': 467, 'friends_count': 440, 'listed_count': 0, 'created_at': 'Tue Jul 23 14:42:29 +0000 2019', 'favourites_count': 10500, 'utc_offset': None, 'time_zone': None, 'geo_enabled': True, 'verified': False, 'statuses_count': 2546, 'lang': None, 'contributors_enabled': False, 'is_translator': False, 'is_translation_enabled': False, 'profile_background_color': 'F5F8FA', 'profile_background_image_url': None, 'profile_background_image_url_https': None, 'profile_background_tile': False, 'profile_image_url': 'http://pbs.twimg.com/profile_images/1490304022678491140/sUhnDBxH_normal.jpg', 'profile_image_url_https': 'https://pbs.twimg.com/profile_images/1490304022678491140/sUhnDBxH_normal.jpg', 'profile_banner_url': 'https://pbs.twimg.com/profile_banners/1153676762552963072/1612275236', 'profile_link_color': '1DA1F2', 'profile_sidebar_border_color': 'C0DEED', 'profile_sidebar_fill_color': 'DDEEF6', 'profile_text_color': '333333', 'profile_use_background_image': True, 'has_extended_profile': True, 'default_profile': True, 'default_profile_image': False, 'following': False, 'follow_request_sent': False, 'notifications': False, 'translator_type': 'none', 'withheld_in_countries': []}, id=1153676762552963072, id_str='1153676762552963072', name='tas-sama', screen_name='tasleemm_', location='7.5629° N, 4.5200° E', description='Nothing to see here yet..', url='https://t.co/sg7UjOGJt4', entities={'url': {'urls': [{'url': 'https://t.co/sg7UjOGJt4', 'expanded_url': 'https://github.com/TaslimOwolarafe', 'display_url': 'github.com/TaslimOwolarafe', 'indices': [0, 23]}]}, 'description': {'urls': []}}, protected=True, followers_count=467, friends_count=440, listed_count=0, created_at=datetime.datetime(2019, 7, 23, 14, 42, 29, tzinfo=datetime.timezone.utc), favourites_count=10500, utc_offset=None, time_zone=None, geo_enabled=True, verified=False, statuses_count=2546, lang=None, contributors_enabled=False, is_translator=False, is_translation_enabled=False, profile_background_color='F5F8FA', profile_background_image_url=None, profile_background_image_url_https=None, profile_background_tile=False, profile_image_url='http://pbs.twimg.com/profile_images/1490304022678491140/sUhnDBxH_normal.jpg', profile_image_url_https='https://pbs.twimg.com/profile_images/1490304022678491140/sUhnDBxH_normal.jpg', profile_banner_url='https://pbs.twimg.com/profile_banners/1153676762552963072/1612275236', profile_link_color='1DA1F2', profile_sidebar_border_color='C0DEED', profile_sidebar_fill_color='DDEEF6', profile_text_color='333333', profile_use_background_image=True, has_extended_profile=True, default_profile=True, default_profile_image=False, following=False, follow_request_sent=False, notifications=False, translator_type='none', withheld_in_countries=[]), geo=None, coordinates=None, place=None, contributors=None, is_quote_status=False, retweet_count=0, favorite_count=0, favorited=False, retweeted=False, lang='en')"
      ]
     },
     "execution_count": 65,
     "metadata": {},
     "output_type": "execute_result"
    }
   ],
   "source": [
    "my_reply.destroy()"
   ]
  },
  {
   "cell_type": "code",
   "execution_count": null,
   "id": "f92cfcaf",
   "metadata": {},
   "outputs": [],
   "source": []
  }
 ],
 "metadata": {
  "kernelspec": {
   "display_name": "twitterVenv",
   "language": "python",
   "name": "twittervenv"
  },
  "language_info": {
   "codemirror_mode": {
    "name": "ipython",
    "version": 3
   },
   "file_extension": ".py",
   "mimetype": "text/x-python",
   "name": "python",
   "nbconvert_exporter": "python",
   "pygments_lexer": "ipython3",
   "version": "3.10.1"
  }
 },
 "nbformat": 4,
 "nbformat_minor": 5
}
